{
 "cells": [
  {
   "cell_type": "markdown",
   "metadata": {},
   "source": [
    "### Enoncé:\n",
    "- a1: Expliquer la variable après rupture école en fonction des variables sexe, age, région, état civil, N-educatif, membre_famille, Revenu_famille, Revenu_mensuel, redoublant, prob_enseignant, Aide_école, Rq_comportement, Relation_parent, niveau educatif père, niveau éducatif mère, sign_école, endroit_fréquent, ph_famille, Ricule_prof et Ricule collègue.\n",
    "- a2: Déterminer la qualité du modèle.\n",
    "- b1: Expliquer la variable sensation après rupture école en fonction des variables sexe, age, région, état civil, N-educatif, membre_famille, Revenu_famille, Revenu_mensuel, redoublant, prob_enseignant, Aide_école, Rq_comportement, Relation_parent, niveau educatif père, niveau éducatif mère, sign_école, endroit_fréquent, ph_famille, Ricule_prof et Ricule collègue.\n",
    "- b2: Déterminer la qualité du modèle.\n",
    "- a3: Expliquer la variable violence en fonction des variables sexe, age, région, état civil, N-educatif, membre_famille, Revenu_famille, Revenu_mensuel, redoublant, prob_enseignant, Aide_école, Rq_comportement, Relation_parent, niveau educatif père, niveau éducatif mère, sign_école, endroit_fréquent, ph_famille, Ricule_prof et Ricule collègue.\n",
    "- b3: Déterminer la qualité du modèle."
   ]
  }
 ],
 "metadata": {
  "kernelspec": {
   "display_name": "R",
   "language": "R",
   "name": "ir"
  },
  "language_info": {
   "name": "R"
  }
 },
 "nbformat": 4,
 "nbformat_minor": 2
}
