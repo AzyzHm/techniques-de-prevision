{
 "cells": [
  {
   "cell_type": "markdown",
   "metadata": {},
   "source": [
    "### Enoncé:\n",
    "- a1: Expliquer la variable après rupture école en fonction des variables sexe, age, région, état civil, N-educatif, membre_famille, Revenu_famille, Revenu_mensuel, redoublant, prob_enseignant, Aide_école, Rq_comportement, Relation_parent, niveau educatif père, niveau éducatif mère, sign_école, endroit_fréquent, ph_famille, Ricule_prof et Ricule collègue.\n",
    "- b1: Déterminer la qualité du modèle.\n",
    "- a2: Expliquer la variable sensation après rupture école en fonction des variables sexe, age, région, état civil, N-educatif, membre_famille, Revenu_famille, Revenu_mensuel, redoublant, prob_enseignant, Aide_école, Rq_comportement, Relation_parent, niveau educatif père, niveau éducatif mère, sign_école, endroit_fréquent, ph_famille, Ricule_prof et Ricule collègue.\n",
    "- b2: Déterminer la qualité du modèle.\n",
    "- a3: Expliquer la variable violence en fonction des variables sexe, age, région, état civil, N-educatif, membre_famille, Revenu_famille, Revenu_mensuel, redoublant, prob_enseignant, Aide_école, Rq_comportement, Relation_parent, niveau educatif père, niveau éducatif mère, sign_école, endroit_fréquent, ph_famille, Ricule_prof et Ricule collègue.\n",
    "- b3: Déterminer la qualité du modèle."
   ]
  },
  {
   "cell_type": "markdown",
   "metadata": {},
   "source": [
    "### Chargement des bibliothèques nécessaires et des données:"
   ]
  },
  {
   "cell_type": "code",
   "execution_count": 5,
   "metadata": {
    "vscode": {
     "languageId": "r"
    }
   },
   "outputs": [
    {
     "name": "stderr",
     "output_type": "stream",
     "text": [
      "Warning message:\n",
      "\"package 'readxl' is in use and will not be installed\"\n"
     ]
    },
    {
     "data": {
      "text/html": [
       "<table class=\"dataframe\">\n",
       "<caption>A tibble: 6 × 24</caption>\n",
       "<thead>\n",
       "\t<tr><th scope=col>ID</th><th scope=col>sexe</th><th scope=col>Region</th><th scope=col>Age</th><th scope=col>etat_civil</th><th scope=col>N_educatif</th><th scope=col>Membre_famille</th><th scope=col>Revenu_famille</th><th scope=col>Revenu_Mensuelle</th><th scope=col>Redoublant</th><th scope=col>⋯</th><th scope=col>Niveau_educ_pere</th><th scope=col>Niveau_educ_mere</th><th scope=col>Sign_ecole</th><th scope=col>Endroit_freq</th><th scope=col>Ph_famille</th><th scope=col>Ricule_Prof</th><th scope=col>Ricule_collegue</th><th scope=col>Sensation_apres_ecole</th><th scope=col>Apres_repture_ecole</th><th scope=col>Violence</th></tr>\n",
       "\t<tr><th scope=col>&lt;dbl&gt;</th><th scope=col>&lt;dbl&gt;</th><th scope=col>&lt;dbl&gt;</th><th scope=col>&lt;dbl&gt;</th><th scope=col>&lt;dbl&gt;</th><th scope=col>&lt;dbl&gt;</th><th scope=col>&lt;dbl&gt;</th><th scope=col>&lt;dbl&gt;</th><th scope=col>&lt;dbl&gt;</th><th scope=col>&lt;dbl&gt;</th><th scope=col>⋯</th><th scope=col>&lt;dbl&gt;</th><th scope=col>&lt;dbl&gt;</th><th scope=col>&lt;dbl&gt;</th><th scope=col>&lt;dbl&gt;</th><th scope=col>&lt;dbl&gt;</th><th scope=col>&lt;dbl&gt;</th><th scope=col>&lt;dbl&gt;</th><th scope=col>&lt;dbl&gt;</th><th scope=col>&lt;dbl&gt;</th><th scope=col>&lt;dbl&gt;</th></tr>\n",
       "</thead>\n",
       "<tbody>\n",
       "\t<tr><td>1</td><td>0</td><td>1</td><td>2</td><td>1</td><td>3</td><td> 5</td><td>0</td><td>  0</td><td>1</td><td>⋯</td><td>2</td><td>2</td><td>1</td><td>1</td><td>1</td><td>0</td><td>1</td><td>1</td><td>1</td><td>1</td></tr>\n",
       "\t<tr><td>2</td><td>0</td><td>1</td><td>4</td><td>2</td><td>3</td><td> 5</td><td>0</td><td>  0</td><td>1</td><td>⋯</td><td>2</td><td>1</td><td>1</td><td>2</td><td>2</td><td>1</td><td>1</td><td>1</td><td>1</td><td>1</td></tr>\n",
       "\t<tr><td>3</td><td>0</td><td>1</td><td>4</td><td>2</td><td>3</td><td>11</td><td>0</td><td>100</td><td>1</td><td>⋯</td><td>2</td><td>1</td><td>2</td><td>1</td><td>3</td><td>0</td><td>0</td><td>1</td><td>2</td><td>0</td></tr>\n",
       "\t<tr><td>5</td><td>0</td><td>1</td><td>3</td><td>2</td><td>3</td><td> 4</td><td>0</td><td>  0</td><td>1</td><td>⋯</td><td>1</td><td>1</td><td>1</td><td>1</td><td>2</td><td>1</td><td>1</td><td>3</td><td>3</td><td>1</td></tr>\n",
       "\t<tr><td>8</td><td>0</td><td>1</td><td>1</td><td>1</td><td>3</td><td> 5</td><td>1</td><td>  0</td><td>1</td><td>⋯</td><td>3</td><td>3</td><td>3</td><td>4</td><td>4</td><td>0</td><td>0</td><td>3</td><td>2</td><td>1</td></tr>\n",
       "\t<tr><td>9</td><td>0</td><td>1</td><td>4</td><td>3</td><td>3</td><td> 4</td><td>1</td><td>100</td><td>0</td><td>⋯</td><td>2</td><td>3</td><td>4</td><td>1</td><td>4</td><td>1</td><td>1</td><td>1</td><td>2</td><td>0</td></tr>\n",
       "</tbody>\n",
       "</table>\n"
      ],
      "text/latex": [
       "A tibble: 6 × 24\n",
       "\\begin{tabular}{lllllllllllllllllllll}\n",
       " ID & sexe & Region & Age & etat\\_civil & N\\_educatif & Membre\\_famille & Revenu\\_famille & Revenu\\_Mensuelle & Redoublant & ⋯ & Niveau\\_educ\\_pere & Niveau\\_educ\\_mere & Sign\\_ecole & Endroit\\_freq & Ph\\_famille & Ricule\\_Prof & Ricule\\_collegue & Sensation\\_apres\\_ecole & Apres\\_repture\\_ecole & Violence\\\\\n",
       " <dbl> & <dbl> & <dbl> & <dbl> & <dbl> & <dbl> & <dbl> & <dbl> & <dbl> & <dbl> & ⋯ & <dbl> & <dbl> & <dbl> & <dbl> & <dbl> & <dbl> & <dbl> & <dbl> & <dbl> & <dbl>\\\\\n",
       "\\hline\n",
       "\t 1 & 0 & 1 & 2 & 1 & 3 &  5 & 0 &   0 & 1 & ⋯ & 2 & 2 & 1 & 1 & 1 & 0 & 1 & 1 & 1 & 1\\\\\n",
       "\t 2 & 0 & 1 & 4 & 2 & 3 &  5 & 0 &   0 & 1 & ⋯ & 2 & 1 & 1 & 2 & 2 & 1 & 1 & 1 & 1 & 1\\\\\n",
       "\t 3 & 0 & 1 & 4 & 2 & 3 & 11 & 0 & 100 & 1 & ⋯ & 2 & 1 & 2 & 1 & 3 & 0 & 0 & 1 & 2 & 0\\\\\n",
       "\t 5 & 0 & 1 & 3 & 2 & 3 &  4 & 0 &   0 & 1 & ⋯ & 1 & 1 & 1 & 1 & 2 & 1 & 1 & 3 & 3 & 1\\\\\n",
       "\t 8 & 0 & 1 & 1 & 1 & 3 &  5 & 1 &   0 & 1 & ⋯ & 3 & 3 & 3 & 4 & 4 & 0 & 0 & 3 & 2 & 1\\\\\n",
       "\t 9 & 0 & 1 & 4 & 3 & 3 &  4 & 1 & 100 & 0 & ⋯ & 2 & 3 & 4 & 1 & 4 & 1 & 1 & 1 & 2 & 0\\\\\n",
       "\\end{tabular}\n"
      ],
      "text/markdown": [
       "\n",
       "A tibble: 6 × 24\n",
       "\n",
       "| ID &lt;dbl&gt; | sexe &lt;dbl&gt; | Region &lt;dbl&gt; | Age &lt;dbl&gt; | etat_civil &lt;dbl&gt; | N_educatif &lt;dbl&gt; | Membre_famille &lt;dbl&gt; | Revenu_famille &lt;dbl&gt; | Revenu_Mensuelle &lt;dbl&gt; | Redoublant &lt;dbl&gt; | ⋯ ⋯ | Niveau_educ_pere &lt;dbl&gt; | Niveau_educ_mere &lt;dbl&gt; | Sign_ecole &lt;dbl&gt; | Endroit_freq &lt;dbl&gt; | Ph_famille &lt;dbl&gt; | Ricule_Prof &lt;dbl&gt; | Ricule_collegue &lt;dbl&gt; | Sensation_apres_ecole &lt;dbl&gt; | Apres_repture_ecole &lt;dbl&gt; | Violence &lt;dbl&gt; |\n",
       "|---|---|---|---|---|---|---|---|---|---|---|---|---|---|---|---|---|---|---|---|---|\n",
       "| 1 | 0 | 1 | 2 | 1 | 3 |  5 | 0 |   0 | 1 | ⋯ | 2 | 2 | 1 | 1 | 1 | 0 | 1 | 1 | 1 | 1 |\n",
       "| 2 | 0 | 1 | 4 | 2 | 3 |  5 | 0 |   0 | 1 | ⋯ | 2 | 1 | 1 | 2 | 2 | 1 | 1 | 1 | 1 | 1 |\n",
       "| 3 | 0 | 1 | 4 | 2 | 3 | 11 | 0 | 100 | 1 | ⋯ | 2 | 1 | 2 | 1 | 3 | 0 | 0 | 1 | 2 | 0 |\n",
       "| 5 | 0 | 1 | 3 | 2 | 3 |  4 | 0 |   0 | 1 | ⋯ | 1 | 1 | 1 | 1 | 2 | 1 | 1 | 3 | 3 | 1 |\n",
       "| 8 | 0 | 1 | 1 | 1 | 3 |  5 | 1 |   0 | 1 | ⋯ | 3 | 3 | 3 | 4 | 4 | 0 | 0 | 3 | 2 | 1 |\n",
       "| 9 | 0 | 1 | 4 | 3 | 3 |  4 | 1 | 100 | 0 | ⋯ | 2 | 3 | 4 | 1 | 4 | 1 | 1 | 1 | 2 | 0 |\n",
       "\n"
      ],
      "text/plain": [
       "  ID sexe Region Age etat_civil N_educatif Membre_famille Revenu_famille\n",
       "1 1  0    1      2   1          3           5             0             \n",
       "2 2  0    1      4   2          3           5             0             \n",
       "3 3  0    1      4   2          3          11             0             \n",
       "4 5  0    1      3   2          3           4             0             \n",
       "5 8  0    1      1   1          3           5             1             \n",
       "6 9  0    1      4   3          3           4             1             \n",
       "  Revenu_Mensuelle Redoublant ⋯ Niveau_educ_pere Niveau_educ_mere Sign_ecole\n",
       "1   0              1          ⋯ 2                2                1         \n",
       "2   0              1          ⋯ 2                1                1         \n",
       "3 100              1          ⋯ 2                1                2         \n",
       "4   0              1          ⋯ 1                1                1         \n",
       "5   0              1          ⋯ 3                3                3         \n",
       "6 100              0          ⋯ 2                3                4         \n",
       "  Endroit_freq Ph_famille Ricule_Prof Ricule_collegue Sensation_apres_ecole\n",
       "1 1            1          0           1               1                    \n",
       "2 2            2          1           1               1                    \n",
       "3 1            3          0           0               1                    \n",
       "4 1            2          1           1               3                    \n",
       "5 4            4          0           0               3                    \n",
       "6 1            4          1           1               1                    \n",
       "  Apres_repture_ecole Violence\n",
       "1 1                   1       \n",
       "2 1                   1       \n",
       "3 2                   0       \n",
       "4 3                   1       \n",
       "5 2                   1       \n",
       "6 2                   0       "
      ]
     },
     "metadata": {},
     "output_type": "display_data"
    }
   ],
   "source": [
    "install.packages(\"readxl\")\n",
    "library(readxl)\n",
    "df <- read_excel(\"data/exercice1.xlsx\", sheet = \"Feuil1\")\n",
    "head(df)"
   ]
  },
  {
   "cell_type": "markdown",
   "metadata": {},
   "source": [
    "### Modélisation avec la variable <code>après_rupture_école</code>:"
   ]
  },
  {
   "cell_type": "code",
   "execution_count": 8,
   "metadata": {
    "vscode": {
     "languageId": "r"
    }
   },
   "outputs": [
    {
     "data": {
      "text/plain": [
       "\n",
       "Call:\n",
       "lm(formula = Apres_repture_ecole ~ sexe + Age + Region + etat_civil + \n",
       "    N_educatif + Membre_famille + Revenu_famille + Revenu_Mensuelle + \n",
       "    Redoublant + Prob_Enseignat + Aide_ecole + Rq_Comprtement + \n",
       "    Relat_Parent + Niveau_educ_pere + Niveau_educ_mere + Sign_ecole + \n",
       "    Endroit_freq + Ph_famille + Ricule_Prof + Ricule_collegue, \n",
       "    data = df)\n",
       "\n",
       "Residuals:\n",
       "     Min       1Q   Median       3Q      Max \n",
       "-1.95724 -0.40274 -0.03964  0.34092  1.71648 \n",
       "\n",
       "Coefficients:\n",
       "                   Estimate Std. Error t value Pr(>|t|)   \n",
       "(Intercept)       0.8050760  0.9180725   0.877  0.38357   \n",
       "sexe              0.6433079  0.5636880   1.141  0.25771   \n",
       "Age               0.4164869  0.1219951   3.414  0.00108 **\n",
       "Region           -0.1357776  0.2516919  -0.539  0.59131   \n",
       "etat_civil        0.2107991  0.2013738   1.047  0.29884   \n",
       "N_educatif       -0.0981213  0.1713948  -0.572  0.56885   \n",
       "Membre_famille    0.0354193  0.0488806   0.725  0.47114   \n",
       "Revenu_famille    0.1837504  0.2471343   0.744  0.45969   \n",
       "Revenu_Mensuelle  0.0002230  0.0004607   0.484  0.62986   \n",
       "Redoublant       -0.1860165  0.2584733  -0.720  0.47416   \n",
       "Prob_Enseignat   -0.0134424  0.2380331  -0.056  0.95513   \n",
       "Aide_ecole        0.0564537  0.0709207   0.796  0.42876   \n",
       "Rq_Comprtement    0.0354290  0.1156199   0.306  0.76020   \n",
       "Relat_Parent      0.0837638  0.1700154   0.493  0.62380   \n",
       "Niveau_educ_pere -0.0596144  0.1835917  -0.325  0.74638   \n",
       "Niveau_educ_mere  0.0193731  0.1752100   0.111  0.91228   \n",
       "Sign_ecole        0.0193283  0.1035789   0.187  0.85252   \n",
       "Endroit_freq     -0.0402052  0.0614101  -0.655  0.51484   \n",
       "Ph_famille        0.0069534  0.0991174   0.070  0.94427   \n",
       "Ricule_Prof      -0.2067226  0.2652350  -0.779  0.43841   \n",
       "Ricule_collegue  -0.1191752  0.2626285  -0.454  0.65141   \n",
       "---\n",
       "Signif. codes:  0 '***' 0.001 '**' 0.01 '*' 0.05 '.' 0.1 ' ' 1\n",
       "\n",
       "Residual standard error: 0.8197 on 69 degrees of freedom\n",
       "  (1 observation deleted due to missingness)\n",
       "Multiple R-squared:  0.4711,\tAdjusted R-squared:  0.3178 \n",
       "F-statistic: 3.073 on 20 and 69 DF,  p-value: 0.0002843\n"
      ]
     },
     "metadata": {},
     "output_type": "display_data"
    }
   ],
   "source": [
    "modele_a1 <- lm(Apres_repture_ecole ~ sexe + Age + Region + etat_civil + N_educatif + \n",
    "                Membre_famille + Revenu_famille + Revenu_Mensuelle + Redoublant + \n",
    "                Prob_Enseignat + Aide_ecole + Rq_Comprtement + Relat_Parent + \n",
    "                Niveau_educ_pere + Niveau_educ_mere + Sign_ecole + \n",
    "                Endroit_freq + Ph_famille + Ricule_Prof + Ricule_collegue, data=df)\n",
    "\n",
    "summary(modele_a1)"
   ]
  },
  {
   "cell_type": "markdown",
   "metadata": {},
   "source": [
    "- La variable <code>Age</code> montre une significativité statistique **(p-valeur < 0,05)** avec un effet positif sur <code>Apres_repture_ecole</code>.\n",
    "\n",
    "- Les autres variables n'ont pas de p-valeur significative, ce qui signifie qu'elles n'ont pas un impact statistiquement significatif sur la variable dépendante dans ce modèle."
   ]
  },
  {
   "cell_type": "code",
   "execution_count": 9,
   "metadata": {
    "vscode": {
     "languageId": "r"
    }
   },
   "outputs": [
    {
     "name": "stdout",
     "output_type": "stream",
     "text": [
      "R-squared: 0.4710684 \n",
      "Adjusted R-squared: 0.3177549 \n"
     ]
    },
    {
     "data": {
      "text/html": [
       "<style>\n",
       ".dl-inline {width: auto; margin:0; padding: 0}\n",
       ".dl-inline>dt, .dl-inline>dd {float: none; width: auto; display: inline-block}\n",
       ".dl-inline>dt::after {content: \":\\0020\"; padding-right: .5ex}\n",
       ".dl-inline>dt:not(:first-of-type) {padding-left: .5ex}\n",
       "</style><dl class=dl-inline><dt>(Intercept)</dt><dd>0.805076046566073</dd><dt>sexe</dt><dd>0.643307946821103</dd><dt>Age</dt><dd>0.41648686328296</dd><dt>Region</dt><dd>-0.135777630767762</dd><dt>etat_civil</dt><dd>0.210799100658894</dd><dt>N_educatif</dt><dd>-0.0981212983583477</dd><dt>Membre_famille</dt><dd>0.0354192774439535</dd><dt>Revenu_famille</dt><dd>0.183750406614906</dd><dt>Revenu_Mensuelle</dt><dd>0.000223034970338703</dd><dt>Redoublant</dt><dd>-0.186016521691472</dd><dt>Prob_Enseignat</dt><dd>-0.0134423780115048</dd><dt>Aide_ecole</dt><dd>0.056453679438777</dd><dt>Rq_Comprtement</dt><dd>0.0354290424334099</dd><dt>Relat_Parent</dt><dd>0.0837638157261135</dd><dt>Niveau_educ_pere</dt><dd>-0.0596144492878856</dd><dt>Niveau_educ_mere</dt><dd>0.0193730549900102</dd><dt>Sign_ecole</dt><dd>0.0193282795905088</dd><dt>Endroit_freq</dt><dd>-0.0402051745155089</dd><dt>Ph_famille</dt><dd>0.00695344214096953</dd><dt>Ricule_Prof</dt><dd>-0.206722594322943</dd><dt>Ricule_collegue</dt><dd>-0.119175246154178</dd></dl>\n"
      ],
      "text/latex": [
       "\\begin{description*}\n",
       "\\item[(Intercept)] 0.805076046566073\n",
       "\\item[sexe] 0.643307946821103\n",
       "\\item[Age] 0.41648686328296\n",
       "\\item[Region] -0.135777630767762\n",
       "\\item[etat\\textbackslash{}\\_civil] 0.210799100658894\n",
       "\\item[N\\textbackslash{}\\_educatif] -0.0981212983583477\n",
       "\\item[Membre\\textbackslash{}\\_famille] 0.0354192774439535\n",
       "\\item[Revenu\\textbackslash{}\\_famille] 0.183750406614906\n",
       "\\item[Revenu\\textbackslash{}\\_Mensuelle] 0.000223034970338703\n",
       "\\item[Redoublant] -0.186016521691472\n",
       "\\item[Prob\\textbackslash{}\\_Enseignat] -0.0134423780115048\n",
       "\\item[Aide\\textbackslash{}\\_ecole] 0.056453679438777\n",
       "\\item[Rq\\textbackslash{}\\_Comprtement] 0.0354290424334099\n",
       "\\item[Relat\\textbackslash{}\\_Parent] 0.0837638157261135\n",
       "\\item[Niveau\\textbackslash{}\\_educ\\textbackslash{}\\_pere] -0.0596144492878856\n",
       "\\item[Niveau\\textbackslash{}\\_educ\\textbackslash{}\\_mere] 0.0193730549900102\n",
       "\\item[Sign\\textbackslash{}\\_ecole] 0.0193282795905088\n",
       "\\item[Endroit\\textbackslash{}\\_freq] -0.0402051745155089\n",
       "\\item[Ph\\textbackslash{}\\_famille] 0.00695344214096953\n",
       "\\item[Ricule\\textbackslash{}\\_Prof] -0.206722594322943\n",
       "\\item[Ricule\\textbackslash{}\\_collegue] -0.119175246154178\n",
       "\\end{description*}\n"
      ],
      "text/markdown": [
       "(Intercept)\n",
       ":   0.805076046566073sexe\n",
       ":   0.643307946821103Age\n",
       ":   0.41648686328296Region\n",
       ":   -0.135777630767762etat_civil\n",
       ":   0.210799100658894N_educatif\n",
       ":   -0.0981212983583477Membre_famille\n",
       ":   0.0354192774439535Revenu_famille\n",
       ":   0.183750406614906Revenu_Mensuelle\n",
       ":   0.000223034970338703Redoublant\n",
       ":   -0.186016521691472Prob_Enseignat\n",
       ":   -0.0134423780115048Aide_ecole\n",
       ":   0.056453679438777Rq_Comprtement\n",
       ":   0.0354290424334099Relat_Parent\n",
       ":   0.0837638157261135Niveau_educ_pere\n",
       ":   -0.0596144492878856Niveau_educ_mere\n",
       ":   0.0193730549900102Sign_ecole\n",
       ":   0.0193282795905088Endroit_freq\n",
       ":   -0.0402051745155089Ph_famille\n",
       ":   0.00695344214096953Ricule_Prof\n",
       ":   -0.206722594322943Ricule_collegue\n",
       ":   -0.119175246154178\n",
       "\n"
      ],
      "text/plain": [
       "     (Intercept)             sexe              Age           Region \n",
       "     0.805076047      0.643307947      0.416486863     -0.135777631 \n",
       "      etat_civil       N_educatif   Membre_famille   Revenu_famille \n",
       "     0.210799101     -0.098121298      0.035419277      0.183750407 \n",
       "Revenu_Mensuelle       Redoublant   Prob_Enseignat       Aide_ecole \n",
       "     0.000223035     -0.186016522     -0.013442378      0.056453679 \n",
       "  Rq_Comprtement     Relat_Parent Niveau_educ_pere Niveau_educ_mere \n",
       "     0.035429042      0.083763816     -0.059614449      0.019373055 \n",
       "      Sign_ecole     Endroit_freq       Ph_famille      Ricule_Prof \n",
       "     0.019328280     -0.040205175      0.006953442     -0.206722594 \n",
       " Ricule_collegue \n",
       "    -0.119175246 "
      ]
     },
     "metadata": {},
     "output_type": "display_data"
    },
    {
     "data": {
      "image/png": "[encoded data removed]",
      "text/plain": [
       "Plot with title \"\""
      ]
     },
     "metadata": {
      "image/png": {
       "height": 420,
       "width": 420
      }
     },
     "output_type": "display_data"
    }
   ],
   "source": [
    "# Afficher les diagnostics du modèle\n",
    "par(mfrow=c(2,2))\n",
    "plot(modele_a1)\n",
    "\n",
    "# Afficher R² et ajusté R²\n",
    "cat(\"R-squared:\", summary(modele_a1)$r.squared, \"\\n\")\n",
    "cat(\"Adjusted R-squared:\", summary(modele_a1)$adj.r.squared, \"\\n\")\n",
    "\n",
    "# Afficher les coefficients du modèle\n",
    "coefficients(modele_a1)"
   ]
  },
  {
   "cell_type": "markdown",
   "metadata": {},
   "source": [
    "##### Plots de diagnostics:\n",
    "1. **Residuals vs Fitted:** Aucun motif particulier dans les résidus, suggérant que l'hypothèse de linéarité est valide.\n",
    "\n",
    "2. **Q-Q Plot:** Les points suivent approximativement une ligne droite, ce qui indique que les résidus suivent une distribution normale.\n",
    "\n",
    "3. **Scale-Location:** Vérification de l'homoscedasticité. La ligne horizontale signifie que l'erreur résiduelle est constante à travers les valeurs ajustées.\n",
    "\n",
    "3. **Residuals vs Leverage:** Aucun point particulièrement influent observé qui aurait un effet disproportionné sur le modèle.\n",
    "\n",
    "> le modèle indique que <code>Age</code> a un impact significatif sur <code>Apres_repture_ecole</code>, tandis que les autres variables ne semblent pas contribuer de manière significative. La qualité globale du modèle est modérée, expliquant environ **47%** de la variance de la variable dépendante."
   ]
  },
  {
   "cell_type": "markdown",
   "metadata": {},
   "source": [
    "### Modélisation avec la variable <code>Sensation_apres_ecole</code>:"
   ]
  },
  {
   "cell_type": "code",
   "execution_count": 10,
   "metadata": {
    "vscode": {
     "languageId": "r"
    }
   },
   "outputs": [
    {
     "data": {
      "text/plain": [
       "\n",
       "Call:\n",
       "lm(formula = Sensation_apres_ecole ~ sexe + Age + Region + etat_civil + \n",
       "    N_educatif + Membre_famille + Revenu_famille + Revenu_Mensuelle + \n",
       "    Redoublant + Prob_Enseignat + Aide_ecole + Rq_Comprtement + \n",
       "    Relat_Parent + Niveau_educ_pere + Niveau_educ_mere + Sign_ecole + \n",
       "    Endroit_freq + Ph_famille + Ricule_Prof + Ricule_collegue, \n",
       "    data = df)\n",
       "\n",
       "Residuals:\n",
       "    Min      1Q  Median      3Q     Max \n",
       "-1.2914 -0.5978 -0.0692  0.6517  1.4115 \n",
       "\n",
       "Coefficients:\n",
       "                   Estimate Std. Error t value Pr(>|t|)  \n",
       "(Intercept)       2.2847725  0.9001332   2.538   0.0134 *\n",
       "sexe              0.4372982  0.5526735   0.791   0.4315  \n",
       "Age               0.0945831  0.1196112   0.791   0.4318  \n",
       "Region           -0.1875246  0.2467738  -0.760   0.4499  \n",
       "etat_civil       -0.1038373  0.1974389  -0.526   0.6006  \n",
       "N_educatif       -0.2129667  0.1680457  -1.267   0.2093  \n",
       "Membre_famille   -0.0032068  0.0479254  -0.067   0.9468  \n",
       "Revenu_famille   -0.0775485  0.2423052  -0.320   0.7499  \n",
       "Revenu_Mensuelle  0.0002238  0.0004517   0.495   0.6219  \n",
       "Redoublant        0.3176301  0.2534227   1.253   0.2143  \n",
       "Prob_Enseignat    0.3078381  0.2333818   1.319   0.1915  \n",
       "Aide_ecole        0.0526439  0.0695349   0.757   0.4516  \n",
       "Rq_Comprtement    0.0038609  0.1133606   0.034   0.9729  \n",
       "Relat_Parent     -0.0734084  0.1666933  -0.440   0.6610  \n",
       "Niveau_educ_pere -0.2163039  0.1800043  -1.202   0.2336  \n",
       "Niveau_educ_mere  0.2359698  0.1717863   1.374   0.1740  \n",
       "Sign_ecole        0.0383330  0.1015550   0.377   0.7070  \n",
       "Endroit_freq      0.0171185  0.0602101   0.284   0.7770  \n",
       "Ph_famille       -0.0775535  0.0971807  -0.798   0.4276  \n",
       "Ricule_Prof      -0.2289019  0.2600523  -0.880   0.3818  \n",
       "Ricule_collegue  -0.0041474  0.2574967  -0.016   0.9872  \n",
       "---\n",
       "Signif. codes:  0 '***' 0.001 '**' 0.01 '*' 0.05 '.' 0.1 ' ' 1\n",
       "\n",
       "Residual standard error: 0.8037 on 69 degrees of freedom\n",
       "  (1 observation deleted due to missingness)\n",
       "Multiple R-squared:  0.2262,\tAdjusted R-squared:  0.001939 \n",
       "F-statistic: 1.009 on 20 and 69 DF,  p-value: 0.4641\n"
      ]
     },
     "metadata": {},
     "output_type": "display_data"
    }
   ],
   "source": [
    "modele_b1 <- lm(Sensation_apres_ecole ~ sexe + Age + Region + etat_civil + N_educatif + \n",
    "                Membre_famille + Revenu_famille + Revenu_Mensuelle + Redoublant + \n",
    "                Prob_Enseignat + Aide_ecole + Rq_Comprtement + Relat_Parent + \n",
    "                Niveau_educ_pere + Niveau_educ_mere + Sign_ecole + \n",
    "                Endroit_freq + Ph_famille + Ricule_Prof + Ricule_collegue, data=df)\n",
    "\n",
    "summary(modele_b1)"
   ]
  },
  {
   "cell_type": "markdown",
   "metadata": {},
   "source": [
    "- Aucune des variables ne montre une significativité statistique **(p-valeur < 0,05)** dans ce modèle.\n",
    "\n",
    "- Cela indique que, individuellement, ces variables n'ont pas d'impact statistiquement significatif sur <code>Sensation_apres_ecole</code>."
   ]
  },
  {
   "cell_type": "code",
   "execution_count": 11,
   "metadata": {
    "vscode": {
     "languageId": "r"
    }
   },
   "outputs": [
    {
     "name": "stdout",
     "output_type": "stream",
     "text": [
      "R-squared: 0.2262226 \n",
      "Adjusted R-squared: 0.001939255 \n"
     ]
    },
    {
     "data": {
      "text/html": [
       "<style>\n",
       ".dl-inline {width: auto; margin:0; padding: 0}\n",
       ".dl-inline>dt, .dl-inline>dd {float: none; width: auto; display: inline-block}\n",
       ".dl-inline>dt::after {content: \":\\0020\"; padding-right: .5ex}\n",
       ".dl-inline>dt:not(:first-of-type) {padding-left: .5ex}\n",
       "</style><dl class=dl-inline><dt>(Intercept)</dt><dd>2.28477252928887</dd><dt>sexe</dt><dd>0.437298164142258</dd><dt>Age</dt><dd>0.0945831170135645</dd><dt>Region</dt><dd>-0.187524566866301</dd><dt>etat_civil</dt><dd>-0.103837321052713</dd><dt>N_educatif</dt><dd>-0.212966722055611</dd><dt>Membre_famille</dt><dd>-0.00320682288236732</dd><dt>Revenu_famille</dt><dd>-0.0775484687007466</dd><dt>Revenu_Mensuelle</dt><dd>0.00022379986299984</dd><dt>Redoublant</dt><dd>0.317630103385375</dd><dt>Prob_Enseignat</dt><dd>0.307838116721258</dd><dt>Aide_ecole</dt><dd>0.0526439170832455</dd><dt>Rq_Comprtement</dt><dd>0.00386087237499907</dd><dt>Relat_Parent</dt><dd>-0.0734084158629507</dd><dt>Niveau_educ_pere</dt><dd>-0.216303852281614</dd><dt>Niveau_educ_mere</dt><dd>0.235969795805481</dd><dt>Sign_ecole</dt><dd>0.0383329675771707</dd><dt>Endroit_freq</dt><dd>0.0171184960928978</dd><dt>Ph_famille</dt><dd>-0.0775534970294064</dd><dt>Ricule_Prof</dt><dd>-0.228901883179577</dd><dt>Ricule_collegue</dt><dd>-0.00414741487926033</dd></dl>\n"
      ],
      "text/latex": [
       "\\begin{description*}\n",
       "\\item[(Intercept)] 2.28477252928887\n",
       "\\item[sexe] 0.437298164142258\n",
       "\\item[Age] 0.0945831170135645\n",
       "\\item[Region] -0.187524566866301\n",
       "\\item[etat\\textbackslash{}\\_civil] -0.103837321052713\n",
       "\\item[N\\textbackslash{}\\_educatif] -0.212966722055611\n",
       "\\item[Membre\\textbackslash{}\\_famille] -0.00320682288236732\n",
       "\\item[Revenu\\textbackslash{}\\_famille] -0.0775484687007466\n",
       "\\item[Revenu\\textbackslash{}\\_Mensuelle] 0.00022379986299984\n",
       "\\item[Redoublant] 0.317630103385375\n",
       "\\item[Prob\\textbackslash{}\\_Enseignat] 0.307838116721258\n",
       "\\item[Aide\\textbackslash{}\\_ecole] 0.0526439170832455\n",
       "\\item[Rq\\textbackslash{}\\_Comprtement] 0.00386087237499907\n",
       "\\item[Relat\\textbackslash{}\\_Parent] -0.0734084158629507\n",
       "\\item[Niveau\\textbackslash{}\\_educ\\textbackslash{}\\_pere] -0.216303852281614\n",
       "\\item[Niveau\\textbackslash{}\\_educ\\textbackslash{}\\_mere] 0.235969795805481\n",
       "\\item[Sign\\textbackslash{}\\_ecole] 0.0383329675771707\n",
       "\\item[Endroit\\textbackslash{}\\_freq] 0.0171184960928978\n",
       "\\item[Ph\\textbackslash{}\\_famille] -0.0775534970294064\n",
       "\\item[Ricule\\textbackslash{}\\_Prof] -0.228901883179577\n",
       "\\item[Ricule\\textbackslash{}\\_collegue] -0.00414741487926033\n",
       "\\end{description*}\n"
      ],
      "text/markdown": [
       "(Intercept)\n",
       ":   2.28477252928887sexe\n",
       ":   0.437298164142258Age\n",
       ":   0.0945831170135645Region\n",
       ":   -0.187524566866301etat_civil\n",
       ":   -0.103837321052713N_educatif\n",
       ":   -0.212966722055611Membre_famille\n",
       ":   -0.00320682288236732Revenu_famille\n",
       ":   -0.0775484687007466Revenu_Mensuelle\n",
       ":   0.00022379986299984Redoublant\n",
       ":   0.317630103385375Prob_Enseignat\n",
       ":   0.307838116721258Aide_ecole\n",
       ":   0.0526439170832455Rq_Comprtement\n",
       ":   0.00386087237499907Relat_Parent\n",
       ":   -0.0734084158629507Niveau_educ_pere\n",
       ":   -0.216303852281614Niveau_educ_mere\n",
       ":   0.235969795805481Sign_ecole\n",
       ":   0.0383329675771707Endroit_freq\n",
       ":   0.0171184960928978Ph_famille\n",
       ":   -0.0775534970294064Ricule_Prof\n",
       ":   -0.228901883179577Ricule_collegue\n",
       ":   -0.00414741487926033\n",
       "\n"
      ],
      "text/plain": [
       "     (Intercept)             sexe              Age           Region \n",
       "    2.2847725293     0.4372981641     0.0945831170    -0.1875245669 \n",
       "      etat_civil       N_educatif   Membre_famille   Revenu_famille \n",
       "   -0.1038373211    -0.2129667221    -0.0032068229    -0.0775484687 \n",
       "Revenu_Mensuelle       Redoublant   Prob_Enseignat       Aide_ecole \n",
       "    0.0002237999     0.3176301034     0.3078381167     0.0526439171 \n",
       "  Rq_Comprtement     Relat_Parent Niveau_educ_pere Niveau_educ_mere \n",
       "    0.0038608724    -0.0734084159    -0.2163038523     0.2359697958 \n",
       "      Sign_ecole     Endroit_freq       Ph_famille      Ricule_Prof \n",
       "    0.0383329676     0.0171184961    -0.0775534970    -0.2289018832 \n",
       " Ricule_collegue \n",
       "   -0.0041474149 "
      ]
     },
     "metadata": {},
     "output_type": "display_data"
    },
    {
     "data": {
      "image/png": "[encoded data removed]",
      "text/plain": [
       "Plot with title \"\""
      ]
     },
     "metadata": {
      "image/png": {
       "height": 420,
       "width": 420
      }
     },
     "output_type": "display_data"
    }
   ],
   "source": [
    "par(mfrow=c(2,2))\n",
    "plot(modele_b1)\n",
    "\n",
    "cat(\"R-squared:\", summary(modele_b1)$r.squared, \"\\n\")\n",
    "cat(\"Adjusted R-squared:\", summary(modele_b1)$adj.r.squared, \"\\n\")\n",
    "\n",
    "coefficients(modele_b1)"
   ]
  },
  {
   "cell_type": "markdown",
   "metadata": {},
   "source": [
    "##### Diagnostics visuels:\n",
    "\n",
    "1. **Residuals vs Fitted:** Aucun motif particulier dans les résidus, ce qui valide l'hypothèse de linéarité.\n",
    "\n",
    "2. **Q-Q Plot:** Les points suivent globalement une ligne droite, indiquant que les résidus suivent une distribution normale.\n",
    "\n",
    "3. **Scale-Location:** La ligne horizontale suggère que l'erreur résiduelle est constante à travers les valeurs ajustées.\n",
    "\n",
    "4. **Residuals vs Leverage:** Aucun point particulièrement influent observé qui aurait un effet disproportionné sur le modèle.\n",
    "\n",
    "##### Qualité du modèle:\n",
    "- Le R² multiple de **0,2262** suggère que le modèle explique environ **22,62%** de la variance de la variable Sensation_apres_ecole.\n",
    "\n",
    "- Le R² ajusté de **0,001939** indique que, après correction pour le nombre de prédicteurs, le modèle n'améliore pas vraiment l'explication de la variance.\n",
    "\n",
    "- La p-valeur de la statistique F étant de **0,4641**, le modèle global n'est pas significatif, ce qui suggère que l'ensemble des prédicteurs n'explique pas de manière fiable la variable dépendante.\n",
    "\n",
    "> le modèle ne parvient pas à expliquer de manière significative la variable <code>Sensation_apres_ecole</code> à l'aide des prédicteurs fournis. Les coefficients ne montrent pas de contributions statistiquement significatives, et la qualité globale du modèle est faible."
   ]
  },
  {
   "cell_type": "markdown",
   "metadata": {},
   "source": [
    "### Modélisation avec la variable <code>Violence</code>:"
   ]
  },
  {
   "cell_type": "code",
   "execution_count": 12,
   "metadata": {
    "vscode": {
     "languageId": "r"
    }
   },
   "outputs": [
    {
     "data": {
      "text/plain": [
       "\n",
       "Call:\n",
       "lm(formula = Violence ~ sexe + Age + Region + etat_civil + N_educatif + \n",
       "    Membre_famille + Revenu_famille + Revenu_Mensuelle + Redoublant + \n",
       "    Prob_Enseignat + Aide_ecole + Rq_Comprtement + Relat_Parent + \n",
       "    Niveau_educ_pere + Niveau_educ_mere + Sign_ecole + Endroit_freq + \n",
       "    Ph_famille + Ricule_Prof + Ricule_collegue, data = df)\n",
       "\n",
       "Residuals:\n",
       "     Min       1Q   Median       3Q      Max \n",
       "-0.63743 -0.24853 -0.05316  0.19030  0.85166 \n",
       "\n",
       "Coefficients:\n",
       "                   Estimate Std. Error t value Pr(>|t|)   \n",
       "(Intercept)       1.0204233  0.4614971   2.211  0.03034 * \n",
       "sexe              0.2784832  0.2833550   0.983  0.32914   \n",
       "Age              -0.1062132  0.0613245  -1.732  0.08774 . \n",
       "Region            0.1389590  0.1265206   1.098  0.27589   \n",
       "etat_civil        0.0007099  0.1012267   0.007  0.99442   \n",
       "N_educatif       -0.0786165  0.0861568  -0.912  0.36469   \n",
       "Membre_famille   -0.0100885  0.0245713  -0.411  0.68265   \n",
       "Revenu_famille    0.1702683  0.1242296   1.371  0.17494   \n",
       "Revenu_Mensuelle -0.0005803  0.0002316  -2.506  0.01458 * \n",
       "Redoublant       -0.1348105  0.1299295  -1.038  0.30309   \n",
       "Prob_Enseignat   -0.2727307  0.1196546  -2.279  0.02575 * \n",
       "Aide_ecole       -0.0193760  0.0356504  -0.543  0.58854   \n",
       "Rq_Comprtement    0.0791905  0.0581199   1.363  0.17746   \n",
       "Relat_Parent      0.0453470  0.0854634   0.531  0.59740   \n",
       "Niveau_educ_pere -0.0335109  0.0922880  -0.363  0.71763   \n",
       "Niveau_educ_mere -0.0228477  0.0880746  -0.259  0.79609   \n",
       "Sign_ecole       -0.0059949  0.0520671  -0.115  0.90867   \n",
       "Endroit_freq      0.0372061  0.0308696   1.205  0.23222   \n",
       "Ph_famille       -0.1350246  0.0498244  -2.710  0.00848 **\n",
       "Ricule_Prof       0.3069326  0.1333285   2.302  0.02435 * \n",
       "Ricule_collegue   0.2009772  0.1320182   1.522  0.13249   \n",
       "---\n",
       "Signif. codes:  0 '***' 0.001 '**' 0.01 '*' 0.05 '.' 0.1 ' ' 1\n",
       "\n",
       "Residual standard error: 0.4121 on 69 degrees of freedom\n",
       "  (1 observation deleted due to missingness)\n",
       "Multiple R-squared:  0.4142,\tAdjusted R-squared:  0.2444 \n",
       "F-statistic:  2.44 on 20 and 69 DF,  p-value: 0.00332\n"
      ]
     },
     "metadata": {},
     "output_type": "display_data"
    }
   ],
   "source": [
    "modele_c1 <- lm(Violence ~ sexe + Age + Region + etat_civil + N_educatif + \n",
    "                Membre_famille + Revenu_famille + Revenu_Mensuelle + Redoublant + \n",
    "                Prob_Enseignat + Aide_ecole + Rq_Comprtement + Relat_Parent + \n",
    "                Niveau_educ_pere + Niveau_educ_mere + Sign_ecole + \n",
    "                Endroit_freq + Ph_famille + Ricule_Prof + Ricule_collegue, data=df)\n",
    "\n",
    "summary(modele_c1)"
   ]
  },
  {
   "cell_type": "markdown",
   "metadata": {},
   "source": [
    "Les variables suivantes sont statistiquement significatives **(p-valeur < 0,05)**:\n",
    "\n",
    "- <code>(Intercept)</code> avec un effet **positif**.\n",
    "\n",
    "- <code>Revenu_Mensuelle</code> avec un effet **négatif**.\n",
    "\n",
    "- <code>Prob_Enseignat</code> avec un effet **négatif**.\n",
    "\n",
    "La variable **Age** est presque significative avec une p-valeur de 0,08774."
   ]
  },
  {
   "cell_type": "code",
   "execution_count": 13,
   "metadata": {
    "vscode": {
     "languageId": "r"
    }
   },
   "outputs": [
    {
     "name": "stdout",
     "output_type": "stream",
     "text": [
      "R-squared: 0.414222 \n",
      "Adjusted R-squared: 0.2444313 \n"
     ]
    },
    {
     "data": {
      "text/html": [
       "<style>\n",
       ".dl-inline {width: auto; margin:0; padding: 0}\n",
       ".dl-inline>dt, .dl-inline>dd {float: none; width: auto; display: inline-block}\n",
       ".dl-inline>dt::after {content: \":\\0020\"; padding-right: .5ex}\n",
       ".dl-inline>dt:not(:first-of-type) {padding-left: .5ex}\n",
       "</style><dl class=dl-inline><dt>(Intercept)</dt><dd>1.02042332860455</dd><dt>sexe</dt><dd>0.278483211395069</dd><dt>Age</dt><dd>-0.106213224729837</dd><dt>Region</dt><dd>0.138959009314079</dd><dt>etat_civil</dt><dd>0.000709897069711418</dd><dt>N_educatif</dt><dd>-0.0786165080791721</dd><dt>Membre_famille</dt><dd>-0.0100885490873969</dd><dt>Revenu_famille</dt><dd>0.17026829278184</dd><dt>Revenu_Mensuelle</dt><dd>-0.000580331389262744</dd><dt>Redoublant</dt><dd>-0.134810516704765</dd><dt>Prob_Enseignat</dt><dd>-0.272730687838221</dd><dt>Aide_ecole</dt><dd>-0.0193759928567598</dd><dt>Rq_Comprtement</dt><dd>0.0791904704082682</dd><dt>Relat_Parent</dt><dd>0.0453469866126097</dd><dt>Niveau_educ_pere</dt><dd>-0.0335109491613701</dd><dt>Niveau_educ_mere</dt><dd>-0.0228477239571408</dd><dt>Sign_ecole</dt><dd>-0.00599493090230753</dd><dt>Endroit_freq</dt><dd>0.0372060952735028</dd><dt>Ph_famille</dt><dd>-0.135024614567572</dd><dt>Ricule_Prof</dt><dd>0.306932565027427</dd><dt>Ricule_collegue</dt><dd>0.200977181046639</dd></dl>\n"
      ],
      "text/latex": [
       "\\begin{description*}\n",
       "\\item[(Intercept)] 1.02042332860455\n",
       "\\item[sexe] 0.278483211395069\n",
       "\\item[Age] -0.106213224729837\n",
       "\\item[Region] 0.138959009314079\n",
       "\\item[etat\\textbackslash{}\\_civil] 0.000709897069711418\n",
       "\\item[N\\textbackslash{}\\_educatif] -0.0786165080791721\n",
       "\\item[Membre\\textbackslash{}\\_famille] -0.0100885490873969\n",
       "\\item[Revenu\\textbackslash{}\\_famille] 0.17026829278184\n",
       "\\item[Revenu\\textbackslash{}\\_Mensuelle] -0.000580331389262744\n",
       "\\item[Redoublant] -0.134810516704765\n",
       "\\item[Prob\\textbackslash{}\\_Enseignat] -0.272730687838221\n",
       "\\item[Aide\\textbackslash{}\\_ecole] -0.0193759928567598\n",
       "\\item[Rq\\textbackslash{}\\_Comprtement] 0.0791904704082682\n",
       "\\item[Relat\\textbackslash{}\\_Parent] 0.0453469866126097\n",
       "\\item[Niveau\\textbackslash{}\\_educ\\textbackslash{}\\_pere] -0.0335109491613701\n",
       "\\item[Niveau\\textbackslash{}\\_educ\\textbackslash{}\\_mere] -0.0228477239571408\n",
       "\\item[Sign\\textbackslash{}\\_ecole] -0.00599493090230753\n",
       "\\item[Endroit\\textbackslash{}\\_freq] 0.0372060952735028\n",
       "\\item[Ph\\textbackslash{}\\_famille] -0.135024614567572\n",
       "\\item[Ricule\\textbackslash{}\\_Prof] 0.306932565027427\n",
       "\\item[Ricule\\textbackslash{}\\_collegue] 0.200977181046639\n",
       "\\end{description*}\n"
      ],
      "text/markdown": [
       "(Intercept)\n",
       ":   1.02042332860455sexe\n",
       ":   0.278483211395069Age\n",
       ":   -0.106213224729837Region\n",
       ":   0.138959009314079etat_civil\n",
       ":   0.000709897069711418N_educatif\n",
       ":   -0.0786165080791721Membre_famille\n",
       ":   -0.0100885490873969Revenu_famille\n",
       ":   0.17026829278184Revenu_Mensuelle\n",
       ":   -0.000580331389262744Redoublant\n",
       ":   -0.134810516704765Prob_Enseignat\n",
       ":   -0.272730687838221Aide_ecole\n",
       ":   -0.0193759928567598Rq_Comprtement\n",
       ":   0.0791904704082682Relat_Parent\n",
       ":   0.0453469866126097Niveau_educ_pere\n",
       ":   -0.0335109491613701Niveau_educ_mere\n",
       ":   -0.0228477239571408Sign_ecole\n",
       ":   -0.00599493090230753Endroit_freq\n",
       ":   0.0372060952735028Ph_famille\n",
       ":   -0.135024614567572Ricule_Prof\n",
       ":   0.306932565027427Ricule_collegue\n",
       ":   0.200977181046639\n",
       "\n"
      ],
      "text/plain": [
       "     (Intercept)             sexe              Age           Region \n",
       "    1.0204233286     0.2784832114    -0.1062132247     0.1389590093 \n",
       "      etat_civil       N_educatif   Membre_famille   Revenu_famille \n",
       "    0.0007098971    -0.0786165081    -0.0100885491     0.1702682928 \n",
       "Revenu_Mensuelle       Redoublant   Prob_Enseignat       Aide_ecole \n",
       "   -0.0005803314    -0.1348105167    -0.2727306878    -0.0193759929 \n",
       "  Rq_Comprtement     Relat_Parent Niveau_educ_pere Niveau_educ_mere \n",
       "    0.0791904704     0.0453469866    -0.0335109492    -0.0228477240 \n",
       "      Sign_ecole     Endroit_freq       Ph_famille      Ricule_Prof \n",
       "   -0.0059949309     0.0372060953    -0.1350246146     0.3069325650 \n",
       " Ricule_collegue \n",
       "    0.2009771810 "
      ]
     },
     "metadata": {},
     "output_type": "display_data"
    },
    {
     "data": {
      "image/png": "[encoded data removed]",
      "text/plain": [
       "Plot with title \"\""
      ]
     },
     "metadata": {
      "image/png": {
       "height": 420,
       "width": 420
      }
     },
     "output_type": "display_data"
    }
   ],
   "source": [
    "par(mfrow=c(2,2))\n",
    "plot(modele_c1)\n",
    "\n",
    "cat(\"R-squared:\", summary(modele_c1)$r.squared, \"\\n\")\n",
    "cat(\"Adjusted R-squared:\", summary(modele_c1)$adj.r.squared, \"\\n\")\n",
    "\n",
    "coefficients(modele_c1)\n"
   ]
  },
  {
   "cell_type": "markdown",
   "metadata": {},
   "source": [
    "##### Diagnostic du modèle:\n",
    "\n",
    "1. **Residuals vs Fitted**: Le graphique montre les résidus sur l'axe y et les valeurs ajustées sur l'axe x. Aucun motif particulier dans les résidus, ce qui valide l'hypothèse de linéarité.\n",
    "\n",
    "2. **Q-Q Plot**: Les quantiles des résidus suivent approximativement une ligne droite, indiquant que les résidus suivent une distribution normale.\n",
    "\n",
    "3. **Scale-Location**: Ce graphique montre la racine carrée des résidus standardisés par rapport aux valeurs ajustées. La ligne horizontale suggère que l'erreur résiduelle est constante à travers les valeurs ajustées.\n",
    "\n",
    "4. **Residuals vs Leverage**: Aucun point particulièrement influent observé qui aurait un effet disproportionné sur le modèle, indiquant qu'aucun point n'a une influence excessive.\n",
    "\n",
    "##### Qualité du modèle:\n",
    "\n",
    "- Le R² multiple de **0,4142** suggère que le modèle explique environ **41,42%** de la variance de la variable Violence.\n",
    "\n",
    "- Le R² ajusté de **0,2444** indique une correction pour le nombre de prédicteurs dans le modèle.\n",
    "\n",
    "- La p-valeur de la statistique F étant de **0,00332**, le modèle global est significatif, ce qui indique que l'ensemble des prédicteurs est utile pour expliquer la variable dépendante.\n",
    "\n",
    ">Le modèle indique que <code>Revenu_Mensuelle</code> et <code>Prob_Enseignat</code> ont un impact significatif et négatif sur la variable <code>Violence</code>, tandis que d'autres variables comme <code>Age</code> montrent une tendance mais ne sont pas tout à fait significatives. La qualité globale du modèle est modérée à bonne, expliquant environ **41%** de la variance de la variable dépendante."
   ]
  }
 ],
 "metadata": {
  "kernelspec": {
   "display_name": "R",
   "language": "R",
   "name": "ir"
  },
  "language_info": {
   "codemirror_mode": "r",
   "file_extension": ".r",
   "mimetype": "text/x-r-source",
   "name": "R",
   "pygments_lexer": "r",
   "version": "4.3.2"
  }
 },
 "nbformat": 4,
 "nbformat_minor": 2
}
