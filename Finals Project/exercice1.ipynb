{
 "cells": [
  {
   "cell_type": "markdown",
   "metadata": {},
   "source": [
    "### Enoncé:\n",
    "- a1: Expliquer la variable après rupture école en fonction des variables sexe, age, région, état civil, N-educatif, membre_famille, Revenu_famille, Revenu_mensuel, redoublant, prob_enseignant, Aide_école, Rq_comportement, Relation_parent, niveau educatif père, niveau éducatif mère, sign_école, endroit_fréquent, ph_famille, Ricule_prof et Ricule collègue.\n",
    "- b1: Déterminer la qualité du modèle.\n",
    "- a2: Expliquer la variable sensation après rupture école en fonction des variables sexe, age, région, état civil, N-educatif, membre_famille, Revenu_famille, Revenu_mensuel, redoublant, prob_enseignant, Aide_école, Rq_comportement, Relation_parent, niveau educatif père, niveau éducatif mère, sign_école, endroit_fréquent, ph_famille, Ricule_prof et Ricule collègue.\n",
    "- b2: Déterminer la qualité du modèle.\n",
    "- a3: Expliquer la variable violence en fonction des variables sexe, age, région, état civil, N-educatif, membre_famille, Revenu_famille, Revenu_mensuel, redoublant, prob_enseignant, Aide_école, Rq_comportement, Relation_parent, niveau educatif père, niveau éducatif mère, sign_école, endroit_fréquent, ph_famille, Ricule_prof et Ricule collègue.\n",
    "- b3: Déterminer la qualité du modèle."
   ]
  },
  {
   "cell_type": "markdown",
   "metadata": {},
   "source": [
    "### Chargement des bibliothèques nécessaires et des données:"
   ]
  },
  {
   "cell_type": "code",
   "execution_count": 1,
   "metadata": {
    "vscode": {
     "languageId": "r"
    }
   },
   "outputs": [
    {
     "name": "stdout",
     "output_type": "stream",
     "text": [
      "package 'readxl' successfully unpacked and MD5 sums checked\n"
     ]
    },
    {
     "name": "stderr",
     "output_type": "stream",
     "text": [
      "Warning message:\n",
      "\"cannot remove prior installation of package 'readxl'\"\n",
      "Warning message in file.copy(savedcopy, lib, recursive = TRUE):\n",
      "\"problem copying D:\\Files\\R-4.3.2\\library\\00LOCK\\readxl\\libs\\x64\\readxl.dll to D:\\Files\\R-4.3.2\\library\\readxl\\libs\\x64\\readxl.dll: Permission denied\"\n",
      "Warning message:\n",
      "\"restored 'readxl'\"\n"
     ]
    },
    {
     "name": "stdout",
     "output_type": "stream",
     "text": [
      "\n",
      "The downloaded binary packages are in\n",
      "\tC:\\Users\\medth\\AppData\\Local\\Temp\\Rtmp06qjUd\\downloaded_packages\n",
      "package 'nnet' successfully unpacked and MD5 sums checked\n"
     ]
    },
    {
     "name": "stderr",
     "output_type": "stream",
     "text": [
      "Warning message:\n",
      "\"cannot remove prior installation of package 'nnet'\"\n",
      "Warning message in file.copy(savedcopy, lib, recursive = TRUE):\n",
      "\"problem copying D:\\Files\\R-4.3.2\\library\\00LOCK\\nnet\\libs\\x64\\nnet.dll to D:\\Files\\R-4.3.2\\library\\nnet\\libs\\x64\\nnet.dll: Permission denied\"\n",
      "Warning message:\n",
      "\"restored 'nnet'\"\n"
     ]
    },
    {
     "name": "stdout",
     "output_type": "stream",
     "text": [
      "\n",
      "The downloaded binary packages are in\n",
      "\tC:\\Users\\medth\\AppData\\Local\\Temp\\Rtmp06qjUd\\downloaded_packages\n"
     ]
    },
    {
     "name": "stderr",
     "output_type": "stream",
     "text": [
      "Warning message:\n",
      "\"package 'readxl' was built under R version 4.3.3\"\n"
     ]
    },
    {
     "data": {
      "text/html": [
       "<table class=\"dataframe\">\n",
       "<caption>A tibble: 6 × 24</caption>\n",
       "<thead>\n",
       "\t<tr><th scope=col>ID</th><th scope=col>sexe</th><th scope=col>Region</th><th scope=col>Age</th><th scope=col>etat_civil</th><th scope=col>N_educatif</th><th scope=col>Membre_famille</th><th scope=col>Revenu_famille</th><th scope=col>Revenu_Mensuelle</th><th scope=col>Redoublant</th><th scope=col>⋯</th><th scope=col>Niveau_educ_pere</th><th scope=col>Niveau_educ_mere</th><th scope=col>Sign_ecole</th><th scope=col>Endroit_freq</th><th scope=col>Ph_famille</th><th scope=col>Ricule_Prof</th><th scope=col>Ricule_collegue</th><th scope=col>Sensation_apres_ecole</th><th scope=col>Apres_repture_ecole</th><th scope=col>Violence</th></tr>\n",
       "\t<tr><th scope=col>&lt;dbl&gt;</th><th scope=col>&lt;dbl&gt;</th><th scope=col>&lt;dbl&gt;</th><th scope=col>&lt;dbl&gt;</th><th scope=col>&lt;dbl&gt;</th><th scope=col>&lt;dbl&gt;</th><th scope=col>&lt;dbl&gt;</th><th scope=col>&lt;dbl&gt;</th><th scope=col>&lt;dbl&gt;</th><th scope=col>&lt;dbl&gt;</th><th scope=col>⋯</th><th scope=col>&lt;dbl&gt;</th><th scope=col>&lt;dbl&gt;</th><th scope=col>&lt;dbl&gt;</th><th scope=col>&lt;dbl&gt;</th><th scope=col>&lt;dbl&gt;</th><th scope=col>&lt;dbl&gt;</th><th scope=col>&lt;dbl&gt;</th><th scope=col>&lt;dbl&gt;</th><th scope=col>&lt;dbl&gt;</th><th scope=col>&lt;dbl&gt;</th></tr>\n",
       "</thead>\n",
       "<tbody>\n",
       "\t<tr><td>1</td><td>0</td><td>1</td><td>2</td><td>1</td><td>3</td><td> 5</td><td>0</td><td>  0</td><td>1</td><td>⋯</td><td>2</td><td>2</td><td>1</td><td>1</td><td>1</td><td>0</td><td>1</td><td>1</td><td>1</td><td>1</td></tr>\n",
       "\t<tr><td>2</td><td>0</td><td>1</td><td>4</td><td>2</td><td>3</td><td> 5</td><td>0</td><td>  0</td><td>1</td><td>⋯</td><td>2</td><td>1</td><td>1</td><td>2</td><td>2</td><td>1</td><td>1</td><td>1</td><td>1</td><td>1</td></tr>\n",
       "\t<tr><td>3</td><td>0</td><td>1</td><td>4</td><td>2</td><td>3</td><td>11</td><td>0</td><td>100</td><td>1</td><td>⋯</td><td>2</td><td>1</td><td>2</td><td>1</td><td>3</td><td>0</td><td>0</td><td>1</td><td>2</td><td>0</td></tr>\n",
       "\t<tr><td>5</td><td>0</td><td>1</td><td>3</td><td>2</td><td>3</td><td> 4</td><td>0</td><td>  0</td><td>1</td><td>⋯</td><td>1</td><td>1</td><td>1</td><td>1</td><td>2</td><td>1</td><td>1</td><td>3</td><td>3</td><td>1</td></tr>\n",
       "\t<tr><td>8</td><td>0</td><td>1</td><td>1</td><td>1</td><td>3</td><td> 5</td><td>1</td><td>  0</td><td>1</td><td>⋯</td><td>3</td><td>3</td><td>3</td><td>4</td><td>4</td><td>0</td><td>0</td><td>3</td><td>2</td><td>1</td></tr>\n",
       "\t<tr><td>9</td><td>0</td><td>1</td><td>4</td><td>3</td><td>3</td><td> 4</td><td>1</td><td>100</td><td>0</td><td>⋯</td><td>2</td><td>3</td><td>4</td><td>1</td><td>4</td><td>1</td><td>1</td><td>1</td><td>2</td><td>0</td></tr>\n",
       "</tbody>\n",
       "</table>\n"
      ],
      "text/latex": [
       "A tibble: 6 × 24\n",
       "\\begin{tabular}{lllllllllllllllllllll}\n",
       " ID & sexe & Region & Age & etat\\_civil & N\\_educatif & Membre\\_famille & Revenu\\_famille & Revenu\\_Mensuelle & Redoublant & ⋯ & Niveau\\_educ\\_pere & Niveau\\_educ\\_mere & Sign\\_ecole & Endroit\\_freq & Ph\\_famille & Ricule\\_Prof & Ricule\\_collegue & Sensation\\_apres\\_ecole & Apres\\_repture\\_ecole & Violence\\\\\n",
       " <dbl> & <dbl> & <dbl> & <dbl> & <dbl> & <dbl> & <dbl> & <dbl> & <dbl> & <dbl> & ⋯ & <dbl> & <dbl> & <dbl> & <dbl> & <dbl> & <dbl> & <dbl> & <dbl> & <dbl> & <dbl>\\\\\n",
       "\\hline\n",
       "\t 1 & 0 & 1 & 2 & 1 & 3 &  5 & 0 &   0 & 1 & ⋯ & 2 & 2 & 1 & 1 & 1 & 0 & 1 & 1 & 1 & 1\\\\\n",
       "\t 2 & 0 & 1 & 4 & 2 & 3 &  5 & 0 &   0 & 1 & ⋯ & 2 & 1 & 1 & 2 & 2 & 1 & 1 & 1 & 1 & 1\\\\\n",
       "\t 3 & 0 & 1 & 4 & 2 & 3 & 11 & 0 & 100 & 1 & ⋯ & 2 & 1 & 2 & 1 & 3 & 0 & 0 & 1 & 2 & 0\\\\\n",
       "\t 5 & 0 & 1 & 3 & 2 & 3 &  4 & 0 &   0 & 1 & ⋯ & 1 & 1 & 1 & 1 & 2 & 1 & 1 & 3 & 3 & 1\\\\\n",
       "\t 8 & 0 & 1 & 1 & 1 & 3 &  5 & 1 &   0 & 1 & ⋯ & 3 & 3 & 3 & 4 & 4 & 0 & 0 & 3 & 2 & 1\\\\\n",
       "\t 9 & 0 & 1 & 4 & 3 & 3 &  4 & 1 & 100 & 0 & ⋯ & 2 & 3 & 4 & 1 & 4 & 1 & 1 & 1 & 2 & 0\\\\\n",
       "\\end{tabular}\n"
      ],
      "text/markdown": [
       "\n",
       "A tibble: 6 × 24\n",
       "\n",
       "| ID &lt;dbl&gt; | sexe &lt;dbl&gt; | Region &lt;dbl&gt; | Age &lt;dbl&gt; | etat_civil &lt;dbl&gt; | N_educatif &lt;dbl&gt; | Membre_famille &lt;dbl&gt; | Revenu_famille &lt;dbl&gt; | Revenu_Mensuelle &lt;dbl&gt; | Redoublant &lt;dbl&gt; | ⋯ ⋯ | Niveau_educ_pere &lt;dbl&gt; | Niveau_educ_mere &lt;dbl&gt; | Sign_ecole &lt;dbl&gt; | Endroit_freq &lt;dbl&gt; | Ph_famille &lt;dbl&gt; | Ricule_Prof &lt;dbl&gt; | Ricule_collegue &lt;dbl&gt; | Sensation_apres_ecole &lt;dbl&gt; | Apres_repture_ecole &lt;dbl&gt; | Violence &lt;dbl&gt; |\n",
       "|---|---|---|---|---|---|---|---|---|---|---|---|---|---|---|---|---|---|---|---|---|\n",
       "| 1 | 0 | 1 | 2 | 1 | 3 |  5 | 0 |   0 | 1 | ⋯ | 2 | 2 | 1 | 1 | 1 | 0 | 1 | 1 | 1 | 1 |\n",
       "| 2 | 0 | 1 | 4 | 2 | 3 |  5 | 0 |   0 | 1 | ⋯ | 2 | 1 | 1 | 2 | 2 | 1 | 1 | 1 | 1 | 1 |\n",
       "| 3 | 0 | 1 | 4 | 2 | 3 | 11 | 0 | 100 | 1 | ⋯ | 2 | 1 | 2 | 1 | 3 | 0 | 0 | 1 | 2 | 0 |\n",
       "| 5 | 0 | 1 | 3 | 2 | 3 |  4 | 0 |   0 | 1 | ⋯ | 1 | 1 | 1 | 1 | 2 | 1 | 1 | 3 | 3 | 1 |\n",
       "| 8 | 0 | 1 | 1 | 1 | 3 |  5 | 1 |   0 | 1 | ⋯ | 3 | 3 | 3 | 4 | 4 | 0 | 0 | 3 | 2 | 1 |\n",
       "| 9 | 0 | 1 | 4 | 3 | 3 |  4 | 1 | 100 | 0 | ⋯ | 2 | 3 | 4 | 1 | 4 | 1 | 1 | 1 | 2 | 0 |\n",
       "\n"
      ],
      "text/plain": [
       "  ID sexe Region Age etat_civil N_educatif Membre_famille Revenu_famille\n",
       "1 1  0    1      2   1          3           5             0             \n",
       "2 2  0    1      4   2          3           5             0             \n",
       "3 3  0    1      4   2          3          11             0             \n",
       "4 5  0    1      3   2          3           4             0             \n",
       "5 8  0    1      1   1          3           5             1             \n",
       "6 9  0    1      4   3          3           4             1             \n",
       "  Revenu_Mensuelle Redoublant ⋯ Niveau_educ_pere Niveau_educ_mere Sign_ecole\n",
       "1   0              1          ⋯ 2                2                1         \n",
       "2   0              1          ⋯ 2                1                1         \n",
       "3 100              1          ⋯ 2                1                2         \n",
       "4   0              1          ⋯ 1                1                1         \n",
       "5   0              1          ⋯ 3                3                3         \n",
       "6 100              0          ⋯ 2                3                4         \n",
       "  Endroit_freq Ph_famille Ricule_Prof Ricule_collegue Sensation_apres_ecole\n",
       "1 1            1          0           1               1                    \n",
       "2 2            2          1           1               1                    \n",
       "3 1            3          0           0               1                    \n",
       "4 1            2          1           1               3                    \n",
       "5 4            4          0           0               3                    \n",
       "6 1            4          1           1               1                    \n",
       "  Apres_repture_ecole Violence\n",
       "1 1                   1       \n",
       "2 1                   1       \n",
       "3 2                   0       \n",
       "4 3                   1       \n",
       "5 2                   1       \n",
       "6 2                   0       "
      ]
     },
     "metadata": {},
     "output_type": "display_data"
    }
   ],
   "source": [
    "install.packages(\"readxl\")\n",
    "install.packages(\"nnet\")\n",
    "library(readxl)\n",
    "library(nnet)\n",
    "\n",
    "# Importer les données de l'exercice 1\n",
    "df <- read_excel(\"data/exercice1.xlsx\", sheet = \"Feuil1\")\n",
    "head(df)"
   ]
  },
  {
   "cell_type": "markdown",
   "metadata": {},
   "source": [
    "### Modélisation avec la variable <code>après_rupture_école</code>:"
   ]
  },
  {
   "cell_type": "code",
   "execution_count": 2,
   "metadata": {
    "vscode": {
     "languageId": "r"
    }
   },
   "outputs": [
    {
     "name": "stdout",
     "output_type": "stream",
     "text": [
      "# weights:  88 (63 variable)\n",
      "initial  value 124.766493 \n",
      "iter  10 value 78.622797\n",
      "iter  20 value 63.239268\n",
      "iter  30 value 55.258599\n",
      "iter  40 value 49.846960\n",
      "iter  50 value 47.101855\n",
      "iter  60 value 43.719936\n",
      "iter  70 value 43.481027\n",
      "iter  80 value 43.465618\n",
      "iter  90 value 43.465149\n",
      "final  value 43.465144 \n",
      "converged\n"
     ]
    },
    {
     "name": "stderr",
     "output_type": "stream",
     "text": [
      "Warning message in sqrt(diag(vc)):\n",
      "\"NaNs produced\"\n"
     ]
    },
    {
     "data": {
      "text/plain": [
       "Call:\n",
       "multinom(formula = Apres_repture_ecole ~ sexe + Age + Region + \n",
       "    etat_civil + N_educatif + Membre_famille + Revenu_famille + \n",
       "    Revenu_Mensuelle + Redoublant + Prob_Enseignat + Aide_ecole + \n",
       "    Rq_Comprtement + Relat_Parent + Niveau_educ_pere + Niveau_educ_mere + \n",
       "    Sign_ecole + Endroit_freq + Ph_famille + Ricule_Prof + Ricule_collegue, \n",
       "    data = df)\n",
       "\n",
       "Coefficients:\n",
       "  (Intercept)      sexe         Age       Region  etat_civil    N_educatif\n",
       "2   -7.489772 245.87263  -0.4376716   -2.4084838    4.901879 -5.771419e-01\n",
       "3  -10.469941  47.08085   0.7066992    0.6411367    5.941687  8.525498e-03\n",
       "4 -611.468711  82.99164 208.3453744 -225.7999524 -128.520080 -1.605677e+02\n",
       "  Membre_famille Revenu_famille Revenu_Mensuelle   Redoublant Prob_Enseignat\n",
       "2      0.2134464      0.4469855       0.00356250    0.6462154      1.3745384\n",
       "3      0.1245541      0.7613484       0.00124591   -0.2674273     -0.3408284\n",
       "4     23.4909023    -32.9186956       0.42818081 -187.7576202    -38.2412999\n",
       "  Aide_ecole Rq_Comprtement Relat_Parent Niveau_educ_pere Niveau_educ_mere\n",
       "2  0.5207737     -1.2429099   -0.6689233        0.4113848       0.99439784\n",
       "3  0.5451506     -0.8737298   -0.7168720       -1.1034168      -0.09905559\n",
       "4 62.2534163    110.9760625  -90.3090799      175.6900377      14.70431510\n",
       "  Sign_ecole Endroit_freq  Ph_famille Ricule_Prof Ricule_collegue\n",
       "2  0.2539833    0.1439979   0.8205266   -1.191701       0.8176965\n",
       "3  1.0602972   -0.4305329  -0.4167038   -3.501263       2.1884588\n",
       "4 50.5088759   -9.8422942 -36.6990838  178.049957    -268.0826058\n",
       "\n",
       "Std. Errors:\n",
       "   (Intercept)         sexe          Age       Region   etat_civil   N_educatif\n",
       "2 4.9495553867          NaN 0.6835739193 1.2126693797 2.079191e+00 0.7422415879\n",
       "3 5.8168838263          NaN 0.8319679772 1.4992349635 2.128219e+00 0.9759764612\n",
       "4 0.0000751934 7.889695e-26 0.0003082217 0.0001719478 7.615021e-05 0.0001436359\n",
       "  Membre_famille Revenu_famille Revenu_Mensuelle   Redoublant Prob_Enseignat\n",
       "2   0.2869574827   1.315523e+00      0.002480597 1.403336e+00   1.103960e+00\n",
       "3   0.3213858975   1.507344e+00      0.003250291 1.575577e+00   1.496669e+00\n",
       "4   0.0003546543   8.854036e-05      0.010175369 4.228614e-05   8.840521e-05\n",
       "    Aide_ecole Rq_Comprtement Relat_Parent Niveau_educ_pere Niveau_educ_mere\n",
       "2 0.3828841568   6.916202e-01 8.933906e-01     1.1522659775     0.9322822721\n",
       "3 0.4359874128   7.506734e-01 1.105212e+00     1.4007993505     1.0106117882\n",
       "4 0.0002229268   6.792839e-05 7.506101e-05     0.0001523442     0.0001622131\n",
       "    Sign_ecole Endroit_freq   Ph_famille  Ricule_Prof Ricule_collegue\n",
       "2 0.6610909608 3.705578e-01 0.5060289116 1.517345e+00    1.657078e+00\n",
       "3 0.7179790405 4.231106e-01 0.7413518770 2.335725e+00    1.958722e+00\n",
       "4 0.0001386024 7.404452e-05 0.0002429078 3.649516e-05    1.685085e-05\n",
       "\n",
       "Residual Deviance: 86.93029 \n",
       "AIC: 212.9303 "
      ]
     },
     "metadata": {},
     "output_type": "display_data"
    }
   ],
   "source": [
    "modele_a1 <- multinom(Apres_repture_ecole ~ sexe + Age +\n",
    "                        Region + etat_civil + N_educatif +\n",
    "                        Membre_famille + Revenu_famille +\n",
    "                        Revenu_Mensuelle + Redoublant +\n",
    "                        Prob_Enseignat + Aide_ecole +\n",
    "                        Rq_Comprtement + Relat_Parent +\n",
    "                        Niveau_educ_pere + Niveau_educ_mere +\n",
    "                        Sign_ecole +\n",
    "                        Endroit_freq + Ph_famille + Ricule_Prof +\n",
    "                        Ricule_collegue, data = df)\n",
    "\n",
    "summary(modele_a1)"
   ]
  },
  {
   "cell_type": "markdown",
   "metadata": {},
   "source": [
    "### Facteurs influençant l'abandon scolaire\n",
    "\n",
    "**Genre :**\n",
    "- Le genre joue un rôle significatif, avec un coefficient de **245,87** pour les garçons. Cette valeur élevée souligne l'impact important de cette variable, mais pourrait aussi indiquer une interaction avec d'autres facteurs liés.\n",
    "\n",
    "**Âge :**\n",
    "- Chaque année d'âge supplémentaire est associée à un effet modéré, représenté par un coefficient de **-0,44**. Cela suggère que l'augmentation de l'âge tend légèrement à diminuer les chances d'abandon scolaire, selon les contextes.\n",
    "\n",
    "**Région :**\n",
    "- La région géographique exerce une certaine influence, avec un coefficient négatif de **-2,41**. Cela reflète possiblement les inégalités régionales en matière d'accès à l'éducation.\n",
    "\n",
    "**État matrimonial et niveau d'instruction des parents :**\n",
    "- Un statut matrimonial stable agit comme un facteur protecteur contre l'abandon scolaire.\n",
    "- Un niveau d'instruction plus élevé des parents, avec des coefficients de **0,41** pour le père et **0,99** pour la mère, est lié à une diminution du risque de décrochage.\n",
    "\n",
    "**Revenu familial :**\n",
    "- Un revenu plus élevé, avec des coefficients de **0,45** pour le revenu familial global et **0,0045** pour le revenu mensuel, réduit les chances d'abandon scolaire. Cela souligne l'importance des conditions financières pour la poursuite des études.\n",
    "\n",
    "**Redoublement :**\n",
    "- Le redoublement est corrélé à un risque accru d'abandon, avec un coefficient de **0,65**. Les élèves ayant redoublé semblent plus vulnérables à quitter le système scolaire.\n",
    "\n",
    "**Qualité de l'enseignement :**\n",
    "- La qualité de l'enseignement, mesurée par la probabilité d'avoir un enseignant compétent, influence fortement la continuité scolaire. Un coefficient de **1,37** montre qu'un enseignement de qualité est associé à un moindre risque d'abandon.\n",
    "\n",
    "**Soutien scolaire :**\n",
    "- La présence d’un accompagnement scolaire diminue les risques de décrochage, avec un coefficient de **0,52**.\n",
    "\n",
    "**Comportement et relations familiales :**\n",
    "- Les élèves présentant des comportements difficiles (coefficient de **-1,24**) ou ayant des relations conflictuelles avec leurs parents (coefficient de **-0,67**) ont un risque accru d'abandon scolaire.\n",
    "\n",
    "**Problèmes familiaux :**\n",
    "- Les conflits familiaux ou situations de tension augmentent également la probabilité d'abandon, avec un coefficient de **0,82**.\n",
    "\n",
    "**Harcèlement scolaire :**\n",
    "- Le harcèlement, qu'il soit causé par les enseignants ou les camarades, constitue un facteur de risque majeur. Les coefficients respectifs de **-1,19** et **0,82** reflètent ces influences négatives."
   ]
  },
  {
   "cell_type": "code",
   "execution_count": 3,
   "metadata": {
    "vscode": {
     "languageId": "r"
    }
   },
   "outputs": [
    {
     "name": "stdout",
     "output_type": "stream",
     "text": [
      "   predictions\n",
      "     1  2  3  4\n",
      "  1 29  0  0  0\n",
      "  2  3 23  5  0\n",
      "  3  2  5 12  1\n",
      "  4  0  0  0 10\n",
      "[1] \"Exactitude: 0.822222222222222\"\n"
     ]
    },
    {
     "name": "stdout",
     "output_type": "stream",
     "text": [
      "[1] \"Précision pour chaque classe: 0.852941176470588\"\n",
      "[2] \"Précision pour chaque classe: 0.821428571428571\"\n",
      "[3] \"Précision pour chaque classe: 0.705882352941177\"\n",
      "[4] \"Précision pour chaque classe: 0.909090909090909\"\n",
      "[1] \"Rappel pour chaque classe: 1\"                \n",
      "[2] \"Rappel pour chaque classe: 0.741935483870968\"\n",
      "[3] \"Rappel pour chaque classe: 0.6\"              \n",
      "[4] \"Rappel pour chaque classe: 1\"                \n",
      "[1] \"Score F1 pour chaque classe: 0.920634920634921\"\n",
      "[2] \"Score F1 pour chaque classe: 0.779661016949153\"\n",
      "[3] \"Score F1 pour chaque classe: 0.648648648648649\"\n",
      "[4] \"Score F1 pour chaque classe: 0.952380952380952\"\n",
      "[1] \"Score F1 global: 0.825331384653418\"\n"
     ]
    }
   ],
   "source": [
    "# Faire des prédictions\n",
    "predictions <- predict(modele_a1, newdata = df)\n",
    "\n",
    "# Matrice de confusion\n",
    "confusion_matrix <- table(df$Apres_repture_ecole, predictions)\n",
    "print(confusion_matrix)\n",
    "\n",
    "# Calcul de l'exactitude\n",
    "accuracy <- sum(diag(confusion_matrix)) / sum(confusion_matrix)\n",
    "print(paste(\"Exactitude:\", accuracy))\n",
    "\n",
    "# Calcul de la précision, du rappel et du score F1\n",
    "precision <- diag(confusion_matrix) / colSums(confusion_matrix)\n",
    "recall <- diag(confusion_matrix) / rowSums(confusion_matrix)\n",
    "f1_score <- 2 * (precision * recall) / (precision + recall)\n",
    "\n",
    "# Afficher la précision, le rappel et le score F1 pour chaque classe\n",
    "print(paste(\"Précision pour chaque classe:\", precision))\n",
    "print(paste(\"Rappel pour chaque classe:\", recall))\n",
    "print(paste(\"Score F1 pour chaque classe:\", f1_score))\n",
    "\n",
    "# Score F1 global\n",
    "overall_f1_score <- mean(f1_score, na.rm = TRUE)\n",
    "print(paste(\"Score F1 global:\", overall_f1_score))"
   ]
  },
  {
   "cell_type": "markdown",
   "metadata": {},
   "source": [
    "### Qualité du modèle\n",
    "\n",
    "#### 1. Analyse de la matrice de confusion\n",
    "La matrice de confusion montre le nombre de prédictions correctes et incorrectes pour chaque classe :\n",
    "\n",
    "- **Classe 1** : Très bien prédite avec 29 prédictions correctes et aucune mauvaise classification.\n",
    "- **Classe 2** : Performances acceptables, avec 23 prédictions correctes mais 5 instances mal classées comme Classe 3.\n",
    "- **Classe 3** : Performances modérées, avec 12 prédictions correctes, mais 3 mal classées comme Classe 2 et 2 comme Classe 4.\n",
    "- **Classe 4** : Performance parfaite, avec les 10 instances correctement classées.\n",
    "\n",
    "#### 2. Exactitude (Accuracy)\n",
    "- **Exactitude** : 82,22 %\n",
    "    - Cela indique que 82,22 % de toutes les prédictions sont correctes. C’est une performance respectable, mais il y a une marge d’amélioration, notamment pour les Classes 2 et 3.\n",
    "\n",
    "#### 3. Précision (Precision)\n",
    "- **Classe 1** : 85,29 %\n",
    "    - Bonne précision, ce qui signifie que la majorité des prédictions pour la Classe 1 sont correctes.\n",
    "- **Classe 2** : 82,14 %\n",
    "    - Une précision acceptable, bien qu’il y ait quelques prédictions incorrectes pour cette classe.\n",
    "- **Classe 3** : 70,59 %\n",
    "    - Précision plus faible, indiquant un taux élevé de faux positifs pour cette classe.\n",
    "- **Classe 4** : 90,91 %\n",
    "    - Excellente précision, avec très peu de faux positifs.\n",
    "\n",
    "#### 4. Rappel (Recall)\n",
    "- **Classe 1** : 100 %\n",
    "    - Rappel parfait, toutes les instances de la Classe 1 ont été correctement identifiées.\n",
    "- **Classe 2** : 74,19 %\n",
    "    - Le modèle a légèrement du mal à détecter toutes les instances de la Classe 2.\n",
    "- **Classe 3** : 60 %\n",
    "    - Faible rappel, montrant que le modèle manque souvent des instances de la Classe 3.\n",
    "- **Classe 4** : 100 %\n",
    "    - Rappel parfait, aucune instance de la Classe 4 n’a été omise.\n",
    "\n",
    "#### 5. Score F1\n",
    "- **Classe 1** : 92,06 %\n",
    "    - Excellent équilibre entre précision et rappel.\n",
    "- **Classe 2** : 77,97 %\n",
    "    - Performances acceptables, mais il y a une marge d’amélioration.\n",
    "- **Classe 3** : 64,86 %\n",
    "    - Le score F1 le plus faible, montrant des difficultés à équilibrer précision et rappel.\n",
    "- **Classe 4** : 95,29 %\n",
    "    - Excellent score F1, reflétant une très bonne performance pour cette classe.\n",
    "\n",
    "#### 6. Score F1 global\n",
    "- **Score F1 global** : 82,53 %\n",
    "    - Ce score global montre que le modèle fonctionne raisonnablement bien pour toutes les classes, bien que la Classe 3 reste un point faible notable."
   ]
  },
  {
   "cell_type": "markdown",
   "metadata": {},
   "source": [
    "### Modélisation avec la variable <code>Sensation_apres_ecole</code>:"
   ]
  },
  {
   "cell_type": "code",
   "execution_count": 4,
   "metadata": {
    "vscode": {
     "languageId": "r"
    }
   },
   "outputs": [
    {
     "name": "stdout",
     "output_type": "stream",
     "text": [
      "# weights:  66 (42 variable)\n",
      "initial  value 98.875106 \n",
      "iter  10 value 69.921757\n",
      "iter  20 value 63.545892\n",
      "iter  30 value 62.811185\n",
      "iter  40 value 62.710519\n",
      "iter  50 value 62.693622\n",
      "iter  60 value 62.691463\n",
      "final  value 62.691445 \n",
      "converged\n"
     ]
    },
    {
     "data": {
      "text/plain": [
       "Call:\n",
       "multinom(formula = Sensation_apres_ecole ~ sexe + Age + Region + \n",
       "    etat_civil + N_educatif + Membre_famille + Revenu_famille + \n",
       "    Revenu_Mensuelle + Redoublant + Prob_Enseignat + Aide_ecole + \n",
       "    Rq_Comprtement + Relat_Parent + Niveau_educ_pere + Niveau_educ_mere + \n",
       "    Sign_ecole + Endroit_freq + Ph_famille + Ricule_Prof + Ricule_collegue, \n",
       "    data = df)\n",
       "\n",
       "Coefficients:\n",
       "  (Intercept)       sexe        Age    Region etat_civil N_educatif\n",
       "2  -2.0092479 -15.288989 1.70302770  2.247275 -2.1451832 -1.1150235\n",
       "3  -0.9491642   1.817137 0.05406014 -1.968661  0.4986185 -0.6205035\n",
       "  Membre_famille Revenu_famille Revenu_Mensuelle Redoublant Prob_Enseignat\n",
       "2    -0.06729289     -1.5735217     0.0023857860 -0.5856426     -0.1390584\n",
       "3    -0.14471002     -0.3600626     0.0007416636  3.8445603      1.6831663\n",
       "  Aide_ecole Rq_Comprtement Relat_Parent Niveau_educ_pere Niveau_educ_mere\n",
       "2 -0.1679547     0.14149738  -0.33008611        -0.311379        0.9435157\n",
       "3  0.3077777    -0.02068932   0.09477963        -1.924186        2.3187715\n",
       "  Sign_ecole Endroit_freq Ph_famille Ricule_Prof Ricule_collegue\n",
       "2 -0.4591416   0.18203647  0.9419490  -0.1390713      -0.9020797\n",
       "3  0.2721123   0.09527128 -0.6077472  -1.0706031      -0.8689986\n",
       "\n",
       "Std. Errors:\n",
       "  (Intercept)         sexe       Age   Region etat_civil N_educatif\n",
       "2    3.876252 5.646761e-06 0.6223653 1.102382  1.0563531  0.6675847\n",
       "3    3.512796 2.066635e+00 0.6365403 1.191550  0.9626981  0.7278866\n",
       "  Membre_famille Revenu_famille Revenu_Mensuelle Redoublant Prob_Enseignat\n",
       "2      0.1810131      0.9815209      0.001789172  0.9406428      0.8952958\n",
       "3      0.2100327      1.0617737      0.001792649  1.8712752      1.0292073\n",
       "  Aide_ecole Rq_Comprtement Relat_Parent Niveau_educ_pere Niveau_educ_mere\n",
       "2  0.2712475      0.4495447    0.6381476        0.7073586        0.7160810\n",
       "3  0.2963439      0.4606205    0.7660096        0.8951740        0.9449035\n",
       "  Sign_ecole Endroit_freq Ph_famille Ricule_Prof Ricule_collegue\n",
       "2  0.4320149    0.2570813  0.4308002   0.9336894        1.018436\n",
       "3  0.3941487    0.2536207  0.4460429   1.2204663        1.054208\n",
       "\n",
       "Residual Deviance: 125.3829 \n",
       "AIC: 209.3829 "
      ]
     },
     "metadata": {},
     "output_type": "display_data"
    }
   ],
   "source": [
    "modele_a2 <- multinom(Sensation_apres_ecole ~ sexe + Age +\n",
    "                        Region + etat_civil + N_educatif +\n",
    "                        Membre_famille + Revenu_famille +\n",
    "                        Revenu_Mensuelle + Redoublant +\n",
    "                        Prob_Enseignat + Aide_ecole +\n",
    "                        Rq_Comprtement + Relat_Parent +\n",
    "                        Niveau_educ_pere + Niveau_educ_mere +\n",
    "                        Sign_ecole +\n",
    "                        Endroit_freq + Ph_famille +\n",
    "                        Ricule_Prof + Ricule_collegue,\n",
    "                      data = df)\n",
    "summary(modele_a2)"
   ]
  },
  {
   "cell_type": "markdown",
   "metadata": {},
   "source": [
    "### Variables et leur interprétation\n",
    "\n",
    "#### Sexe\n",
    "\n",
    "**Coefficients :**\n",
    "- Catégorie 2 : -15.29\n",
    "- Catégorie 3 : 1.82\n",
    "\n",
    "**Interprétation :**\n",
    "- Le sexe a un impact négatif important sur la probabilité d'appartenir à la catégorie 2. Cela signifie que les individus de l'autre sexe (probablement féminin) sont beaucoup moins susceptibles d'être dans cette catégorie.\n",
    "- Pour la catégorie 3, l'effet est positif, ce qui suggère que l'autre sexe augmente la probabilité d'appartenir à cette catégorie.\n",
    "\n",
    "#### Âge\n",
    "\n",
    "**Coefficients :**\n",
    "- Catégorie 2 : 1.70\n",
    "- Catégorie 3 : 0.05\n",
    "\n",
    "**Interprétation :**\n",
    "- L'âge a un effet positif sur la catégorie 2, indiquant que les personnes plus âgées ont une probabilité accrue d'appartenir à cette catégorie.\n",
    "- Pour la catégorie 3, l'effet est très faible, suggérant que l'âge n'a pas d'influence significative.\n",
    "\n",
    "#### Région\n",
    "\n",
    "**Coefficients :**\n",
    "- Catégorie 2 : 2.25\n",
    "- Catégorie 3 : -1.97\n",
    "\n",
    "**Interprétation :**\n",
    "- Vivre dans une certaine région augmente fortement la probabilité d'appartenir à la catégorie 2.\n",
    "- À l'inverse, cela réduit la probabilité d'appartenir à la catégorie 3.\n",
    "\n",
    "#### État civil\n",
    "\n",
    "**Coefficients :**\n",
    "- Catégorie 2 : -2.14\n",
    "- Catégorie 3 : 0.50\n",
    "\n",
    "**Interprétation :**\n",
    "- Un certain état civil (par exemple, célibataire) diminue fortement la probabilité d'être dans la catégorie 2.\n",
    "- Pour la catégorie 3, l'effet est légèrement positif.\n",
    "\n",
    "#### Niveau éducatif (N_educatif)\n",
    "\n",
    "**Coefficients :**\n",
    "- Catégorie 2 : -1.12\n",
    "- Catégorie 3 : -0.62\n",
    "\n",
    "**Interprétation :**\n",
    "- Un niveau éducatif élevé réduit légèrement la probabilité d'appartenir aux catégories 2 et 3 par rapport à la catégorie de référence.\n",
    "\n",
    "#### Membres de la famille (Membre_famille)\n",
    "\n",
    "**Coefficients :**\n",
    "- Catégorie 2 : -0.07\n",
    "- Catégorie 3 : -0.14\n",
    "\n",
    "**Interprétation :**\n",
    "- Le fait d'avoir un certain nombre de membres dans la famille diminue légèrement la probabilité d'appartenir aux catégories 2 et 3.\n",
    "\n",
    "#### Revenu familial (Revenu_famille)\n",
    "\n",
    "**Coefficients :**\n",
    "- Catégorie 2 : -1.57\n",
    "- Catégorie 3 : -0.36\n",
    "\n",
    "**Interprétation :**\n",
    "- Un revenu familial plus élevé diminue la probabilité d'appartenir aux catégories 2 et 3, avec un impact plus marqué pour la catégorie 2.\n",
    "\n",
    "#### Revenu mensuel (Revenu_Mensuelle)\n",
    "\n",
    "**Coefficients :**\n",
    "- Catégorie 2 : 0.002\n",
    "- Catégorie 3 : 0.0007\n",
    "\n",
    "**Interprétation :**\n",
    "- Le revenu mensuel a un impact très faible (quasi-négligeable) sur la probabilité d'appartenir à ces catégories.\n",
    "\n",
    "#### Redoublant\n",
    "\n",
    "**Coefficients :**\n",
    "- Catégorie 2 : -0.58\n",
    "- Catégorie 3 : 3.84\n",
    "\n",
    "**Interprétation :**\n",
    "- Être un redoublant diminue légèrement la probabilité d'appartenir à la catégorie 2, mais augmente fortement celle d'appartenir à la catégorie 3.\n",
    "\n",
    "#### Problèmes avec les enseignants (Prob_Enseignat)\n",
    "\n",
    "**Coefficients :**\n",
    "- Catégorie 2 : -0.14\n",
    "- Catégorie 3 : 1.68\n",
    "\n",
    "**Interprétation :**\n",
    "- Les problèmes avec les enseignants diminuent légèrement la probabilité d'appartenir à la catégorie 2, mais augmentent fortement celle d'appartenir à la catégorie 3.\n",
    "\n",
    "#### Aide à l'école (Aide_ecole)\n",
    "\n",
    "**Coefficients :**\n",
    "- Catégorie 2 : -0.17\n",
    "- Catégorie 3 : 0.31\n",
    "\n",
    "**Interprétation :**\n",
    "- Recevoir une aide à l'école diminue légèrement la probabilité d'être dans la catégorie 2, mais augmente celle d'être dans la catégorie 3.\n",
    "\n",
    "#### Remarques comportementales (Rq_Comprtement)\n",
    "\n",
    "**Coefficients :**\n",
    "- Catégorie 2 : 0.14\n",
    "- Catégorie 3 : -0.02\n",
    "\n",
    "**Interprétation :**\n",
    "- Avoir des remarques comportementales augmente légèrement la probabilité d'appartenir à la catégorie 2, mais n'a presque aucun effet sur la catégorie 3.\n",
    "\n",
    "#### Relation avec les parents (Relat_Parent)\n",
    "\n",
    "**Coefficients :**\n",
    "- Catégorie 2 : -0.33\n",
    "- Catégorie 3 : 0.09\n",
    "\n",
    "**Interprétation :**\n",
    "- Une bonne relation avec les parents réduit la probabilité d'appartenir à la catégorie 2, mais n'a qu'un faible effet positif sur la catégorie 3.\n",
    "\n",
    "#### Niveau éducatif des parents (Niveau_educ_pere et Niveau_educ_mere)\n",
    "\n",
    "**Interprétation :**\n",
    "- Les niveaux d'éducation des parents ont des effets variables :\n",
    "    - Pour le père, un niveau élevé diminue la probabilité d'appartenir aux deux catégories.\n",
    "    - Pour la mère, cela augmente fortement la probabilité pour les deux catégories.\n",
    "\n",
    "#### Signes liés à l'école (Sign_ecole)\n",
    "\n",
    "**Coefficients :**\n",
    "- Catégorie 2 : -0.46\n",
    "- Catégorie 3 : 0.27\n",
    "\n",
    "**Interprétation :**\n",
    "- Un signe spécifique à l'école diminue la probabilité d'appartenir à la catégorie 2, mais augmente légèrement celle de la catégorie 3.\n",
    "\n",
    "#### Endroit fréquenté (Endroit_freq)\n",
    "\n",
    "**Coefficients :**\n",
    "- Catégorie 2 : 0.18\n",
    "- Catégorie 3 : 0.10\n",
    "\n",
    "**Interprétation :**\n",
    "- Fréquenter certains endroits augmente légèrement la probabilité d'appartenir aux catégories 2 et 3.\n",
    "\n",
    "#### Phénomènes familiaux (Ph_famille)\n",
    "\n",
    "**Coefficients :**\n",
    "- Catégorie 2 : 0.94\n",
    "- Catégorie 3 : -0.61\n",
    "\n",
    "**Interprétation :**\n",
    "- Les phénomènes familiaux augmentent fortement la probabilité d'appartenir à la catégorie 2, mais diminuent celle de la catégorie 3.\n",
    "\n",
    "#### Moqueries des professeurs et des collègues (Ricule_Prof et Ricule_collegue)\n",
    "\n",
    "**Interprétation :**\n",
    "- Ces variables mesurent les effets de moqueries des professeurs et des collègues :\n",
    "- Les coefficients sont négatifs dans toutes les catégories, indiquant que ces comportements réduisent les probabilités d'appartenance.\n"
   ]
  },
  {
   "cell_type": "code",
   "execution_count": 5,
   "metadata": {
    "vscode": {
     "languageId": "r"
    }
   },
   "outputs": [
    {
     "name": "stdout",
     "output_type": "stream",
     "text": [
      "   predictions_a2\n",
      "     1  2  3\n",
      "  1 21  4  7\n",
      "  2  3 23  6\n",
      "  3  3  6 17\n",
      "[1] \"Exactitude: 0.677777777777778\"\n",
      "[1] \"Précision pour chaque classe: 0.777777777777778\"\n",
      "[2] \"Précision pour chaque classe: 0.696969696969697\"\n",
      "[3] \"Précision pour chaque classe: 0.566666666666667\"\n"
     ]
    },
    {
     "name": "stdout",
     "output_type": "stream",
     "text": [
      "[1] \"Rappel pour chaque classe: 0.65625\"          \n",
      "[2] \"Rappel pour chaque classe: 0.71875\"          \n",
      "[3] \"Rappel pour chaque classe: 0.653846153846154\"\n",
      "[1] \"Score F1 pour chaque classe: 0.711864406779661\"\n",
      "[2] \"Score F1 pour chaque classe: 0.707692307692308\"\n",
      "[3] \"Score F1 pour chaque classe: 0.607142857142857\"\n",
      "[1] \"Score F1 global: 0.675566523871609\"\n"
     ]
    }
   ],
   "source": [
    "predictions_a2 <- predict(modele_a2, newdata = df)\n",
    "\n",
    "confusion_matrix_a2 <- table(df$Sensation_apres_ecole, predictions_a2)\n",
    "print(confusion_matrix_a2)\n",
    "\n",
    "accuracy_a2 <- sum(diag(confusion_matrix_a2)) / sum(confusion_matrix_a2)\n",
    "print(paste(\"Exactitude:\", accuracy_a2))\n",
    "\n",
    "precision_a2 <- diag(confusion_matrix_a2) / colSums(confusion_matrix_a2)\n",
    "recall_a2 <- diag(confusion_matrix_a2) / rowSums(confusion_matrix_a2)\n",
    "f1_score_a2 <- 2 * (precision_a2 * recall_a2) / (precision_a2 + recall_a2)\n",
    "\n",
    "print(paste(\"Précision pour chaque classe:\", precision_a2))\n",
    "print(paste(\"Rappel pour chaque classe:\", recall_a2))\n",
    "print(paste(\"Score F1 pour chaque classe:\", f1_score_a2))\n",
    "\n",
    "overall_f1_score_a2 <- mean(f1_score_a2, na.rm = TRUE)\n",
    "print(paste(\"Score F1 global:\", overall_f1_score_a2))"
   ]
  },
  {
   "cell_type": "markdown",
   "metadata": {},
   "source": [
    "### Qualité du modèle\n",
    "#### 1. Matrice de confusion\n",
    "- **Classe 1** : Correctement prédite 21 fois, incorrectement prédite 11 fois (4 fois comme classe 2, 7 fois comme classe 3).\n",
    "- **Classe 2** : Correctement prédite 23 fois, incorrectement prédite 9 fois (3 fois comme classe 1, 6 fois comme classe 3).\n",
    "- **Classe 3** : Correctement prédite 17 fois, incorrectement prédite 9 fois (3 fois comme classe 1, 6 fois comme classe 2).\n",
    "#### 2. Exactitude\n",
    "- **Exactitude** : 67.78%\n",
    "    - Cela signifie que 67.78% des prédictions faites par le modèle sont correctes.\n",
    "#### 3. Précision pour chaque classe\n",
    "- **Classe 1** : 77.78% des prédictions étaient correctes.\n",
    "- **Classe 2** : 69.70% des prédictions étaient correctes.\n",
    "- **Classe 3** : 56.67% des prédictions étaient correctes.\n",
    "#### 4. Rappel pour chaque classe\n",
    "- **Classe 1** : Le modèle a capturé 65.63% des instances.\n",
    "- **Classe 2** : Le modèle a capturé 71.88% des instances.\n",
    "- **Classe 3** : Le modèle a capturé 65.38% des instances.\n",
    "#### 5. Score F1 pour chaque classe\n",
    "- **Classe 1** : Le score F1 pour la classe 1 est élevé, indiquant un bon équilibre entre précision et rappel.\n",
    "- **Classe 2** : Le score F1 pour la classe 2 est également élevé, suggérant un bon équilibre entre précision et rappel.\n",
    "- **Classe 3** : Le score F1 pour la classe 3 est plus faible, indiquant que le modèle pourrait être amélioré pour cette classe.\n",
    "#### 6. Score F1 global\n",
    "- **Score F1 global** : 0.68\n",
    "    - Ce score indique un bon équilibre général entre précision et rappel pour toutes les classes.\n",
    "\n",
    "> Le modèle montre une performance globale raisonnable avec une exactitude de 67.78% et un score F1 global de 0.68. Cependant, il existe des variations dans les performances pour chaque classe, avec des scores de précision et de rappel légèrement plus faibles pour la classe 3. Une optimisation supplémentaire pourrait être nécessaire pour améliorer la performance pour toutes les classes de manière équilibrée."
   ]
  },
  {
   "cell_type": "markdown",
   "metadata": {},
   "source": [
    "### Modélisation avec la variable <code>Violence</code>:"
   ]
  },
  {
   "cell_type": "code",
   "execution_count": 6,
   "metadata": {
    "vscode": {
     "languageId": "r"
    }
   },
   "outputs": [
    {
     "name": "stdout",
     "output_type": "stream",
     "text": [
      "# weights:  22 (21 variable)\n",
      "initial  value 62.383246 \n",
      "iter  10 value 36.964839\n",
      "iter  20 value 34.414180\n",
      "final  value 34.343438 \n",
      "converged\n"
     ]
    },
    {
     "data": {
      "text/plain": [
       "Call:\n",
       "multinom(formula = Violence ~ sexe + Age + Region + etat_civil + \n",
       "    N_educatif + Membre_famille + Revenu_famille + Revenu_Mensuelle + \n",
       "    Redoublant + Prob_Enseignat + Aide_ecole + Rq_Comprtement + \n",
       "    Relat_Parent + Niveau_educ_pere + Niveau_educ_mere + Sign_ecole + \n",
       "    Endroit_freq + Ph_famille + Ricule_Prof + Ricule_collegue, \n",
       "    data = df)\n",
       "\n",
       "Coefficients:\n",
       "                       Values   Std. Err.\n",
       "(Intercept)       6.068413312 3.713088928\n",
       "sexe              1.524809931 2.123160842\n",
       "Age              -1.055798304 0.533031905\n",
       "Region            1.002753591 1.025679325\n",
       "etat_civil        0.023586691 0.854480858\n",
       "N_educatif       -0.673341017 0.624908213\n",
       "Membre_famille   -0.061502670 0.193547317\n",
       "Revenu_famille    1.282931321 0.974624342\n",
       "Revenu_Mensuelle -0.004960213 0.002147526\n",
       "Redoublant       -1.211504998 0.971903269\n",
       "Prob_Enseignat   -2.011345947 0.982459715\n",
       "Aide_ecole       -0.196828062 0.270754003\n",
       "Rq_Comprtement    0.509204931 0.424193473\n",
       "Relat_Parent      0.418167382 0.671603049\n",
       "Niveau_educ_pere -0.504132785 0.734454826\n",
       "Niveau_educ_mere -0.204302169 0.672483585\n",
       "Sign_ecole       -0.093979253 0.374686688\n",
       "Endroit_freq      0.392294471 0.274415281\n",
       "Ph_famille       -1.159317176 0.420502757\n",
       "Ricule_Prof       2.829646854 1.229325751\n",
       "Ricule_collegue   0.983529435 0.897753534\n",
       "\n",
       "Residual Deviance: 68.68688 \n",
       "AIC: 110.6869 "
      ]
     },
     "metadata": {},
     "output_type": "display_data"
    }
   ],
   "source": [
    "modele_a3 <- multinom(Violence ~ sexe + Age + Region + etat_civil +\n",
    "                        N_educatif +\n",
    "                        Membre_famille + Revenu_famille +\n",
    "                        Revenu_Mensuelle + Redoublant +\n",
    "                        Prob_Enseignat + Aide_ecole + Rq_Comprtement +\n",
    "                        Relat_Parent +\n",
    "                        Niveau_educ_pere + Niveau_educ_mere + Sign_ecole +\n",
    "                        Endroit_freq + Ph_famille + Ricule_Prof +\n",
    "                        Ricule_collegue,\n",
    "                      data = df)\n",
    "summary(modele_a3)"
   ]
  },
  {
   "cell_type": "markdown",
   "metadata": {},
   "source": [
    "### Variables et leur interprétation pour la violence\n",
    "#### Sexe\n",
    "- **Valeur :** 1.525 (Erreur standard : 2.123)\n",
    "- **Interprétation :** Être d'un certain sexe augmente les chances de violence par rapport à la catégorie de référence. La grande erreur standard indique une incertitude élevée dans cette estimation.\n",
    "#### Âge\n",
    "- **Valeur :** -1.056 (Erreur standard : 0.533)\n",
    "- **Interprétation :** Chaque année d'âge supplémentaire réduit les chances de violence. L'effet est modéré et l'erreur standard indique une certaine incertitude.\n",
    "#### Région\n",
    "- **Valeur :** 1.003 (Erreur standard : 1.026)\n",
    "- **Interprétation :** Vivre dans une certaine région augmente les chances de violence. L'erreur standard indique que cet effet est incertain.\n",
    "#### État civil\n",
    "- **Valeur :** 0.024 (Erreur standard : 0.854)\n",
    "- **Interprétation :** L'état civil a un effet très limité sur les chances de violence, avec une grande incertitude.\n",
    "#### Niveau éducatif\n",
    "- **Valeur :** -0.673 (Erreur standard : 0.625)\n",
    "- **Interprétation :** Un niveau d'éducation plus élevé réduit les chances de violence. L'effet est modéré avec une incertitude notable.\n",
    "#### Membre de la famille\n",
    "- **Valeur :** -0.062 (Erreur standard : 0.194)\n",
    "- **Interprétation :** La présence de membres de la famille a un effet minime et incertain sur les chances de violence.\n",
    "#### Revenu familial\n",
    "- **Valeur :** 1.283 (Erreur standard : 0.975)\n",
    "- **Interprétation :** Des revenus familiaux plus élevés augmentent les chances de violence, mais l'incertitude est élevée.\n",
    "#### Revenu mensuel\n",
    "- **Valeur :** -0.005 (Erreur standard : 0.002)\n",
    "- **Interprétation :** Un revenu mensuel plus élevé réduit légèrement les chances de violence. L'effet est faible mais relativement précis.\n",
    "#### Redoublant\n",
    "- **Valeur :** -1.212 (Erreur standard : 0.972)\n",
    "- **Interprétation :** Le fait de redoubler réduit les chances de violence, mais l'incertitude est élevée.\n",
    "#### Problèmes avec les enseignants\n",
    "- **Valeur :** -2.011 (Erreur standard : 0.982)\n",
    "- **Interprétation :** Les problèmes avec les enseignants réduisent les chances de violence, avec une incertitude notable.\n",
    "#### Aide scolaire\n",
    "- **Valeur :** -0.197 (Erreur standard : 0.271)\n",
    "- **Interprétation :** Le soutien scolaire a un effet minime et incertain sur les chances de violence.\n",
    "#### Remarques sur le comportement\n",
    "- **Valeur :** 0.509 (Erreur standard : 0.424)\n",
    "- **Interprétation :** Les remarques sur le comportement augmentent les chances de violence, avec une incertitude notable.\n",
    "#### Relation avec les parents\n",
    "- **Valeur :** 0.418 (Erreur standard : 0.672)\n",
    "- **Interprétation :** Une bonne relation avec les parents augmente les chances de violence, mais l'incertitude est élevée.\n",
    "#### Niveau éducatif du père\n",
    "- **Valeur :** -0.504 (Erreur standard : 0.734)\n",
    "- **Interprétation :** Un niveau d'éducation plus élevé du père réduit les chances de violence, avec une incertitude notable.\n",
    "#### Niveau éducatif de la mère\n",
    "- **Valeur :** -0.204 (Erreur standard : 0.672)\n",
    "- **Interprétation :** Un niveau d'éducation plus élevé de la mère réduit les chances de violence, avec une incertitude notable.\n",
    "#### Signification de l'école\n",
    "- **Valeur :** -0.094 (Erreur standard : 0.375)\n",
    "- **Interprétation :** La perception de l'importance de l'école a un effet minime et incertain sur les chances de violence.\n",
    "#### Endroit fréquenté\n",
    "- **Valeur :** 0.392 (Erreur standard : 0.274)\n",
    "- **Interprétation :** Les lieux fréquentés augmentent les chances de violence, avec une incertitude notable.\n",
    "#### Phénomène familial\n",
    "- **Valeur :** -1.159 (Erreur standard : 0.421)\n",
    "- **Interprétation :** Les dynamiques familiales réduisent les chances de violence, avec une incertitude notable.\n",
    "#### Moqueries des enseignants\n",
    "- **Valeur :** 2.830 (Erreur standard : 1.229)\n",
    "- **Interprétation :** Les moqueries des enseignants augmentent considérablement les chances de violence, mais l'incertitude est élevée.\n",
    "#### Moqueries des collègues\n",
    "- **Valeur :** 0.984 (Erreur standard : 0.898)\n",
    "- **Interprétation :** Les moqueries des collègues augmentent les chances de violence, avec une incertitude notable."
   ]
  },
  {
   "cell_type": "code",
   "execution_count": 7,
   "metadata": {
    "vscode": {
     "languageId": "r"
    }
   },
   "outputs": [
    {
     "name": "stdout",
     "output_type": "stream",
     "text": [
      "   predictions_a3\n",
      "     0  1\n",
      "  0 54  6\n",
      "  1 12 18\n",
      "[1] \"Exactitude: 0.8\"\n",
      "[1] \"Précision pour chaque classe: 0.818181818181818\"\n",
      "[2] \"Précision pour chaque classe: 0.75\"             \n",
      "[1] \"Rappel pour chaque classe: 0.9\" \"Rappel pour chaque classe: 0.6\"\n",
      "[1] \"Score F1 pour chaque classe: 0.857142857142857\"\n",
      "[2] \"Score F1 pour chaque classe: 0.666666666666667\"\n",
      "[1] \"Score F1 global: 0.761904761904762\"\n"
     ]
    }
   ],
   "source": [
    "predictions_a3 <- predict(modele_a3, newdata = df)\n",
    "\n",
    "confusion_matrix_a3 <- table(df$Violence, predictions_a3)\n",
    "print(confusion_matrix_a3)\n",
    "\n",
    "accuracy_a3 <- sum(diag(confusion_matrix_a3)) / sum(confusion_matrix_a3)\n",
    "print(paste(\"Exactitude:\", accuracy_a3))\n",
    "\n",
    "precision_a3 <- diag(confusion_matrix_a3) / colSums(confusion_matrix_a3)\n",
    "recall_a3 <- diag(confusion_matrix_a3) / rowSums(confusion_matrix_a3)\n",
    "f1_score_a3 <- 2 * (precision_a3 * recall_a3) / (precision_a3 + recall_a3)\n",
    "\n",
    "print(paste(\"Précision pour chaque classe:\", precision_a3))\n",
    "print(paste(\"Rappel pour chaque classe:\", recall_a3))\n",
    "print(paste(\"Score F1 pour chaque classe:\", f1_score_a3))\n",
    "\n",
    "overall_f1_score_a3 <- mean(f1_score_a3, na.rm = TRUE)\n",
    "print(paste(\"Score F1 global:\", overall_f1_score_a3))"
   ]
  },
  {
   "cell_type": "markdown",
   "metadata": {},
   "source": [
    "### Qualité du modèle\n",
    "\n",
    "#### 1. Matrice de confusion\n",
    "- **Classe 0** : Correctement prédite 54 fois, incorrectement prédite 6 fois (comme classe 1).\n",
    "- **Classe 1** : Correctement prédite 18 fois, incorrectement prédite 12 fois (comme classe 0).\n",
    "\n",
    "#### 2. Exactitude\n",
    "- **Exactitude** : 80%\n",
    "    - Cela signifie que 80% des prédictions faites par le modèle sont correctes.\n",
    "\n",
    "#### 3. Précision pour chaque classe\n",
    "- **Classe 0** : 81.82%\n",
    "    - Des prédictions faites pour la classe 0, 81.82% étaient correctes.\n",
    "- **Classe 1** : 75%\n",
    "    - Des prédictions faites pour la classe 1, 75% étaient correctes.\n",
    "\n",
    "#### 4. Rappel pour chaque classe\n",
    "- **Classe 0** : 90%\n",
    "    - Le modèle a capturé 90% des instances de la classe 0.\n",
    "- **Classe 1** : 60%\n",
    "    - Le modèle a capturé 60% des instances de la classe 1.\n",
    "\n",
    "#### 5. Score F1 pour chaque classe\n",
    "- **Classe 0** : 0.86\n",
    "    - Le score F1 pour la classe 0 est élevé, indiquant un bon équilibre entre précision et rappel.\n",
    "- **Classe 1** : 0.67\n",
    "    - Le score F1 pour la classe 1 est plus faible, indiquant que le modèle pourrait être amélioré pour cette classe.\n",
    "\n",
    "#### 6. Score F1 global\n",
    "- **Score F1 global** : 0.76\n",
    "    - Ce score indique un bon équilibre général entre précision et rappel pour toutes les classes.\n",
    "\n",
    "Le modèle montre une performance globale satisfaisante avec une exactitude de 80% et un score F1 global de 0.76. Cependant, il existe une variation dans les performances pour chaque classe, avec des scores de rappel et de précision plus faibles pour la classe 1. Une optimisation supplémentaire pourrait être nécessaire pour améliorer la performance pour toutes les classes de manière équilibrée."
   ]
  }
 ],
 "metadata": {
  "kernelspec": {
   "display_name": "R",
   "language": "R",
   "name": "ir"
  },
  "language_info": {
   "codemirror_mode": "r",
   "file_extension": ".r",
   "mimetype": "text/x-r-source",
   "name": "R",
   "pygments_lexer": "r",
   "version": "4.3.2"
  }
 },
 "nbformat": 4,
 "nbformat_minor": 2
}
