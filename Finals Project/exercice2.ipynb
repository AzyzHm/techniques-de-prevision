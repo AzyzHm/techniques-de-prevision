{
 "cells": [
  {
   "cell_type": "markdown",
   "metadata": {},
   "source": [
    "### Enoncé:\n",
    "- a1: Expliquer la variable continente en fonction des variables Dis Mag value, nombre total de décès, total affecté et total des dommages.\n",
    "- b1: Déterminer la qualité du modèle.\n",
    "- a2: Expliquer la variable Dis Mag value en fonction des variables nombre total de décès, total affecté et total des dommages.\n",
    "- b2: Déterminer la qualité du modèle.\n",
    "- a3: Etudier la stationarité des variables:  Dis Mag value,  nombre total de décès,  total affecté et total des dommages.\n",
    "- b3: Expliquer la variable Dis Mag value en fonction des variables nombre total de décès, total affecté et total des dommages."
   ]
  },
  {
   "cell_type": "markdown",
   "metadata": {},
   "source": [
    "### Chargement des bibliothèques nécessaires et des données:"
   ]
  },
  {
   "cell_type": "code",
   "execution_count": 7,
   "metadata": {
    "vscode": {
     "languageId": "r"
    }
   },
   "outputs": [
    {
     "name": "stderr",
     "output_type": "stream",
     "text": [
      "Warning message:\n",
      "\"package 'readxl' is in use and will not be installed\"\n"
     ]
    },
    {
     "name": "stderr",
     "output_type": "stream",
     "text": [
      "Warning message:\n",
      "\"package 'tseries' is in use and will not be installed\"\n",
      "Warning message:\n",
      "\"package 'vars' is in use and will not be installed\"\n"
     ]
    },
    {
     "data": {
      "text/html": [
       "<table class=\"dataframe\">\n",
       "<caption>A tibble: 6 × 5</caption>\n",
       "<thead>\n",
       "\t<tr><th scope=col>Continente</th><th scope=col>Dis_Mag_Value</th><th scope=col>nombre_total_de_deces</th><th scope=col>Total_Affecte</th><th scope=col>Total_des_dommages</th></tr>\n",
       "\t<tr><th scope=col>&lt;dbl&gt;</th><th scope=col>&lt;dbl&gt;</th><th scope=col>&lt;dbl&gt;</th><th scope=col>&lt;dbl&gt;</th><th scope=col>&lt;dbl&gt;</th></tr>\n",
       "</thead>\n",
       "<tbody>\n",
       "\t<tr><td>2</td><td>8</td><td>  12</td><td>    40</td><td>500000</td></tr>\n",
       "\t<tr><td>3</td><td>7</td><td> 476</td><td>141277</td><td>100000</td></tr>\n",
       "\t<tr><td>2</td><td>7</td><td>   3</td><td>    15</td><td>  7310</td></tr>\n",
       "\t<tr><td>4</td><td>7</td><td>1250</td><td>134250</td><td>  6000</td></tr>\n",
       "\t<tr><td>3</td><td>7</td><td>  31</td><td>   200</td><td>  3150</td></tr>\n",
       "\t<tr><td>1</td><td>8</td><td> 100</td><td>  2000</td><td> 25000</td></tr>\n",
       "</tbody>\n",
       "</table>\n"
      ],
      "text/latex": [
       "A tibble: 6 × 5\n",
       "\\begin{tabular}{lllll}\n",
       " Continente & Dis\\_Mag\\_Value & nombre\\_total\\_de\\_deces & Total\\_Affecte & Total\\_des\\_dommages\\\\\n",
       " <dbl> & <dbl> & <dbl> & <dbl> & <dbl>\\\\\n",
       "\\hline\n",
       "\t 2 & 8 &   12 &     40 & 500000\\\\\n",
       "\t 3 & 7 &  476 & 141277 & 100000\\\\\n",
       "\t 2 & 7 &    3 &     15 &   7310\\\\\n",
       "\t 4 & 7 & 1250 & 134250 &   6000\\\\\n",
       "\t 3 & 7 &   31 &    200 &   3150\\\\\n",
       "\t 1 & 8 &  100 &   2000 &  25000\\\\\n",
       "\\end{tabular}\n"
      ],
      "text/markdown": [
       "\n",
       "A tibble: 6 × 5\n",
       "\n",
       "| Continente &lt;dbl&gt; | Dis_Mag_Value &lt;dbl&gt; | nombre_total_de_deces &lt;dbl&gt; | Total_Affecte &lt;dbl&gt; | Total_des_dommages &lt;dbl&gt; |\n",
       "|---|---|---|---|---|\n",
       "| 2 | 8 |   12 |     40 | 500000 |\n",
       "| 3 | 7 |  476 | 141277 | 100000 |\n",
       "| 2 | 7 |    3 |     15 |   7310 |\n",
       "| 4 | 7 | 1250 | 134250 |   6000 |\n",
       "| 3 | 7 |   31 |    200 |   3150 |\n",
       "| 1 | 8 |  100 |   2000 |  25000 |\n",
       "\n"
      ],
      "text/plain": [
       "  Continente Dis_Mag_Value nombre_total_de_deces Total_Affecte\n",
       "1 2          8               12                      40       \n",
       "2 3          7              476                  141277       \n",
       "3 2          7                3                      15       \n",
       "4 4          7             1250                  134250       \n",
       "5 3          7               31                     200       \n",
       "6 1          8              100                    2000       \n",
       "  Total_des_dommages\n",
       "1 500000            \n",
       "2 100000            \n",
       "3   7310            \n",
       "4   6000            \n",
       "5   3150            \n",
       "6  25000            "
      ]
     },
     "metadata": {},
     "output_type": "display_data"
    }
   ],
   "source": [
    "install.packages(\"readxl\")\n",
    "install.packages(\"tseries\")\n",
    "install.packages(\"vars\")\n",
    "\n",
    "library(readxl)\n",
    "library(tseries)\n",
    "library(vars)\n",
    "\n",
    "df <- read_excel(\"data/exercice2.xlsx\", sheet = \"Feuil1\")\n",
    "head(df)"
   ]
  },
  {
   "cell_type": "markdown",
   "metadata": {},
   "source": [
    "### Modélisation avec la variable <code>Contiente</code>:"
   ]
  },
  {
   "cell_type": "code",
   "execution_count": 2,
   "metadata": {
    "vscode": {
     "languageId": "r"
    }
   },
   "outputs": [
    {
     "data": {
      "text/plain": [
       "\n",
       "Call:\n",
       "lm(formula = Continente ~ Dis_Mag_Value + nombre_total_de_deces + \n",
       "    Total_Affecte + Total_des_dommages, data = df)\n",
       "\n",
       "Residuals:\n",
       "     Min       1Q   Median       3Q      Max \n",
       "-1.65610 -0.95289  0.04509  0.69077  3.04716 \n",
       "\n",
       "Coefficients:\n",
       "                        Estimate Std. Error t value Pr(>|t|)    \n",
       "(Intercept)            4.405e+00  6.763e-01   6.513 2.74e-09 ***\n",
       "Dis_Mag_Value         -3.503e-01  1.010e-01  -3.467 0.000769 ***\n",
       "nombre_total_de_deces -2.956e-06  4.356e-06  -0.679 0.498939    \n",
       "Total_Affecte          1.494e-07  1.643e-07   0.909 0.365510    \n",
       "Total_des_dommages     1.395e-09  4.887e-08   0.029 0.977283    \n",
       "---\n",
       "Signif. codes:  0 '***' 0.001 '**' 0.01 '*' 0.05 '.' 0.1 ' ' 1\n",
       "\n",
       "Residual standard error: 1.033 on 103 degrees of freedom\n",
       "Multiple R-squared:  0.1161,\tAdjusted R-squared:  0.08178 \n",
       "F-statistic: 3.383 on 4 and 103 DF,  p-value: 0.01212\n"
      ]
     },
     "metadata": {},
     "output_type": "display_data"
    }
   ],
   "source": [
    "# Ajuster le modèle de régression linéaire\n",
    "modele_a1 <- lm(Continente ~ Dis_Mag_Value + nombre_total_de_deces + Total_Affecte + Total_des_dommages, data=df)\n",
    "\n",
    "# Résumé du modèle\n",
    "summary(modele_a1)"
   ]
  },
  {
   "cell_type": "markdown",
   "metadata": {},
   "source": [
    "- <code>Dis_Mag_Value</code> a un impact négatif significatif sur Continente **(p-valeur < 0,001)**.\n",
    "- (Intercept) est également significatif **(p-valeur < 0,001)**.\n",
    "- <code>nombre_total_de_deces</code>, <code>Total_Affecte</code>, et <code>Total_des_dommages</code> ne sont pas significatifs **(p-valeurs > 0,05)**."
   ]
  },
  {
   "cell_type": "code",
   "execution_count": 3,
   "metadata": {
    "vscode": {
     "languageId": "r"
    }
   },
   "outputs": [
    {
     "name": "stdout",
     "output_type": "stream",
     "text": [
      "R-squared: 0.1161106 \n",
      "Adjusted R-squared: 0.08178476 \n"
     ]
    },
    {
     "data": {
      "text/html": [
       "<style>\n",
       ".dl-inline {width: auto; margin:0; padding: 0}\n",
       ".dl-inline>dt, .dl-inline>dd {float: none; width: auto; display: inline-block}\n",
       ".dl-inline>dt::after {content: \":\\0020\"; padding-right: .5ex}\n",
       ".dl-inline>dt:not(:first-of-type) {padding-left: .5ex}\n",
       "</style><dl class=dl-inline><dt>(Intercept)</dt><dd>4.40486457250201</dd><dt>Dis_Mag_Value</dt><dd>-0.35029546407272</dd><dt>nombre_total_de_deces</dt><dd>-2.95593563990367e-06</dd><dt>Total_Affecte</dt><dd>1.49353644424893e-07</dd><dt>Total_des_dommages</dt><dd>1.39507053852618e-09</dd></dl>\n"
      ],
      "text/latex": [
       "\\begin{description*}\n",
       "\\item[(Intercept)] 4.40486457250201\n",
       "\\item[Dis\\textbackslash{}\\_Mag\\textbackslash{}\\_Value] -0.35029546407272\n",
       "\\item[nombre\\textbackslash{}\\_total\\textbackslash{}\\_de\\textbackslash{}\\_deces] -2.95593563990367e-06\n",
       "\\item[Total\\textbackslash{}\\_Affecte] 1.49353644424893e-07\n",
       "\\item[Total\\textbackslash{}\\_des\\textbackslash{}\\_dommages] 1.39507053852618e-09\n",
       "\\end{description*}\n"
      ],
      "text/markdown": [
       "(Intercept)\n",
       ":   4.40486457250201Dis_Mag_Value\n",
       ":   -0.35029546407272nombre_total_de_deces\n",
       ":   -2.95593563990367e-06Total_Affecte\n",
       ":   1.49353644424893e-07Total_des_dommages\n",
       ":   1.39507053852618e-09\n",
       "\n"
      ],
      "text/plain": [
       "          (Intercept)         Dis_Mag_Value nombre_total_de_deces \n",
       "         4.404865e+00         -3.502955e-01         -2.955936e-06 \n",
       "        Total_Affecte    Total_des_dommages \n",
       "         1.493536e-07          1.395071e-09 "
      ]
     },
     "metadata": {},
     "output_type": "display_data"
    },
    {
     "data": {
      "image/png": "[encoded data removed]",
      "text/plain": [
       "Plot with title \"\""
      ]
     },
     "metadata": {
      "image/png": {
       "height": 420,
       "width": 420
      }
     },
     "output_type": "display_data"
    }
   ],
   "source": [
    "# Afficher les diagnostics du modèle\n",
    "par(mfrow=c(2,2))\n",
    "plot(modele_a1)\n",
    "\n",
    "# Afficher R² et ajusté R²\n",
    "cat(\"R-squared:\", summary(modele_a1)$r.squared, \"\\n\")\n",
    "cat(\"Adjusted R-squared:\", summary(modele_a1)$adj.r.squared, \"\\n\")\n",
    "\n",
    "# Afficher les coefficients du modèle\n",
    "coefficients(modele_a1)"
   ]
  },
  {
   "cell_type": "markdown",
   "metadata": {},
   "source": [
    "##### Diagnostic du modèle:\n",
    "\n",
    "1. **Residuals vs Fitted:** Le graphique montre les résidus par rapport aux valeurs ajustées pour vérifier la linéarité, l'égalité des variances des erreurs, et les valeurs aberrantes. Aucun motif clair dans les résidus, ce qui est bon signe.\n",
    "\n",
    "2. **Q-Q Plot:** Les quantiles des résidus suivent approximativement une ligne droite, indiquant que les résidus suivent une distribution normale.\n",
    "\n",
    "3. **Scale-Location:** Ce graphique montre la racine carrée des résidus standardisés par rapport aux valeurs ajustées pour vérifier l'homoscedasticité. La ligne horizontale suggère que l'erreur résiduelle est constante à travers les valeurs ajustées.\n",
    "\n",
    "4. **Residuals vs Leverage:** Ce graphique identifie les points de données influents. Aucun point particulièrement influent observé qui aurait un effet disproportionné sur le modèle.\n",
    "\n",
    "##### Qualité du modèle:\n",
    "\n",
    "Le R² multiple de **0,1161** suggère que le modèle explique environ **11,61%** de la variance de la variable <code>Continente</code>.\n",
    "\n",
    "Le R² ajusté de **0,08178** indique une correction pour le nombre de prédicteurs dans le modèle.\n",
    "\n",
    "La statistique F de **3,383** avec une p-valeur de **0,01212** signifie que le modèle est globalement significatif.\n",
    "\n",
    ">Le modèle indique que <code>Dis_Mag_Value</code> a un impact significatif et négatif sur la variable <code>contiente</code>, tandis que <code>nombre_total_de_deces</code>, <code>Total_Affecte</code> et <code>Total_des_dommages</code> ne semblent pas avoir un impact significatif. La qualité globale du modèle est faible, expliquant environ **11%** de la variance de la variable dépendante. Les diagnostics visuels confirment que les hypothèses de régression sont globalement respectées."
   ]
  },
  {
   "cell_type": "markdown",
   "metadata": {},
   "source": [
    "### Modélisation avec la variable <code>Dis_Mag_Value</code>:"
   ]
  },
  {
   "cell_type": "code",
   "execution_count": 4,
   "metadata": {
    "vscode": {
     "languageId": "r"
    }
   },
   "outputs": [
    {
     "data": {
      "text/plain": [
       "\n",
       "Call:\n",
       "lm(formula = Dis_Mag_Value ~ nombre_total_de_deces + Total_Affecte + \n",
       "    Total_des_dommages, data = df)\n",
       "\n",
       "Residuals:\n",
       "    Min      1Q  Median      3Q     Max \n",
       "-5.6123 -0.6106  0.3546  0.3909  1.4397 \n",
       "\n",
       "Coefficients:\n",
       "                        Estimate Std. Error t value Pr(>|t|)    \n",
       "(Intercept)            6.610e+00  1.034e-01  63.940   <2e-16 ***\n",
       "nombre_total_de_deces  6.400e-06  4.181e-06   1.531   0.1288    \n",
       "Total_Affecte          3.935e-07  1.547e-07   2.543   0.0125 *  \n",
       "Total_des_dommages    -5.823e-08  4.709e-08  -1.237   0.2190    \n",
       "---\n",
       "Signif. codes:  0 '***' 0.001 '**' 0.01 '*' 0.05 '.' 0.1 ' ' 1\n",
       "\n",
       "Residual standard error: 1.002 on 104 degrees of freedom\n",
       "Multiple R-squared:  0.097,\tAdjusted R-squared:  0.07095 \n",
       "F-statistic: 3.724 on 3 and 104 DF,  p-value: 0.0137\n"
      ]
     },
     "metadata": {},
     "output_type": "display_data"
    }
   ],
   "source": [
    "modele_a2 <- lm(Dis_Mag_Value ~ nombre_total_de_deces + Total_Affecte + Total_des_dommages, data=df)\n",
    "\n",
    "summary(modele_a2)"
   ]
  },
  {
   "cell_type": "markdown",
   "metadata": {},
   "source": [
    "- (Intercept) a un effet positif significatif **(p-valeur < 0,001)**.\n",
    "- <code>Total_Affecte</code> a un effet positif significatif **(p-valeur = 0,0125)**.\n",
    "- <code>nombre_total_de_deces</code> et <code>Total_des_dommages</code> ne sont pas significatifs **(p-valeurs > 0,05)**."
   ]
  },
  {
   "cell_type": "code",
   "execution_count": 5,
   "metadata": {
    "vscode": {
     "languageId": "r"
    }
   },
   "outputs": [
    {
     "name": "stdout",
     "output_type": "stream",
     "text": [
      "R-squared: 0.09700005 \n",
      "Adjusted R-squared: 0.07095198 \n"
     ]
    },
    {
     "data": {
      "text/html": [
       "<style>\n",
       ".dl-inline {width: auto; margin:0; padding: 0}\n",
       ".dl-inline>dt, .dl-inline>dd {float: none; width: auto; display: inline-block}\n",
       ".dl-inline>dt::after {content: \":\\0020\"; padding-right: .5ex}\n",
       ".dl-inline>dt:not(:first-of-type) {padding-left: .5ex}\n",
       "</style><dl class=dl-inline><dt>(Intercept)</dt><dd>6.60951312552024</dd><dt>nombre_total_de_deces</dt><dd>6.40047818878544e-06</dd><dt>Total_Affecte</dt><dd>3.93521923215577e-07</dd><dt>Total_des_dommages</dt><dd>-5.82348528537366e-08</dd></dl>\n"
      ],
      "text/latex": [
       "\\begin{description*}\n",
       "\\item[(Intercept)] 6.60951312552024\n",
       "\\item[nombre\\textbackslash{}\\_total\\textbackslash{}\\_de\\textbackslash{}\\_deces] 6.40047818878544e-06\n",
       "\\item[Total\\textbackslash{}\\_Affecte] 3.93521923215577e-07\n",
       "\\item[Total\\textbackslash{}\\_des\\textbackslash{}\\_dommages] -5.82348528537366e-08\n",
       "\\end{description*}\n"
      ],
      "text/markdown": [
       "(Intercept)\n",
       ":   6.60951312552024nombre_total_de_deces\n",
       ":   6.40047818878544e-06Total_Affecte\n",
       ":   3.93521923215577e-07Total_des_dommages\n",
       ":   -5.82348528537366e-08\n",
       "\n"
      ],
      "text/plain": [
       "          (Intercept) nombre_total_de_deces         Total_Affecte \n",
       "         6.609513e+00          6.400478e-06          3.935219e-07 \n",
       "   Total_des_dommages \n",
       "        -5.823485e-08 "
      ]
     },
     "metadata": {},
     "output_type": "display_data"
    },
    {
     "data": {
      "image/png": "[encoded data removed]",
      "text/plain": [
       "Plot with title \"\""
      ]
     },
     "metadata": {
      "image/png": {
       "height": 420,
       "width": 420
      }
     },
     "output_type": "display_data"
    }
   ],
   "source": [
    "par(mfrow=c(2,2))\n",
    "plot(modele_a2)\n",
    "\n",
    "cat(\"R-squared:\", summary(modele_a2)$r.squared, \"\\n\")\n",
    "cat(\"Adjusted R-squared:\", summary(modele_a2)$adj.r.squared, \"\\n\")\n",
    "\n",
    "coefficients(modele_a2)"
   ]
  },
  {
   "cell_type": "markdown",
   "metadata": {},
   "source": [
    "##### Diagnostics visuels:\n",
    "\n",
    "1. **Residuals vs Fitted:** Ce graphique montre les résidus par rapport aux valeurs ajustées pour vérifier la linéarité, l'hétéroscédasticité et les valeurs aberrantes. Aucun motif clair dans les résidus, ce qui est un bon signe.\n",
    "\n",
    "2. **Q-Q Plot:** Les quantiles des résidus suivent approximativement une ligne droite, indiquant que les résidus suivent une distribution normale.\n",
    "\n",
    "3. **Scale-Location:** Ce graphique montre la racine carrée des résidus standardisés par rapport aux valeurs ajustées pour vérifier l'homoscedasticité. La ligne horizontale suggère que l'erreur résiduelle est constante à travers les valeurs ajustées.\n",
    "\n",
    "4. **Residuals vs Leverage:** Ce graphique identifie les points de données influents. Aucun point particulièrement influent observé qui aurait un effet disproportionné sur le modèle.\n",
    "\n",
    "##### Qualité du modèle:\n",
    "\n",
    "- Le R² multiple de 0,097 suggère que le modèle explique environ 9,7% de la variance de la variable <code>Dis_Mag_Value</code>.\n",
    "\n",
    "- Le R² ajusté de **0,07095** indique une correction pour le nombre de prédicteurs dans le modèle.\n",
    "\n",
    "- La statistique F de **3,724** avec une p-valeur de **0,0137** signifie que le modèle est globalement significatif.\n",
    "\n",
    ">Le modèle indique que <code>Total_Affecte</code> a un impact positif significatif sur la variable <code>Dis_Mag_value</code>, tandis que <code>nombre_total_de_deces</code> et <code>Total_des_dommages</code> ne semblent pas avoir un impact significatif. La qualité globale du modèle est faible, expliquant environ **9,70%** de la variance de la variable dépendante. Les diagnostics visuels confirment que les hypothèses de régression sont globalement respectées."
   ]
  },
  {
   "cell_type": "markdown",
   "metadata": {},
   "source": [
    "### Étude de la stationarité:\n",
    "Pour étudier la stationarité des variables, on va utiliser le test de Dickey-Fuller augmenté (ADF):"
   ]
  },
  {
   "cell_type": "code",
   "execution_count": 6,
   "metadata": {
    "vscode": {
     "languageId": "r"
    }
   },
   "outputs": [
    {
     "name": "stderr",
     "output_type": "stream",
     "text": [
      "Warning message in adf.test(df$Dis_Mag_Value):\n",
      "\"p-value smaller than printed p-value\"\n"
     ]
    },
    {
     "data": {
      "text/plain": [
       "\n",
       "\tAugmented Dickey-Fuller Test\n",
       "\n",
       "data:  df$Dis_Mag_Value\n",
       "Dickey-Fuller = -4.2359, Lag order = 4, p-value = 0.01\n",
       "alternative hypothesis: stationary\n"
      ]
     },
     "metadata": {},
     "output_type": "display_data"
    },
    {
     "name": "stderr",
     "output_type": "stream",
     "text": [
      "Warning message in adf.test(df$nombre_total_de_deces):\n",
      "\"p-value smaller than printed p-value\"\n"
     ]
    },
    {
     "data": {
      "text/plain": [
       "\n",
       "\tAugmented Dickey-Fuller Test\n",
       "\n",
       "data:  df$nombre_total_de_deces\n",
       "Dickey-Fuller = -4.8164, Lag order = 4, p-value = 0.01\n",
       "alternative hypothesis: stationary\n"
      ]
     },
     "metadata": {},
     "output_type": "display_data"
    },
    {
     "name": "stderr",
     "output_type": "stream",
     "text": [
      "Warning message in adf.test(df$Total_Affecte):\n",
      "\"p-value smaller than printed p-value\"\n"
     ]
    },
    {
     "data": {
      "text/plain": [
       "\n",
       "\tAugmented Dickey-Fuller Test\n",
       "\n",
       "data:  df$Total_Affecte\n",
       "Dickey-Fuller = -4.0487, Lag order = 4, p-value = 0.01\n",
       "alternative hypothesis: stationary\n"
      ]
     },
     "metadata": {},
     "output_type": "display_data"
    },
    {
     "name": "stderr",
     "output_type": "stream",
     "text": [
      "Warning message in adf.test(df$Total_des_dommages):\n",
      "\"p-value smaller than printed p-value\"\n"
     ]
    },
    {
     "data": {
      "text/plain": [
       "\n",
       "\tAugmented Dickey-Fuller Test\n",
       "\n",
       "data:  df$Total_des_dommages\n",
       "Dickey-Fuller = -5.2938, Lag order = 4, p-value = 0.01\n",
       "alternative hypothesis: stationary\n"
      ]
     },
     "metadata": {},
     "output_type": "display_data"
    }
   ],
   "source": [
    "# Effectuer le test ADF pour chaque variable\n",
    "adf.test(df$Dis_Mag_Value)\n",
    "adf.test(df$nombre_total_de_deces)\n",
    "adf.test(df$Total_Affecte)\n",
    "adf.test(df$Total_des_dommages)"
   ]
  },
  {
   "cell_type": "markdown",
   "metadata": {},
   "source": [
    ">Les résultats des tests de Dickey-Fuller augmentés montrent que toutes les variables (<code>Dis_Mag_Value</code>, <code>nombre_total_de_deces</code>, <code>Total_Affecte</code>, et <code>Total_des_dommages</code>) sont **stationnaires**, car les p-valeurs sont inférieures à **0,05**. Cela signifie que ces séries temporelles n'ont pas de tendance, de saisonnalité, ou de composantes systématiques autres que l'auto-corrélation de l'ordre inférieur.\n",
    "\n",
    ">En conséquence, nous pouvons procéder à une analyse plus approfondie en utilisant un modèle **VAR**."
   ]
  },
  {
   "cell_type": "code",
   "execution_count": 8,
   "metadata": {
    "vscode": {
     "languageId": "r"
    }
   },
   "outputs": [
    {
     "name": "stdout",
     "output_type": "stream",
     "text": [
      "$selection\n",
      "AIC(n)  HQ(n)  SC(n) FPE(n) \n",
      "     1      1      1      1 \n",
      "\n",
      "$criteria\n",
      "                  1            2            3            4            5\n",
      "AIC(n) 7.596636e+01 7.610007e+01 7.623456e+01 7.648174e+01 7.674301e+01\n",
      "HQ(n)  7.628643e+01 7.668687e+01 7.708809e+01 7.760199e+01 7.812999e+01\n",
      "SC(n)  7.675767e+01 7.755082e+01 7.834474e+01 7.925135e+01 8.017205e+01\n",
      "FPE(n) 9.819799e+32 1.126946e+33 1.302127e+33 1.699217e+33 2.276689e+33\n",
      "                  6            7            8            9           10\n",
      "AIC(n) 7.699193e+01 7.723591e+01 7.737594e+01 7.747201e+01 7.756892e+01\n",
      "HQ(n)  7.864563e+01 7.915634e+01 7.956309e+01 7.992589e+01 8.028953e+01\n",
      "SC(n)  8.108040e+01 8.198381e+01 8.278327e+01 8.353877e+01 8.429511e+01\n",
      "FPE(n) 3.061651e+33 4.181450e+33 5.280749e+33 6.590796e+33 8.572216e+33\n",
      "\n"
     ]
    }
   ],
   "source": [
    "# Sélectionner la longueur de lag appropriée\n",
    "lag_selection <- VARselect(df, lag.max = 10, type = \"const\")\n",
    "print(lag_selection)"
   ]
  },
  {
   "cell_type": "markdown",
   "metadata": {},
   "source": [
    "Tous les critères (AIC, HQ, SC, FPE) suggèrent que le lag optimal pour le modèle VAR est de **1**. Cela signifie que nous devrions utiliser un lag de 1 pour estimer notre modèle VAR, ce qui minimisera les erreurs de prédiction tout en maintenant un modèle parsimonieux."
   ]
  },
  {
   "cell_type": "code",
   "execution_count": 9,
   "metadata": {
    "vscode": {
     "languageId": "r"
    }
   },
   "outputs": [
    {
     "data": {
      "text/plain": [
       "\n",
       "VAR Estimation Results:\n",
       "========================= \n",
       "Endogenous variables: Continente, Dis_Mag_Value, nombre_total_de_deces, Total_Affecte, Total_des_dommages \n",
       "Deterministic variables: const \n",
       "Sample size: 107 \n",
       "Log Likelihood: -4775.82 \n",
       "Roots of the characteristic polynomial:\n",
       "0.2005 0.2005 0.111 0.111 0.1021\n",
       "Call:\n",
       "VAR(y = df, p = lag_selection$selection[1], type = \"const\")\n",
       "\n",
       "\n",
       "Estimation results for equation Continente: \n",
       "=========================================== \n",
       "Continente = Continente.l1 + Dis_Mag_Value.l1 + nombre_total_de_deces.l1 + Total_Affecte.l1 + Total_des_dommages.l1 + const \n",
       "\n",
       "                           Estimate Std. Error t value Pr(>|t|)\n",
       "Continente.l1             4.392e-02  1.041e-01   0.422    0.674\n",
       "Dis_Mag_Value.l1          1.401e-01  1.123e-01   1.247    0.215\n",
       "nombre_total_de_deces.l1  4.594e-07  4.594e-06   0.100    0.921\n",
       "Total_Affecte.l1         -1.807e-08  1.736e-07  -0.104    0.917\n",
       "Total_des_dommages.l1     8.380e-08  5.142e-08   1.630    0.106\n",
       "const                     1.013e+00  8.458e-01   1.197    0.234\n",
       "\n",
       "\n",
       "Residual standard error: 1.086 on 101 degrees of freedom\n",
       "Multiple R-Squared: 0.04067,\tAdjusted R-squared: -0.006817 \n",
       "F-statistic: 0.8565 on 5 and 101 DF,  p-value: 0.5132 \n",
       "\n",
       "\n",
       "Estimation results for equation Dis_Mag_Value: \n",
       "============================================== \n",
       "Dis_Mag_Value = Continente.l1 + Dis_Mag_Value.l1 + nombre_total_de_deces.l1 + Total_Affecte.l1 + Total_des_dommages.l1 + const \n",
       "\n",
       "                           Estimate Std. Error t value Pr(>|t|)    \n",
       "Continente.l1             1.579e-01  9.977e-02   1.583    0.117    \n",
       "Dis_Mag_Value.l1          5.993e-02  1.077e-01   0.557    0.579    \n",
       "nombre_total_de_deces.l1  5.732e-06  4.403e-06   1.302    0.196    \n",
       "Total_Affecte.l1         -2.595e-08  1.664e-07  -0.156    0.876    \n",
       "Total_des_dommages.l1    -1.845e-08  4.929e-08  -0.374    0.709    \n",
       "const                     5.926e+00  8.107e-01   7.309 6.45e-11 ***\n",
       "---\n",
       "Signif. codes:  0 '***' 0.001 '**' 0.01 '*' 0.05 '.' 0.1 ' ' 1\n",
       "\n",
       "\n",
       "Residual standard error: 1.041 on 101 degrees of freedom\n",
       "Multiple R-Squared: 0.03855,\tAdjusted R-squared: -0.009046 \n",
       "F-statistic: 0.8099 on 5 and 101 DF,  p-value: 0.5452 \n",
       "\n",
       "\n",
       "Estimation results for equation nombre_total_de_deces: \n",
       "====================================================== \n",
       "nombre_total_de_deces = Continente.l1 + Dis_Mag_Value.l1 + nombre_total_de_deces.l1 + Total_Affecte.l1 + Total_des_dommages.l1 + const \n",
       "\n",
       "                           Estimate Std. Error t value Pr(>|t|)\n",
       "Continente.l1            -1.784e+02  2.371e+03  -0.075    0.940\n",
       "Dis_Mag_Value.l1          1.101e+03  2.559e+03   0.430    0.668\n",
       "nombre_total_de_deces.l1  7.660e-02  1.046e-01   0.732    0.466\n",
       "Total_Affecte.l1         -2.547e-03  3.955e-03  -0.644    0.521\n",
       "Total_des_dommages.l1    -2.747e-04  1.171e-03  -0.234    0.815\n",
       "const                    -2.709e+03  1.927e+04  -0.141    0.888\n",
       "\n",
       "\n",
       "Residual standard error: 24750 on 101 degrees of freedom\n",
       "Multiple R-Squared: 0.01073,\tAdjusted R-squared: -0.03824 \n",
       "F-statistic: 0.2192 on 5 and 101 DF,  p-value: 0.9536 \n",
       "\n",
       "\n",
       "Estimation results for equation Total_Affecte: \n",
       "============================================== \n",
       "Total_Affecte = Continente.l1 + Dis_Mag_Value.l1 + nombre_total_de_deces.l1 + Total_Affecte.l1 + Total_des_dommages.l1 + const \n",
       "\n",
       "                           Estimate Std. Error t value Pr(>|t|)    \n",
       "Continente.l1            -2.017e+04  4.413e+04  -0.457   0.6485    \n",
       "Dis_Mag_Value.l1          8.617e+03  4.762e+04   0.181   0.8568    \n",
       "nombre_total_de_deces.l1  1.899e+01  1.947e+00   9.754 3.13e-16 ***\n",
       "Total_Affecte.l1         -1.405e-01  7.360e-02  -1.909   0.0591 .  \n",
       "Total_des_dommages.l1    -3.283e-03  2.180e-02  -0.151   0.8806    \n",
       "const                     1.260e+05  3.585e+05   0.351   0.7260    \n",
       "---\n",
       "Signif. codes:  0 '***' 0.001 '**' 0.01 '*' 0.05 '.' 0.1 ' ' 1\n",
       "\n",
       "\n",
       "Residual standard error: 460500 on 101 degrees of freedom\n",
       "Multiple R-Squared: 0.507,\tAdjusted R-squared: 0.4826 \n",
       "F-statistic: 20.77 on 5 and 101 DF,  p-value: 3.207e-14 \n",
       "\n",
       "\n",
       "Estimation results for equation Total_des_dommages: \n",
       "=================================================== \n",
       "Total_des_dommages = Continente.l1 + Dis_Mag_Value.l1 + nombre_total_de_deces.l1 + Total_Affecte.l1 + Total_des_dommages.l1 + const \n",
       "\n",
       "                           Estimate Std. Error t value Pr(>|t|)  \n",
       "Continente.l1            -3.674e+05  2.037e+05  -1.803   0.0743 .\n",
       "Dis_Mag_Value.l1         -3.277e+05  2.199e+05  -1.491   0.1391  \n",
       "nombre_total_de_deces.l1  2.480e+00  8.990e+00   0.276   0.7832  \n",
       "Total_Affecte.l1         -3.215e-02  3.398e-01  -0.095   0.9248  \n",
       "Total_des_dommages.l1    -3.739e-02  1.006e-01  -0.371   0.7111  \n",
       "const                     3.519e+06  1.655e+06   2.126   0.0360 *\n",
       "---\n",
       "Signif. codes:  0 '***' 0.001 '**' 0.01 '*' 0.05 '.' 0.1 ' ' 1\n",
       "\n",
       "\n",
       "Residual standard error: 2126000 on 101 degrees of freedom\n",
       "Multiple R-Squared: 0.04276,\tAdjusted R-squared: -0.004624 \n",
       "F-statistic: 0.9024 on 5 and 101 DF,  p-value: 0.4827 \n",
       "\n",
       "\n",
       "\n",
       "Covariance matrix of residuals:\n",
       "                      Continente Dis_Mag_Value nombre_total_de_deces\n",
       "Continente             1.180e+00    -3.961e-01            -3.029e+03\n",
       "Dis_Mag_Value         -3.961e-01     1.084e+00             4.301e+03\n",
       "nombre_total_de_deces -3.029e+03     4.301e+03             6.124e+08\n",
       "Total_Affecte         -3.887e+04     1.340e+05             2.134e+09\n",
       "Total_des_dommages     9.393e+04    -1.098e+05             1.206e+10\n",
       "                      Total_Affecte Total_des_dommages\n",
       "Continente               -3.887e+04          9.393e+04\n",
       "Dis_Mag_Value             1.340e+05         -1.098e+05\n",
       "nombre_total_de_deces     2.134e+09          1.206e+10\n",
       "Total_Affecte             2.121e+11          4.708e+10\n",
       "Total_des_dommages        4.708e+10          4.520e+12\n",
       "\n",
       "Correlation matrix of residuals:\n",
       "                      Continente Dis_Mag_Value nombre_total_de_deces\n",
       "Continente               1.00000      -0.35023               -0.1127\n",
       "Dis_Mag_Value           -0.35023       1.00000                0.1669\n",
       "nombre_total_de_deces   -0.11267       0.16694                1.0000\n",
       "Total_Affecte           -0.07770       0.27958                0.1873\n",
       "Total_des_dommages       0.04067      -0.04959                0.2292\n",
       "                      Total_Affecte Total_des_dommages\n",
       "Continente                 -0.07770            0.04067\n",
       "Dis_Mag_Value               0.27958           -0.04959\n",
       "nombre_total_de_deces       0.18727            0.22923\n",
       "Total_Affecte               1.00000            0.04809\n",
       "Total_des_dommages          0.04809            1.00000\n",
       "\n"
      ]
     },
     "metadata": {},
     "output_type": "display_data"
    }
   ],
   "source": [
    "# Estimer le modèle VAR avec le lag optimal\n",
    "var_model <- VAR(df, p = lag_selection$selection[1], type = \"const\")\n",
    "summary(var_model)"
   ]
  },
  {
   "cell_type": "markdown",
   "metadata": {},
   "source": [
    "- Le modèle VAR inclut les variables endogènes Continente, <code>Dis_Mag_Value</code>, <code>nombre_total_de_deces</code>, <code>Total_Affecte</code>, et <code>Total_des_dommages</code> avec une constante. La taille de l'échantillon est de **107 observations**, et le log likelihood est de **-4775.82**. Les racines du polynôme caractéristique sont toutes **inférieures à 1**, ce qui indique que le modèle est stable.\n",
    "\n",
    "- Pour l'équation Continente, les coefficients des variables à leur premier lag sont présentés avec leurs erreurs standards, valeurs t et p-valeurs. Aucune des variables n'est significative pour prédire Continente à leur lag respectif **(Pr(>|t|) > 0.05)**."
   ]
  },
  {
   "cell_type": "code",
   "execution_count": 10,
   "metadata": {
    "vscode": {
     "languageId": "r"
    }
   },
   "outputs": [
    {
     "name": "stdout",
     "output_type": "stream",
     "text": [
      "\n",
      "\tPortmanteau Test (asymptotic)\n",
      "\n",
      "data:  Residuals of VAR object var_model\n",
      "Chi-squared = 295.15, df = 375, p-value = 0.9991\n",
      "\n"
     ]
    },
    {
     "data": {
      "text/plain": [
       "$serial\n",
       "\n",
       "\tPortmanteau Test (asymptotic)\n",
       "\n",
       "data:  Residuals of VAR object var_model\n",
       "Chi-squared = 295.15, df = 375, p-value = 0.9991\n",
       "\n"
      ]
     },
     "metadata": {},
     "output_type": "display_data"
    },
    {
     "data": {
      "image/png": "[encoded data removed]",
      "text/plain": [
       "Plot with title \"OLS-CUSUM of equation Total_des_dommages\""
      ]
     },
     "metadata": {
      "image/png": {
       "height": 420,
       "width": 420
      }
     },
     "output_type": "display_data"
    }
   ],
   "source": [
    "# Test de stabilité\n",
    "stability_test <- stability(var_model)\n",
    "plot(stability_test)\n",
    "\n",
    "# Test des résidus\n",
    "serial_test <- serial.test(var_model, lags.pt = 16, type = \"PT.asymptotic\")\n",
    "print(serial_test)"
   ]
  },
  {
   "cell_type": "markdown",
   "metadata": {},
   "source": [
    "##### Interprétation:\n",
    "- La p-valeur de **0.9991** étant très élevée, nous n'avons pas de preuve suffisante pour rejeter l'hypothèse nulle d'absence d'auto-corrélation des résidus. Cela indique que les résidus du modèle VAR ne présentent pas de corrélation en série significative, ce qui est un bon signe pour la validité du modèle.\n",
    "\n",
    "##### Plots OLS-CUSUM des différentes équations:\n",
    "\n",
    "- Les graphiques OLS-CUSUM montrent le processus de fluctuation empirique au fil du temps pour les différentes équations (<code>Continente</code>, <code>Total_Affecte</code>, <code>Dis_Mag_Value</code>, <code>Total_des_dommages</code>, et <code>nombre_total_de_deces</code>).\n",
    "\n",
    "- Les courbes de fluctuation empirique restent généralement stables au fil du temps, ce qui suggère que les coefficients de régression sont stables et que le modèle VAR est globalement stable.\n",
    "\n",
    ">Les diagnostics du modèle VAR indiquent que le modèle est bien spécifié et stable. Il n'y a pas de preuve d'auto-corrélation significative des résidus, et les coefficients de régression semblent stables au fil du temps."
   ]
  },
  {
   "cell_type": "code",
   "execution_count": 11,
   "metadata": {
    "vscode": {
     "languageId": "r"
    }
   },
   "outputs": [
    {
     "data": {
      "image/png": "[encoded data removed]",
      "text/plain": [
       "Plot with title \"Forecast of series Total_des_dommages\""
      ]
     },
     "metadata": {
      "image/png": {
       "height": 420,
       "width": 420
      }
     },
     "output_type": "display_data"
    }
   ],
   "source": [
    "# Prévisions à l'aide du modèle VAR\n",
    "forecast <- predict(var_model, n.ahead = 10)\n",
    "plot(forecast)"
   ]
  },
  {
   "cell_type": "markdown",
   "metadata": {},
   "source": [
    ">Les prévisions du modèle VAR montrent une continuité des tendances observées dans les données historiques. Aucun changement significatif ou fluctuation majeure n'est prévu pour les séries <code>Continente</code>, <code>Total_Affecte</code>, <code>Dis_Mag_Value</code>, <code>Total_des_dommages</code> et <code>nombre_total_de_deces</code>. Le modèle VAR semble bien capturer les dynamiques des données historiques et fournir des prévisions stables pour les prochaines périodes."
   ]
  }
 ],
 "metadata": {
  "kernelspec": {
   "display_name": "R",
   "language": "R",
   "name": "ir"
  },
  "language_info": {
   "codemirror_mode": "r",
   "file_extension": ".r",
   "mimetype": "text/x-r-source",
   "name": "R",
   "pygments_lexer": "r",
   "version": "4.3.2"
  }
 },
 "nbformat": 4,
 "nbformat_minor": 2
}
