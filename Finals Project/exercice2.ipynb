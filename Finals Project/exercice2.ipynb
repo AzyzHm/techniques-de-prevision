{
 "cells": [
  {
   "cell_type": "markdown",
   "metadata": {},
   "source": [
    "### Enoncé:\n",
    "- a1: Expliquer la variable continente en fonction des variables Dis Mag value, nombre total de décès, total affecté et total des dommages.\n",
    "- b1: Déterminer la qualité du modèle.\n",
    "- a2: Expliquer la variable Dis Mag value en fonction des variables nombre total de décès, total affecté et total des dommages.\n",
    "- b2: Déterminer la qualité du modèle.\n",
    "- a3: Etudier la stationarité des variables:  Dis Mag value,  nombre total de décès,  total affecté et total des dommages.\n",
    "- b3: Expliquer la variable Dis Mag value en fonction des variables nombre total de décès, total affecté et total des dommages."
   ]
  },
  {
   "cell_type": "markdown",
   "metadata": {},
   "source": [
    "### Chargement des bibliothèques nécessaires et des données:"
   ]
  },
  {
   "cell_type": "code",
   "execution_count": 3,
   "metadata": {
    "vscode": {
     "languageId": "r"
    }
   },
   "outputs": [
    {
     "name": "stderr",
     "output_type": "stream",
     "text": [
      "Warning message:\n",
      "\"package 'readxl' is in use and will not be installed\"\n",
      "Warning message:\n",
      "\"package 'nnet' is in use and will not be installed\"\n"
     ]
    },
    {
     "name": "stderr",
     "output_type": "stream",
     "text": [
      "Warning message:\n",
      "\"package 'tseries' is in use and will not be installed\"\n",
      "Warning message:\n",
      "\"package 'vars' is in use and will not be installed\"\n"
     ]
    },
    {
     "data": {
      "text/html": [
       "<table class=\"dataframe\">\n",
       "<caption>A tibble: 6 × 5</caption>\n",
       "<thead>\n",
       "\t<tr><th scope=col>Continente</th><th scope=col>Dis_Mag_Value</th><th scope=col>nombre_total_de_deces</th><th scope=col>Total_Affecte</th><th scope=col>Total_des_dommages</th></tr>\n",
       "\t<tr><th scope=col>&lt;dbl&gt;</th><th scope=col>&lt;dbl&gt;</th><th scope=col>&lt;dbl&gt;</th><th scope=col>&lt;dbl&gt;</th><th scope=col>&lt;dbl&gt;</th></tr>\n",
       "</thead>\n",
       "<tbody>\n",
       "\t<tr><td>2</td><td>8</td><td>  12</td><td>    40</td><td>500000</td></tr>\n",
       "\t<tr><td>3</td><td>7</td><td> 476</td><td>141277</td><td>100000</td></tr>\n",
       "\t<tr><td>2</td><td>7</td><td>   3</td><td>    15</td><td>  7310</td></tr>\n",
       "\t<tr><td>4</td><td>7</td><td>1250</td><td>134250</td><td>  6000</td></tr>\n",
       "\t<tr><td>3</td><td>7</td><td>  31</td><td>   200</td><td>  3150</td></tr>\n",
       "\t<tr><td>1</td><td>8</td><td> 100</td><td>  2000</td><td> 25000</td></tr>\n",
       "</tbody>\n",
       "</table>\n"
      ],
      "text/latex": [
       "A tibble: 6 × 5\n",
       "\\begin{tabular}{lllll}\n",
       " Continente & Dis\\_Mag\\_Value & nombre\\_total\\_de\\_deces & Total\\_Affecte & Total\\_des\\_dommages\\\\\n",
       " <dbl> & <dbl> & <dbl> & <dbl> & <dbl>\\\\\n",
       "\\hline\n",
       "\t 2 & 8 &   12 &     40 & 500000\\\\\n",
       "\t 3 & 7 &  476 & 141277 & 100000\\\\\n",
       "\t 2 & 7 &    3 &     15 &   7310\\\\\n",
       "\t 4 & 7 & 1250 & 134250 &   6000\\\\\n",
       "\t 3 & 7 &   31 &    200 &   3150\\\\\n",
       "\t 1 & 8 &  100 &   2000 &  25000\\\\\n",
       "\\end{tabular}\n"
      ],
      "text/markdown": [
       "\n",
       "A tibble: 6 × 5\n",
       "\n",
       "| Continente &lt;dbl&gt; | Dis_Mag_Value &lt;dbl&gt; | nombre_total_de_deces &lt;dbl&gt; | Total_Affecte &lt;dbl&gt; | Total_des_dommages &lt;dbl&gt; |\n",
       "|---|---|---|---|---|\n",
       "| 2 | 8 |   12 |     40 | 500000 |\n",
       "| 3 | 7 |  476 | 141277 | 100000 |\n",
       "| 2 | 7 |    3 |     15 |   7310 |\n",
       "| 4 | 7 | 1250 | 134250 |   6000 |\n",
       "| 3 | 7 |   31 |    200 |   3150 |\n",
       "| 1 | 8 |  100 |   2000 |  25000 |\n",
       "\n"
      ],
      "text/plain": [
       "  Continente Dis_Mag_Value nombre_total_de_deces Total_Affecte\n",
       "1 2          8               12                      40       \n",
       "2 3          7              476                  141277       \n",
       "3 2          7                3                      15       \n",
       "4 4          7             1250                  134250       \n",
       "5 3          7               31                     200       \n",
       "6 1          8              100                    2000       \n",
       "  Total_des_dommages\n",
       "1 500000            \n",
       "2 100000            \n",
       "3   7310            \n",
       "4   6000            \n",
       "5   3150            \n",
       "6  25000            "
      ]
     },
     "metadata": {},
     "output_type": "display_data"
    }
   ],
   "source": [
    "install.packages(\"readxl\")\n",
    "install.packages(\"nnet\")\n",
    "install.packages(\"tseries\")\n",
    "install.packages(\"vars\")\n",
    "\n",
    "library(readxl)\n",
    "library(nnet)\n",
    "library(tseries)\n",
    "library(vars)\n",
    "\n",
    "df <- read_excel(\"data/exercice2.xlsx\", sheet = \"Feuil1\")\n",
    "head(df)"
   ]
  },
  {
   "cell_type": "markdown",
   "metadata": {},
   "source": [
    "### Modélisation avec la variable <code>Contiente</code>:"
   ]
  },
  {
   "cell_type": "code",
   "execution_count": 4,
   "metadata": {
    "vscode": {
     "languageId": "r"
    }
   },
   "outputs": [
    {
     "name": "stdout",
     "output_type": "stream",
     "text": [
      "# weights:  30 (20 variable)\n",
      "initial  value 173.819295 \n",
      "iter  10 value 165.148541\n",
      "iter  20 value 131.900368\n",
      "iter  30 value 125.614527\n",
      "iter  40 value 125.098755\n",
      "iter  50 value 124.569999\n",
      "iter  60 value 123.846741\n",
      "iter  70 value 122.842655\n",
      "iter  80 value 122.716010\n",
      "final  value 122.714668 \n",
      "converged\n"
     ]
    },
    {
     "data": {
      "text/plain": [
       "Call:\n",
       "multinom(formula = Continente ~ Dis_Mag_Value + nombre_total_de_deces + \n",
       "    Total_Affecte + Total_des_dommages, data = df)\n",
       "\n",
       "Coefficients:\n",
       "  (Intercept) Dis_Mag_Value nombre_total_de_deces Total_Affecte\n",
       "2   -4.807929     0.6177011         -3.017864e-05  9.305018e-07\n",
       "3    5.326481    -0.9018543         -3.933559e-04  1.298160e-06\n",
       "4    7.680986    -1.4427079         -1.203217e-05  1.060519e-06\n",
       "5   -6.456925     0.8655634         -2.439808e-02 -1.408477e-04\n",
       "  Total_des_dommages\n",
       "2       4.043856e-07\n",
       "3       2.230761e-07\n",
       "4       2.370130e-07\n",
       "5      -1.795839e-04\n",
       "\n",
       "Std. Errors:\n",
       "   (Intercept) Dis_Mag_Value nombre_total_de_deces Total_Affecte\n",
       "2 3.457665e-08  2.398805e-07          3.356182e-05  7.155007e-07\n",
       "3 9.207998e-08  6.071898e-07          3.224619e-04  1.013857e-06\n",
       "4 1.374329e-08  8.091810e-08          4.799140e-05  1.007641e-06\n",
       "5 3.854395e-08  2.675433e-07          4.320014e-07  2.195122e-04\n",
       "  Total_des_dommages\n",
       "2       3.148590e-07\n",
       "3       3.271382e-07\n",
       "4       3.320683e-07\n",
       "5       2.530911e-04\n",
       "\n",
       "Residual Deviance: 245.4293 \n",
       "AIC: 285.4293 "
      ]
     },
     "metadata": {},
     "output_type": "display_data"
    }
   ],
   "source": [
    "modele_a1 <- multinom(Continente ~ Dis_Mag_Value + nombre_total_de_deces +\n",
    "                        Total_Affecte + Total_des_dommages, data = df)\n",
    "\n",
    "summary(modele_a1)"
   ]
  },
  {
   "cell_type": "markdown",
   "metadata": {},
   "source": [
    "### Interprétation:\n",
    "\n",
    "#### (Intercept)\n",
    "- **Catégorie 2** : Coefficient de -4.807929 (Erreur standard : 3.457665e-08)\n",
    "- **Catégorie 3** : Coefficient de 5.326481 (Erreur standard : 9.207998e-08)\n",
    "- **Catégorie 4** : Coefficient de 7.680986 (Erreur standard : 1.374329e-08)\n",
    "- **Catégorie 5** : Coefficient de -6.456925 (Erreur standard : 3.854395e-08)\n",
    "\n",
    "> Les intercepts indiquent la base log-odds pour chaque catégorie par rapport à la catégorie de référence. Les erreurs standard extrêmement faibles suggèrent une grande précision dans ces estimations.\n",
    "\n",
    "#### Dis_Mag_Value\n",
    "- **Catégorie 2** : Coefficient de 0.6177011 (Erreur standard : 2.398805e-07)\n",
    "- **Catégorie 3** : Coefficient de -0.9018543 (Erreur standard : 6.071898e-07)\n",
    "- **Catégorie 4** : Coefficient de -1.4427079 (Erreur standard : 8.091810e-08)\n",
    "- **Catégorie 5** : Coefficient de 0.8655634 (Erreur standard : 2.675433e-07)\n",
    "\n",
    "> La variable Dis_Mag_Value a des effets contrastés sur les différentes catégories. Un coefficient positif indique une augmentation des log-odds pour une certaine catégorie, tandis qu'un coefficient négatif indique une réduction des log-odds.\n",
    "\n",
    "#### nombre_total_de_deces\n",
    "- **Catégorie 2** : Coefficient de -3.017864e-05 (Erreur standard : 3.356182e-05)\n",
    "- **Catégorie 3** : Coefficient de -3.933559e-04 (Erreur standard : 3.224619e-04)\n",
    "- **Catégorie 4** : Coefficient de -1.203217e-05 (Erreur standard : 4.799140e-05)\n",
    "- **Catégorie 5** : Coefficient de -2.439808e-02 (Erreur standard : 4.320014e-07)\n",
    "\n",
    "> Le nombre total de décès a des coefficients négatifs pour toutes les catégories, indiquant une réduction des log-odds de chaque catégorie par rapport à la catégorie de référence. Les erreurs standard sont relativement faibles pour la catégorie 5, mais plus élevées pour les autres catégories, suggérant une incertitude accrue.\n",
    "\n",
    "#### Total_Affecte\n",
    "- **Catégorie 2** : Coefficient de 9.305018e-07 (Erreur standard : 7.155007e-07)\n",
    "- **Catégorie 3** : Coefficient de 1.298160e-06 (Erreur standard : 1.013857e-06)\n",
    "- **Catégorie 4** : Coefficient de 1.060519e-06 (Erreur standard : 1.007641e-06)\n",
    "- **Catégorie 5** : Coefficient de -1.408477e-04 (Erreur standard : 2.195122e-04)\n",
    "\n",
    "> Le Total_Affecte a un effet positif sur les catégories 2, 3 et 4, indiquant une augmentation des log-odds pour ces catégories, bien que l'effet soit faible. Pour la catégorie 5, l'effet est négatif.\n",
    "\n",
    "#### Total_des_dommages\n",
    "- **Catégorie 2** : Coefficient de 4.043856e-07 (Erreur standard : 3.148590e-07)\n",
    "- **Catégorie 3** : Coefficient de 2.230761e-07 (Erreur standard : 3.271382e-07)\n",
    "- **Catégorie 4** : Coefficient de 2.370130e-07 (Erreur standard : 3.320683e-07)\n",
    "- **Catégorie 5** : Coefficient de -1.795839e-04 (Erreur standard : 2.530911e-04)\n",
    "\n",
    "> Les dommages totaux ont des effets très faibles et légèrement positifs sur les catégories 2, 3 et 4. Pour la catégorie 5, l'effet est négatif mais modéré.\n",
    "\n",
    "#### Statistiques du modèle\n",
    "- **Residual Deviance** : 245.4293\n",
    "> La déviance résiduelle indique l'ajustement global du modèle. Une déviance résiduelle plus faible suggère un meilleur ajustement.\n",
    "\n",
    "- **AIC** : 285.4293\n",
    "> Le critère d'information d'Akaike (AIC) évalue la qualité du modèle tout en pénalisant la complexité. Un AIC plus faible indique un modèle plus performant.\n",
    "\n",
    "### Conclusion\n",
    "Les résultats montrent que les variables Dis_Mag_Value, nombre_total_de_deces, Total_Affecte et Total_des_dommages ont des effets variés sur les chances d'appartenir à différentes catégories de Continente. Cependant, certaines erreurs standard élevées suggèrent une incertitude dans certaines estimations. L'ajustement du modèle pourrait être nécessaire pour affiner ces prédictions.\n"
   ]
  },
  {
   "cell_type": "code",
   "execution_count": 5,
   "metadata": {
    "vscode": {
     "languageId": "r"
    }
   },
   "outputs": [
    {
     "name": "stdout",
     "output_type": "stream",
     "text": [
      "         Actual\n",
      "Predicted  1  2  3  4  5\n",
      "        1 29 18 13  6  2\n",
      "        2  7 13  3  1  0\n",
      "        3  5  1  6  2  0\n",
      "        4  0  0  0  2  0\n",
      "        5  0  0  0  0  0\n",
      "Accuracy: 0.462963 \n",
      "Global F1 Score: 0.4093554 \n",
      "Precision: 0.4264706 0.5416667 0.4285714 1 NaN \n",
      "Recall: 0.7073171 0.40625 0.2727273 0.1818182 0 \n",
      "F1 Score: 0.5321101 0.4642857 0.3333333 0.3076923 NaN \n"
     ]
    }
   ],
   "source": [
    "# Prédictions avec le modèle\n",
    "predictions <- predict(modele_a1, df)\n",
    "\n",
    "# Afficher la matrice de confusion\n",
    "confusion_matrix <- table(Predicted = predictions, Actual = df$Continente)\n",
    "print(confusion_matrix)\n",
    "\n",
    "# Calculer l'exactitude\n",
    "accuracy <- sum(diag(confusion_matrix)) / sum(confusion_matrix)\n",
    "cat(\"Accuracy:\", accuracy, \"\\n\")\n",
    "\n",
    "# Calculer la précision, le rappel et le F1-score pour chaque classe\n",
    "precision <- diag(confusion_matrix) / rowSums(confusion_matrix)\n",
    "recall <- diag(confusion_matrix) / colSums(confusion_matrix)\n",
    "f1_score <- 2 * (precision * recall) / (precision + recall)\n",
    "\n",
    "# Calculer le F1-score global\n",
    "global_f1_score <- mean(f1_score, na.rm = TRUE)\n",
    "cat(\"Global F1 Score:\", global_f1_score, \"\\n\")\n",
    "\n",
    "# Afficher les résultats\n",
    "cat(\"Precision:\", precision, \"\\n\")\n",
    "cat(\"Recall:\", recall, \"\\n\")\n",
    "cat(\"F1 Score:\", f1_score, \"\\n\")"
   ]
  },
  {
   "cell_type": "markdown",
   "metadata": {},
   "source": [
    "### Qualité du modèle:\n",
    "\n",
    "#### 1. Matrice de confusion:\n",
    "- **Classe 1** : Correctement prédite 29 fois, incorrectement prédite 39 fois (18 fois comme classe 2, 13 fois comme classe 3, 6 fois comme classe 4, 2 fois comme classe 5).\n",
    "- **Classe 2** : Correctement prédite 13 fois, incorrectement prédite 11 fois (7 fois comme classe 1, 3 fois comme classe 3, 1 fois comme classe 4).\n",
    "- **Classe 3** : Correctement prédite 6 fois, incorrectement prédite 8 fois (5 fois comme classe 1, 1 fois comme classe 2, 2 fois comme classe 4).\n",
    "- **Classe 4** : Correctement prédite 2 fois, incorrectement prédite 0 fois.\n",
    "- **Classe 5** : Jamais correctement prédite.\n",
    "\n",
    "#### 2. Exactitude:\n",
    "- **Interprétation** : L'exactitude est de 46.30%, ce qui signifie que 46.30% des prédictions faites par le modèle sont correctes.\n",
    "\n",
    "#### 3. Précision pour chaque classe:\n",
    "- **Classe 1** : 42.65% \n",
    "    - Des prédictions faites pour la classe 1, 42.65% étaient correctes.\n",
    "- **Classe 2** : 54.17% \n",
    "    - Des prédictions faites pour la classe 2, 54.17% étaient correctes.\n",
    "- **Classe 3** : 42.86% \n",
    "    - Des prédictions faites pour la classe 3, 42.86% étaient correctes.\n",
    "- **Classe 4** : 100% \n",
    "    - Des prédictions faites pour la classe 4, 100% étaient correctes.\n",
    "- **Classe 5** : Non applicable \n",
    "    - Aucune prédiction correcte.\n",
    "\n",
    "#### 4. Rappel pour chaque classe:\n",
    "- **Classe 1** : 70.73% \n",
    "    - Le modèle a capturé 70.73% des instances de la classe 1.\n",
    "- **Classe 2** : 40.63% \n",
    "    - Le modèle a capturé 40.63% des instances de la classe 2.\n",
    "- **Classe 3** : 27.27% \n",
    "    - Le modèle a capturé 27.27% des instances de la classe 3.\n",
    "- **Classe 4** : 18.18% \n",
    "    - Le modèle a capturé 18.18% des instances de la classe 4.\n",
    "- **Classe 5** : 0% \n",
    "    - Le modèle n'a capturé aucune instance de la classe 5.\n",
    "\n",
    "#### 5. Score F1 pour chaque classe:\n",
    "- **Classe 1** : 0.53 \n",
    "    - Le score F1 pour la classe 1 est modéré, indiquant un équilibre entre précision et rappel.\n",
    "- **Classe 2** : 0.46 \n",
    "    - Le score F1 pour la classe 2 est relativement faible, suggérant des améliorations possibles.\n",
    "- **Classe 3** : 0.33 \n",
    "    - Le score F1 pour la classe 3 est faible, indiquant des performances insatisfaisantes pour cette classe.\n",
    "- **Classe 4** : 0.31 \n",
    "    - Le score F1 pour la classe 4 est faible, indiquant des performances insatisfaisantes pour cette classe.\n",
    "- **Classe 5** : Non applicable \n",
    "    - Aucune prédiction correcte.\n",
    "\n",
    "#### 6. Score F1 global:\n",
    "- **Interprétation** : Le score F1 global est de 0.41, ce qui indique des performances globales modérées mais insatisfaisantes du modèle.\n",
    "\n",
    "> Le modèle montre des performances globales limitées avec une exactitude de 46.30% et un score F1 global de 0.41. Les performances varient considérablement entre les classes, avec des scores particulièrement faibles pour les classes 3, 4 et 5. Une optimisation supplémentaire et une amélioration du modèle pourraient être nécessaires pour améliorer les performances pour toutes les classes de manière équilibrée."
   ]
  },
  {
   "cell_type": "markdown",
   "metadata": {},
   "source": [
    "### Modélisation avec la variable <code>Dis_Mag_Value</code>:"
   ]
  },
  {
   "cell_type": "code",
   "execution_count": null,
   "metadata": {
    "vscode": {
     "languageId": "r"
    }
   },
   "outputs": [
    {
     "name": "stdout",
     "output_type": "stream",
     "text": [
      "# weights:  30 (20 variable)\n"
     ]
    },
    {
     "name": "stdout",
     "output_type": "stream",
     "text": [
      "initial  value 193.510023 \n",
      "iter  10 value 178.341875\n",
      "iter  20 value 133.918263\n",
      "iter  30 value 127.265709\n",
      "iter  40 value 126.230292\n",
      "iter  50 value 125.705007\n",
      "iter  60 value 125.098559\n",
      "iter  70 value 124.351402\n",
      "iter  80 value 124.027365\n",
      "iter  90 value 123.578972\n",
      "iter 100 value 123.309541\n",
      "final  value 123.309541 \n",
      "stopped after 100 iterations\n"
     ]
    },
    {
     "data": {
      "text/plain": [
       "Call:\n",
       "multinom(formula = Dis_Mag_Value ~ nombre_total_de_deces + Total_Affecte + \n",
       "    Total_des_dommages, data = df)\n",
       "\n",
       "Coefficients:\n",
       "  (Intercept) nombre_total_de_deces Total_Affecte Total_des_dommages\n",
       "4   1.4144650         -0.5933362445  6.511416e-06       0.0003920540\n",
       "5   0.2818687         -0.0007285482  1.874325e-05       0.0003997089\n",
       "6   1.3400011          0.0001790053  4.001649e-05       0.0003993648\n",
       "7   1.7559870          0.0001754416  4.003299e-05       0.0003994797\n",
       "8   0.4755223          0.0002000724  4.225506e-05       0.0003992066\n",
       "\n",
       "Std. Errors:\n",
       "   (Intercept) nombre_total_de_deces Total_Affecte Total_des_dommages\n",
       "4 6.931299e-09          9.498022e-09  1.351225e-04       1.860743e-05\n",
       "5 2.678236e-09          3.222084e-07  9.039424e-05       7.912646e-06\n",
       "6 4.078630e-09          1.940440e-05  8.802337e-05       7.915000e-06\n",
       "7 6.059144e-09          1.818987e-05  8.802112e-05       7.913400e-06\n",
       "8 1.872733e-09          1.364613e-05  8.802322e-05       7.917249e-06\n",
       "\n",
       "Residual Deviance: 246.6191 \n",
       "AIC: 286.6191 "
      ]
     },
     "metadata": {},
     "output_type": "display_data"
    }
   ],
   "source": [
    "modele_a2 <- multinom(Dis_Mag_Value ~ nombre_total_de_deces +\n",
    "                        Total_Affecte + Total_des_dommages, data = df)\n",
    "\n",
    "summary(modele_a2)"
   ]
  },
  {
   "cell_type": "markdown",
   "metadata": {},
   "source": [
    "### Interprétation des résultats du modèle de régression logistique multinomiale sur Dis_Mag_Value\n",
    "\n",
    "#### (Intercept)\n",
    "- **Catégorie 4** : Coefficient de 1.4144650 (Erreur standard : 6.931299e-09)\n",
    "- **Catégorie 5** : Coefficient de 0.2818687 (Erreur standard : 2.678236e-09)\n",
    "- **Catégorie 6** : Coefficient de 1.3400011 (Erreur standard : 4.078630e-09)\n",
    "- **Catégorie 7** : Coefficient de 1.7559870 (Erreur standard : 6.059144e-09)\n",
    "- **Catégorie 8** : Coefficient de 0.4755223 (Erreur standard : 1.872733e-09)\n",
    "\n",
    "> Les intercepts indiquent la base log-odds pour chaque catégorie par rapport à la catégorie de référence. Les erreurs standard extrêmement faibles suggèrent une grande précision dans ces estimations.\n",
    "\n",
    "#### nombre_total_de_deces\n",
    "- **Catégorie 4** : Coefficient de -0.5933362445 (Erreur standard : 9.498022e-09)\n",
    "- **Catégorie 5** : Coefficient de -0.0007285482 (Erreur standard : 3.222084e-07)\n",
    "- **Catégorie 6** : Coefficient de 0.0001790053 (Erreur standard : 1.940440e-05)\n",
    "- **Catégorie 7** : Coefficient de 0.0001754416 (Erreur standard : 1.818987e-05)\n",
    "- **Catégorie 8** : Coefficient de 0.0002000724 (Erreur standard : 1.364613e-05)\n",
    "\n",
    "> Le nombre total de décès a des effets contrastés sur les différentes catégories. Un coefficient négatif indique une réduction des log-odds pour une certaine catégorie, tandis qu'un coefficient positif indique une augmentation des log-odds.\n",
    "\n",
    "#### Total_Affecte\n",
    "- **Catégorie 4** : Coefficient de 6.511416e-06 (Erreur standard : 1.351225e-04)\n",
    "- **Catégorie 5** : Coefficient de 1.874325e-05 (Erreur standard : 9.039424e-05)\n",
    "- **Catégorie 6** : Coefficient de 4.001649e-05 (Erreur standard : 8.802337e-05)\n",
    "- **Catégorie 7** : Coefficient de 4.003299e-05 (Erreur standard : 8.802112e-05)\n",
    "- **Catégorie 8** : Coefficient de 4.225506e-05 (Erreur standard : 8.802322e-05)\n",
    "\n",
    "> Le Total_Affecte a des coefficients positifs pour toutes les catégories, indiquant une augmentation des log-odds. Les erreurs standard sont relativement faibles, suggérant une certaine précision dans ces estimations.\n",
    "\n",
    "#### Total_des_dommages\n",
    "- **Catégorie 4** : Coefficient de 0.0003920540 (Erreur standard : 1.860743e-05)\n",
    "- **Catégorie 5** : Coefficient de 0.0003997089 (Erreur standard : 7.912646e-06)\n",
    "- **Catégorie 6** : Coefficient de 0.0003993648 (Erreur standard : 7.915000e-06)\n",
    "- **Catégorie 7** : Coefficient de 0.0003994797 (Erreur standard : 7.913400e-06)\n",
    "- **Catégorie 8** : Coefficient de 0.0003992066 (Erreur standard : 7.917249e-06)\n",
    "\n",
    "> Les dommages totaux ont des effets positifs similaires sur les log-odds pour toutes les catégories. Les erreurs standard sont faibles, indiquant une grande précision dans ces estimations.\n",
    "\n",
    "#### Statistiques du modèle\n",
    "- **Residual Deviance** : 246.6191\n",
    "    > La déviance résiduelle indique l'ajustement global du modèle. Une déviance résiduelle plus faible suggère un meilleur ajustement.\n",
    "- **AIC** : 286.6191\n",
    "    > Le critère d'information d'Akaike (AIC) évalue la qualité du modèle tout en pénalisant la complexité. Un AIC plus faible indique un modèle plus performant.\n",
    "\n",
    "### Conclusion\n",
    "Les résultats montrent que les variables nombre_total_de_deces, Total_Affecte et Total_des_dommages ont des effets variés sur les chances d'appartenir à différentes catégories de Dis_Mag_Value. Les erreurs standard faibles pour certaines variables suggèrent une grande précision dans ces estimations, tandis que d'autres variables montrent une certaine incertitude. L'ajustement du modèle pourrait être nécessaire pour affiner ces prédictions."
   ]
  },
  {
   "cell_type": "code",
   "execution_count": 13,
   "metadata": {
    "vscode": {
     "languageId": "r"
    }
   },
   "outputs": [
    {
     "name": "stdout",
     "output_type": "stream",
     "text": [
      "         Actual\n",
      "Predicted  1  4  5  6  7  8\n",
      "        1  0  0  0  0  0  0\n",
      "        4  0  0  0  0  0  0\n",
      "        5  0  0  1  0  0  0\n",
      "        6  0  0  0  0  0  0\n",
      "        7  1  1  7 29 48 14\n",
      "        8  0  0  0  1  0  6\n",
      "Accuracy: 0.5092593 \n",
      "Global F1 Score: 0.4384384 \n",
      "Precision: NaN NaN 1 NaN 0.48 0.8571429 \n",
      "Recall: 0 0 0.125 0 1 0.3 \n",
      "F1 Score: NaN NaN 0.2222222 NaN 0.6486486 0.4444444 \n"
     ]
    }
   ],
   "source": [
    "# Prédictions avec le modèle\n",
    "predictions_a2 <- predict(modele_a2, df)\n",
    "\n",
    "# Afficher la matrice de confusion\n",
    "confusion_matrix_a2 <- table(Predicted = predictions_a2,\n",
    "                             Actual = df$Dis_Mag_Value)\n",
    "print(confusion_matrix_a2)\n",
    "\n",
    "# Calculer l'exactitude\n",
    "accuracy_a2 <- sum(diag(confusion_matrix_a2)) / sum(confusion_matrix_a2)\n",
    "cat(\"Accuracy:\", accuracy_a2, \"\\n\")\n",
    "\n",
    "# Calculer la précision, le rappel et le F1-score pour chaque classe\n",
    "precision_a2 <- diag(confusion_matrix_a2) / rowSums(confusion_matrix_a2)\n",
    "recall_a2 <- diag(confusion_matrix_a2) / colSums(confusion_matrix_a2)\n",
    "f1_score_a2 <- 2 * (precision_a2 * recall_a2) / (precision_a2 + recall_a2)\n",
    "\n",
    "# Calculer le F1-score global\n",
    "global_f1_score_a2 <- mean(f1_score_a2, na.rm = TRUE)\n",
    "cat(\"Global F1 Score:\", global_f1_score_a2, \"\\n\")\n",
    "\n",
    "# Afficher les résultats\n",
    "cat(\"Precision:\", precision_a2, \"\\n\")\n",
    "cat(\"Recall:\", recall_a2, \"\\n\")\n",
    "cat(\"F1 Score:\", f1_score_a2, \"\\n\")"
   ]
  },
  {
   "cell_type": "markdown",
   "metadata": {},
   "source": [
    "### Qualité du modèle\n",
    "\n",
    "#### 1. Matrice de confusion\n",
    "\n",
    "- **Classe 1** : Pas de prédictions correctes.\n",
    "- **Classe 4** : Pas de prédictions correctes.\n",
    "- **Classe 5** : Correctement prédite 1 fois, incorrectement prédite 7 fois comme classe 7.\n",
    "- **Classe 6** : Pas de prédictions correctes.\n",
    "- **Classe 7** : Correctement prédite 48 fois, incorrectement prédite 23 fois (1 fois comme classe 1, 1 fois comme classe 4, 7 fois comme classe 5, 29 fois comme classe 6, 14 fois comme classe 8).\n",
    "- **Classe 8** : Correctement prédite 6 fois, incorrectement prédite 1 fois comme classe 6.\n",
    "\n",
    "#### 2. Exactitude\n",
    "\n",
    "- **Interprétation** : L'exactitude est de 50.93%, ce qui signifie que 50.93% des prédictions faites par le modèle sont correctes.\n",
    "\n",
    "#### 3. Précision pour chaque classe\n",
    "\n",
    "- **Classe 1** : Non applicable (aucune prédiction correcte).\n",
    "- **Classe 4** : Non applicable (aucune prédiction correcte).\n",
    "- **Classe 5** : 100% - Des prédictions faites pour la classe 5, 100% étaient correctes.\n",
    "- **Classe 6** : Non applicable (aucune prédiction correcte).\n",
    "- **Classe 7** : 48% - Des prédictions faites pour la classe 7, 48% étaient correctes.\n",
    "- **Classe 8** : 85.71% - Des prédictions faites pour la classe 8, 85.71% étaient correctes.\n",
    "\n",
    "#### 4. Rappel pour chaque classe\n",
    "\n",
    "- **Classe 1** : 0% - Le modèle n'a capturé aucune instance de la classe 1.\n",
    "- **Classe 4** : 0% - Le modèle n'a capturé aucune instance de la classe 4.\n",
    "- **Classe 5** : 12.5% - Le modèle a capturé 12.5% des instances de la classe 5.\n",
    "- **Classe 6** : 0% - Le modèle n'a capturé aucune instance de la classe 6.\n",
    "- **Classe 7** : 100% - Le modèle a capturé toutes les instances de la classe 7.\n",
    "- **Classe 8** : 30% - Le modèle a capturé 30% des instances de la classe 8.\n",
    "\n",
    "#### 5. Score F1 pour chaque classe\n",
    "\n",
    "- **Classe 1** : Non applicable (aucune prédiction correcte).\n",
    "- **Classe 4** : Non applicable (aucune prédiction correcte).\n",
    "- **Classe 5** : 0.22 - Le score F1 pour la classe 5 est très faible, indiquant des performances insatisfaisantes pour cette classe.\n",
    "- **Classe 6** : Non applicable (aucune prédiction correcte).\n",
    "- **Classe 7** : 0.65 - Le score F1 pour la classe 7 est modéré, indiquant un équilibre entre précision et rappel.\n",
    "- **Classe 8** : 0.44 - Le score F1 pour la classe 8 est faible, indiquant des performances insatisfaisantes pour cette classe.\n",
    "\n",
    "#### 6. Score F1 global\n",
    "\n",
    "- **Interprétation** : Le score F1 global est de 0.44, ce qui indique des performances globales modérées et insatisfaisantes du modèle.\n",
    "\n",
    "### Conclusion\n",
    "\n",
    "Le modèle montre des performances globales limitées avec une exactitude de 50.93% et un score F1 global de 0.44. Les performances varient considérablement entre les classes, avec des scores particulièrement faibles pour les classes 1, 4, 5 et 6. Une optimisation supplémentaire et une amélioration du modèle pourraient être nécessaires pour améliorer les performances pour toutes les classes de manière équilibrée.\n"
   ]
  },
  {
   "cell_type": "markdown",
   "metadata": {},
   "source": [
    "### Étude de la stationarité:\n",
    "Pour étudier la stationarité des variables, on va utiliser le test de Dickey-Fuller augmenté (ADF):"
   ]
  },
  {
   "cell_type": "code",
   "execution_count": 8,
   "metadata": {
    "vscode": {
     "languageId": "r"
    }
   },
   "outputs": [
    {
     "name": "stderr",
     "output_type": "stream",
     "text": [
      "Warning message in adf.test(df$Dis_Mag_Value):\n",
      "\"p-value smaller than printed p-value\"\n"
     ]
    },
    {
     "data": {
      "text/plain": [
       "\n",
       "\tAugmented Dickey-Fuller Test\n",
       "\n",
       "data:  df$Dis_Mag_Value\n",
       "Dickey-Fuller = -4.2359, Lag order = 4, p-value = 0.01\n",
       "alternative hypothesis: stationary\n"
      ]
     },
     "metadata": {},
     "output_type": "display_data"
    },
    {
     "name": "stderr",
     "output_type": "stream",
     "text": [
      "Warning message in adf.test(df$nombre_total_de_deces):\n",
      "\"p-value smaller than printed p-value\"\n"
     ]
    },
    {
     "data": {
      "text/plain": [
       "\n",
       "\tAugmented Dickey-Fuller Test\n",
       "\n",
       "data:  df$nombre_total_de_deces\n",
       "Dickey-Fuller = -4.8164, Lag order = 4, p-value = 0.01\n",
       "alternative hypothesis: stationary\n"
      ]
     },
     "metadata": {},
     "output_type": "display_data"
    },
    {
     "name": "stderr",
     "output_type": "stream",
     "text": [
      "Warning message in adf.test(df$Total_Affecte):\n",
      "\"p-value smaller than printed p-value\"\n"
     ]
    },
    {
     "data": {
      "text/plain": [
       "\n",
       "\tAugmented Dickey-Fuller Test\n",
       "\n",
       "data:  df$Total_Affecte\n",
       "Dickey-Fuller = -4.0487, Lag order = 4, p-value = 0.01\n",
       "alternative hypothesis: stationary\n"
      ]
     },
     "metadata": {},
     "output_type": "display_data"
    },
    {
     "name": "stderr",
     "output_type": "stream",
     "text": [
      "Warning message in adf.test(df$Total_des_dommages):\n",
      "\"p-value smaller than printed p-value\"\n"
     ]
    },
    {
     "data": {
      "text/plain": [
       "\n",
       "\tAugmented Dickey-Fuller Test\n",
       "\n",
       "data:  df$Total_des_dommages\n",
       "Dickey-Fuller = -5.2938, Lag order = 4, p-value = 0.01\n",
       "alternative hypothesis: stationary\n"
      ]
     },
     "metadata": {},
     "output_type": "display_data"
    }
   ],
   "source": [
    "# Effectuer le test ADF pour chaque variable\n",
    "adf.test(df$Dis_Mag_Value)\n",
    "adf.test(df$nombre_total_de_deces)\n",
    "adf.test(df$Total_Affecte)\n",
    "adf.test(df$Total_des_dommages)"
   ]
  },
  {
   "cell_type": "markdown",
   "metadata": {},
   "source": [
    ">Les résultats des tests de Dickey-Fuller augmentés montrent que toutes les variables (<code>Dis_Mag_Value</code>, <code>nombre_total_de_deces</code>, <code>Total_Affecte</code>, et <code>Total_des_dommages</code>) sont **stationnaires**, car les p-valeurs sont inférieures à **0,05**. Cela signifie que ces séries temporelles n'ont pas de tendance, de saisonnalité, ou de composantes systématiques autres que l'auto-corrélation de l'ordre inférieur.\n",
    "\n",
    ">En conséquence, nous pouvons procéder à une analyse plus approfondie en utilisant un modèle **VAR**."
   ]
  },
  {
   "cell_type": "code",
   "execution_count": 9,
   "metadata": {
    "vscode": {
     "languageId": "r"
    }
   },
   "outputs": [
    {
     "name": "stdout",
     "output_type": "stream",
     "text": [
      "$selection\n",
      "AIC(n)  HQ(n)  SC(n) FPE(n) \n",
      "     1      1      1      1 \n",
      "\n",
      "$criteria\n",
      "                  1            2            3            4            5\n",
      "AIC(n) 7.596636e+01 7.610007e+01 7.623456e+01 7.648174e+01 7.674301e+01\n",
      "HQ(n)  7.628643e+01 7.668687e+01 7.708809e+01 7.760199e+01 7.812999e+01\n",
      "SC(n)  7.675767e+01 7.755082e+01 7.834474e+01 7.925135e+01 8.017205e+01\n",
      "FPE(n) 9.819799e+32 1.126946e+33 1.302127e+33 1.699217e+33 2.276689e+33\n",
      "                  6            7            8            9           10\n",
      "AIC(n) 7.699193e+01 7.723591e+01 7.737594e+01 7.747201e+01 7.756892e+01\n",
      "HQ(n)  7.864563e+01 7.915634e+01 7.956309e+01 7.992589e+01 8.028953e+01\n",
      "SC(n)  8.108040e+01 8.198381e+01 8.278327e+01 8.353877e+01 8.429511e+01\n",
      "FPE(n) 3.061651e+33 4.181450e+33 5.280749e+33 6.590796e+33 8.572216e+33\n",
      "\n"
     ]
    }
   ],
   "source": [
    "# Sélectionner la longueur de lag appropriée\n",
    "lag_selection <- VARselect(df, lag.max = 10, type = \"const\")\n",
    "print(lag_selection)"
   ]
  },
  {
   "cell_type": "markdown",
   "metadata": {},
   "source": [
    "Tous les critères (AIC, HQ, SC, FPE) suggèrent que le lag optimal pour le modèle VAR est de **1**. Cela signifie que nous devrions utiliser un lag de 1 pour estimer notre modèle VAR, ce qui minimisera les erreurs de prédiction tout en maintenant un modèle parsimonieux."
   ]
  },
  {
   "cell_type": "code",
   "execution_count": 10,
   "metadata": {
    "vscode": {
     "languageId": "r"
    }
   },
   "outputs": [
    {
     "data": {
      "text/plain": [
       "\n",
       "VAR Estimation Results:\n",
       "========================= \n",
       "Endogenous variables: Continente, Dis_Mag_Value, nombre_total_de_deces, Total_Affecte, Total_des_dommages \n",
       "Deterministic variables: const \n",
       "Sample size: 107 \n",
       "Log Likelihood: -4775.82 \n",
       "Roots of the characteristic polynomial:\n",
       "0.2005 0.2005 0.111 0.111 0.1021\n",
       "Call:\n",
       "VAR(y = df, p = lag_selection$selection[1], type = \"const\")\n",
       "\n",
       "\n",
       "Estimation results for equation Continente: \n",
       "=========================================== \n",
       "Continente = Continente.l1 + Dis_Mag_Value.l1 + nombre_total_de_deces.l1 + Total_Affecte.l1 + Total_des_dommages.l1 + const \n",
       "\n",
       "                           Estimate Std. Error t value Pr(>|t|)\n",
       "Continente.l1             4.392e-02  1.041e-01   0.422    0.674\n",
       "Dis_Mag_Value.l1          1.401e-01  1.123e-01   1.247    0.215\n",
       "nombre_total_de_deces.l1  4.594e-07  4.594e-06   0.100    0.921\n",
       "Total_Affecte.l1         -1.807e-08  1.736e-07  -0.104    0.917\n",
       "Total_des_dommages.l1     8.380e-08  5.142e-08   1.630    0.106\n",
       "const                     1.013e+00  8.458e-01   1.197    0.234\n",
       "\n",
       "\n",
       "Residual standard error: 1.086 on 101 degrees of freedom\n",
       "Multiple R-Squared: 0.04067,\tAdjusted R-squared: -0.006817 \n",
       "F-statistic: 0.8565 on 5 and 101 DF,  p-value: 0.5132 \n",
       "\n",
       "\n",
       "Estimation results for equation Dis_Mag_Value: \n",
       "============================================== \n",
       "Dis_Mag_Value = Continente.l1 + Dis_Mag_Value.l1 + nombre_total_de_deces.l1 + Total_Affecte.l1 + Total_des_dommages.l1 + const \n",
       "\n",
       "                           Estimate Std. Error t value Pr(>|t|)    \n",
       "Continente.l1             1.579e-01  9.977e-02   1.583    0.117    \n",
       "Dis_Mag_Value.l1          5.993e-02  1.077e-01   0.557    0.579    \n",
       "nombre_total_de_deces.l1  5.732e-06  4.403e-06   1.302    0.196    \n",
       "Total_Affecte.l1         -2.595e-08  1.664e-07  -0.156    0.876    \n",
       "Total_des_dommages.l1    -1.845e-08  4.929e-08  -0.374    0.709    \n",
       "const                     5.926e+00  8.107e-01   7.309 6.45e-11 ***\n",
       "---\n",
       "Signif. codes:  0 '***' 0.001 '**' 0.01 '*' 0.05 '.' 0.1 ' ' 1\n",
       "\n",
       "\n",
       "Residual standard error: 1.041 on 101 degrees of freedom\n",
       "Multiple R-Squared: 0.03855,\tAdjusted R-squared: -0.009046 \n",
       "F-statistic: 0.8099 on 5 and 101 DF,  p-value: 0.5452 \n",
       "\n",
       "\n",
       "Estimation results for equation nombre_total_de_deces: \n",
       "====================================================== \n",
       "nombre_total_de_deces = Continente.l1 + Dis_Mag_Value.l1 + nombre_total_de_deces.l1 + Total_Affecte.l1 + Total_des_dommages.l1 + const \n",
       "\n",
       "                           Estimate Std. Error t value Pr(>|t|)\n",
       "Continente.l1            -1.784e+02  2.371e+03  -0.075    0.940\n",
       "Dis_Mag_Value.l1          1.101e+03  2.559e+03   0.430    0.668\n",
       "nombre_total_de_deces.l1  7.660e-02  1.046e-01   0.732    0.466\n",
       "Total_Affecte.l1         -2.547e-03  3.955e-03  -0.644    0.521\n",
       "Total_des_dommages.l1    -2.747e-04  1.171e-03  -0.234    0.815\n",
       "const                    -2.709e+03  1.927e+04  -0.141    0.888\n",
       "\n",
       "\n",
       "Residual standard error: 24750 on 101 degrees of freedom\n",
       "Multiple R-Squared: 0.01073,\tAdjusted R-squared: -0.03824 \n",
       "F-statistic: 0.2192 on 5 and 101 DF,  p-value: 0.9536 \n",
       "\n",
       "\n",
       "Estimation results for equation Total_Affecte: \n",
       "============================================== \n",
       "Total_Affecte = Continente.l1 + Dis_Mag_Value.l1 + nombre_total_de_deces.l1 + Total_Affecte.l1 + Total_des_dommages.l1 + const \n",
       "\n",
       "                           Estimate Std. Error t value Pr(>|t|)    \n",
       "Continente.l1            -2.017e+04  4.413e+04  -0.457   0.6485    \n",
       "Dis_Mag_Value.l1          8.617e+03  4.762e+04   0.181   0.8568    \n",
       "nombre_total_de_deces.l1  1.899e+01  1.947e+00   9.754 3.13e-16 ***\n",
       "Total_Affecte.l1         -1.405e-01  7.360e-02  -1.909   0.0591 .  \n",
       "Total_des_dommages.l1    -3.283e-03  2.180e-02  -0.151   0.8806    \n",
       "const                     1.260e+05  3.585e+05   0.351   0.7260    \n",
       "---\n",
       "Signif. codes:  0 '***' 0.001 '**' 0.01 '*' 0.05 '.' 0.1 ' ' 1\n",
       "\n",
       "\n",
       "Residual standard error: 460500 on 101 degrees of freedom\n",
       "Multiple R-Squared: 0.507,\tAdjusted R-squared: 0.4826 \n",
       "F-statistic: 20.77 on 5 and 101 DF,  p-value: 3.207e-14 \n",
       "\n",
       "\n",
       "Estimation results for equation Total_des_dommages: \n",
       "=================================================== \n",
       "Total_des_dommages = Continente.l1 + Dis_Mag_Value.l1 + nombre_total_de_deces.l1 + Total_Affecte.l1 + Total_des_dommages.l1 + const \n",
       "\n",
       "                           Estimate Std. Error t value Pr(>|t|)  \n",
       "Continente.l1            -3.674e+05  2.037e+05  -1.803   0.0743 .\n",
       "Dis_Mag_Value.l1         -3.277e+05  2.199e+05  -1.491   0.1391  \n",
       "nombre_total_de_deces.l1  2.480e+00  8.990e+00   0.276   0.7832  \n",
       "Total_Affecte.l1         -3.215e-02  3.398e-01  -0.095   0.9248  \n",
       "Total_des_dommages.l1    -3.739e-02  1.006e-01  -0.371   0.7111  \n",
       "const                     3.519e+06  1.655e+06   2.126   0.0360 *\n",
       "---\n",
       "Signif. codes:  0 '***' 0.001 '**' 0.01 '*' 0.05 '.' 0.1 ' ' 1\n",
       "\n",
       "\n",
       "Residual standard error: 2126000 on 101 degrees of freedom\n",
       "Multiple R-Squared: 0.04276,\tAdjusted R-squared: -0.004624 \n",
       "F-statistic: 0.9024 on 5 and 101 DF,  p-value: 0.4827 \n",
       "\n",
       "\n",
       "\n",
       "Covariance matrix of residuals:\n",
       "                      Continente Dis_Mag_Value nombre_total_de_deces\n",
       "Continente             1.180e+00    -3.961e-01            -3.029e+03\n",
       "Dis_Mag_Value         -3.961e-01     1.084e+00             4.301e+03\n",
       "nombre_total_de_deces -3.029e+03     4.301e+03             6.124e+08\n",
       "Total_Affecte         -3.887e+04     1.340e+05             2.134e+09\n",
       "Total_des_dommages     9.393e+04    -1.098e+05             1.206e+10\n",
       "                      Total_Affecte Total_des_dommages\n",
       "Continente               -3.887e+04          9.393e+04\n",
       "Dis_Mag_Value             1.340e+05         -1.098e+05\n",
       "nombre_total_de_deces     2.134e+09          1.206e+10\n",
       "Total_Affecte             2.121e+11          4.708e+10\n",
       "Total_des_dommages        4.708e+10          4.520e+12\n",
       "\n",
       "Correlation matrix of residuals:\n",
       "                      Continente Dis_Mag_Value nombre_total_de_deces\n",
       "Continente               1.00000      -0.35023               -0.1127\n",
       "Dis_Mag_Value           -0.35023       1.00000                0.1669\n",
       "nombre_total_de_deces   -0.11267       0.16694                1.0000\n",
       "Total_Affecte           -0.07770       0.27958                0.1873\n",
       "Total_des_dommages       0.04067      -0.04959                0.2292\n",
       "                      Total_Affecte Total_des_dommages\n",
       "Continente                 -0.07770            0.04067\n",
       "Dis_Mag_Value               0.27958           -0.04959\n",
       "nombre_total_de_deces       0.18727            0.22923\n",
       "Total_Affecte               1.00000            0.04809\n",
       "Total_des_dommages          0.04809            1.00000\n",
       "\n"
      ]
     },
     "metadata": {},
     "output_type": "display_data"
    }
   ],
   "source": [
    "# Estimer le modèle VAR avec le lag optimal\n",
    "var_model <- VAR(df, p = lag_selection$selection[1], type = \"const\")\n",
    "summary(var_model)"
   ]
  },
  {
   "cell_type": "markdown",
   "metadata": {},
   "source": [
    "- Le modèle VAR inclut les variables endogènes Continente, <code>Dis_Mag_Value</code>, <code>nombre_total_de_deces</code>, <code>Total_Affecte</code>, et <code>Total_des_dommages</code> avec une constante. La taille de l'échantillon est de **107 observations**, et le log likelihood est de **-4775.82**. Les racines du polynôme caractéristique sont toutes **inférieures à 1**, ce qui indique que le modèle est stable.\n",
    "\n",
    "- Pour l'équation Continente, les coefficients des variables à leur premier lag sont présentés avec leurs erreurs standards, valeurs t et p-valeurs. Aucune des variables n'est significative pour prédire Continente à leur lag respectif **(Pr(>|t|) > 0.05)**."
   ]
  },
  {
   "cell_type": "code",
   "execution_count": 11,
   "metadata": {
    "vscode": {
     "languageId": "r"
    }
   },
   "outputs": [
    {
     "name": "stdout",
     "output_type": "stream",
     "text": [
      "\n",
      "\tPortmanteau Test (asymptotic)\n",
      "\n",
      "data:  Residuals of VAR object var_model\n",
      "Chi-squared = 295.15, df = 375, p-value = 0.9991\n",
      "\n"
     ]
    },
    {
     "data": {
      "text/plain": [
       "$serial\n",
       "\n",
       "\tPortmanteau Test (asymptotic)\n",
       "\n",
       "data:  Residuals of VAR object var_model\n",
       "Chi-squared = 295.15, df = 375, p-value = 0.9991\n",
       "\n"
      ]
     },
     "metadata": {},
     "output_type": "display_data"
    },
    {
     "data": {
      "image/png": "[encoded data removed]",
      "text/plain": [
       "Plot with title \"OLS-CUSUM of equation Total_des_dommages\""
      ]
     },
     "metadata": {
      "image/png": {
       "height": 420,
       "width": 420
      }
     },
     "output_type": "display_data"
    }
   ],
   "source": [
    "# Test de stabilité\n",
    "stability_test <- stability(var_model)\n",
    "plot(stability_test)\n",
    "\n",
    "# Test des résidus\n",
    "serial_test <- serial.test(var_model, lags.pt = 16, type = \"PT.asymptotic\")\n",
    "print(serial_test)"
   ]
  },
  {
   "cell_type": "markdown",
   "metadata": {},
   "source": [
    "##### Interprétation:\n",
    "- La p-valeur de **0.9991** étant très élevée, nous n'avons pas de preuve suffisante pour rejeter l'hypothèse nulle d'absence d'auto-corrélation des résidus. Cela indique que les résidus du modèle VAR ne présentent pas de corrélation en série significative, ce qui est un bon signe pour la validité du modèle.\n",
    "\n",
    "##### Plots OLS-CUSUM des différentes équations:\n",
    "\n",
    "- Les graphiques OLS-CUSUM montrent le processus de fluctuation empirique au fil du temps pour les différentes équations (<code>Continente</code>, <code>Total_Affecte</code>, <code>Dis_Mag_Value</code>, <code>Total_des_dommages</code>, et <code>nombre_total_de_deces</code>).\n",
    "\n",
    "- Les courbes de fluctuation empirique restent généralement stables au fil du temps, ce qui suggère que les coefficients de régression sont stables et que le modèle VAR est globalement stable.\n",
    "\n",
    ">Les diagnostics du modèle VAR indiquent que le modèle est bien spécifié et stable. Il n'y a pas de preuve d'auto-corrélation significative des résidus, et les coefficients de régression semblent stables au fil du temps."
   ]
  },
  {
   "cell_type": "code",
   "execution_count": 12,
   "metadata": {
    "vscode": {
     "languageId": "r"
    }
   },
   "outputs": [
    {
     "data": {
      "image/png": "[encoded data removed]",
      "text/plain": [
       "Plot with title \"Forecast of series Total_des_dommages\""
      ]
     },
     "metadata": {
      "image/png": {
       "height": 420,
       "width": 420
      }
     },
     "output_type": "display_data"
    }
   ],
   "source": [
    "# Prévisions à l'aide du modèle VAR\n",
    "forecast <- predict(var_model, n.ahead = 10)\n",
    "plot(forecast)"
   ]
  },
  {
   "cell_type": "markdown",
   "metadata": {},
   "source": [
    ">Les prévisions du modèle VAR montrent une continuité des tendances observées dans les données historiques. Aucun changement significatif ou fluctuation majeure n'est prévu pour les séries <code>Continente</code>, <code>Total_Affecte</code>, <code>Dis_Mag_Value</code>, <code>Total_des_dommages</code> et <code>nombre_total_de_deces</code>. Le modèle VAR semble bien capturer les dynamiques des données historiques et fournir des prévisions stables pour les prochaines périodes."
   ]
  }
 ],
 "metadata": {
  "kernelspec": {
   "display_name": "R",
   "language": "R",
   "name": "ir"
  },
  "language_info": {
   "codemirror_mode": "r",
   "file_extension": ".r",
   "mimetype": "text/x-r-source",
   "name": "R",
   "pygments_lexer": "r",
   "version": "4.3.2"
  }
 },
 "nbformat": 4,
 "nbformat_minor": 2
}
