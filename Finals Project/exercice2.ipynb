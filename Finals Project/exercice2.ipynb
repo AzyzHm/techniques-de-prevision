{
 "cells": [
  {
   "cell_type": "markdown",
   "metadata": {},
   "source": [
    "### Enoncé:\n",
    "- a1: Expliquer la variable continente en fonction des variables Dis Mag value, nombre total de décès, total affecté et total des dommages.\n",
    "- b1: Déterminer la qualité du modèle.\n",
    "- a2: Expliquer la variable Dis Mag value en fonction des variables nombre total de décès, total affecté et total des dommages.\n",
    "- b2: Déterminer la qualité du modèle.\n",
    "- a3: Etudier la stationarité des variables:  Dis Mag value,  nombre total de décès,  total affecté et total des dommages.\n",
    "- b3: Expliquer la variable Dis Mag value en fonction des variables nombre total de décès, total affecté et total des dommages."
   ]
  },
  {
   "cell_type": "markdown",
   "metadata": {},
   "source": [
    "### Chargement des bibliothèques nécessaires et des données:"
   ]
  },
  {
   "cell_type": "code",
   "execution_count": 9,
   "metadata": {
    "vscode": {
     "languageId": "r"
    }
   },
   "outputs": [
    {
     "name": "stderr",
     "output_type": "stream",
     "text": [
      "Warning message:\n",
      "\"package 'readxl' is in use and will not be installed\"\n",
      "Warning message:\n",
      "\"package 'tseries' is in use and will not be installed\"\n"
     ]
    },
    {
     "data": {
      "text/html": [
       "<table class=\"dataframe\">\n",
       "<caption>A tibble: 6 × 5</caption>\n",
       "<thead>\n",
       "\t<tr><th scope=col>Continente</th><th scope=col>Dis_Mag_Value</th><th scope=col>nombre_total_de_deces</th><th scope=col>Total_Affecte</th><th scope=col>Total_des_dommages</th></tr>\n",
       "\t<tr><th scope=col>&lt;dbl&gt;</th><th scope=col>&lt;dbl&gt;</th><th scope=col>&lt;dbl&gt;</th><th scope=col>&lt;dbl&gt;</th><th scope=col>&lt;dbl&gt;</th></tr>\n",
       "</thead>\n",
       "<tbody>\n",
       "\t<tr><td>2</td><td>8</td><td>  12</td><td>    40</td><td>500000</td></tr>\n",
       "\t<tr><td>3</td><td>7</td><td> 476</td><td>141277</td><td>100000</td></tr>\n",
       "\t<tr><td>2</td><td>7</td><td>   3</td><td>    15</td><td>  7310</td></tr>\n",
       "\t<tr><td>4</td><td>7</td><td>1250</td><td>134250</td><td>  6000</td></tr>\n",
       "\t<tr><td>3</td><td>7</td><td>  31</td><td>   200</td><td>  3150</td></tr>\n",
       "\t<tr><td>1</td><td>8</td><td> 100</td><td>  2000</td><td> 25000</td></tr>\n",
       "</tbody>\n",
       "</table>\n"
      ],
      "text/latex": [
       "A tibble: 6 × 5\n",
       "\\begin{tabular}{lllll}\n",
       " Continente & Dis\\_Mag\\_Value & nombre\\_total\\_de\\_deces & Total\\_Affecte & Total\\_des\\_dommages\\\\\n",
       " <dbl> & <dbl> & <dbl> & <dbl> & <dbl>\\\\\n",
       "\\hline\n",
       "\t 2 & 8 &   12 &     40 & 500000\\\\\n",
       "\t 3 & 7 &  476 & 141277 & 100000\\\\\n",
       "\t 2 & 7 &    3 &     15 &   7310\\\\\n",
       "\t 4 & 7 & 1250 & 134250 &   6000\\\\\n",
       "\t 3 & 7 &   31 &    200 &   3150\\\\\n",
       "\t 1 & 8 &  100 &   2000 &  25000\\\\\n",
       "\\end{tabular}\n"
      ],
      "text/markdown": [
       "\n",
       "A tibble: 6 × 5\n",
       "\n",
       "| Continente &lt;dbl&gt; | Dis_Mag_Value &lt;dbl&gt; | nombre_total_de_deces &lt;dbl&gt; | Total_Affecte &lt;dbl&gt; | Total_des_dommages &lt;dbl&gt; |\n",
       "|---|---|---|---|---|\n",
       "| 2 | 8 |   12 |     40 | 500000 |\n",
       "| 3 | 7 |  476 | 141277 | 100000 |\n",
       "| 2 | 7 |    3 |     15 |   7310 |\n",
       "| 4 | 7 | 1250 | 134250 |   6000 |\n",
       "| 3 | 7 |   31 |    200 |   3150 |\n",
       "| 1 | 8 |  100 |   2000 |  25000 |\n",
       "\n"
      ],
      "text/plain": [
       "  Continente Dis_Mag_Value nombre_total_de_deces Total_Affecte\n",
       "1 2          8               12                      40       \n",
       "2 3          7              476                  141277       \n",
       "3 2          7                3                      15       \n",
       "4 4          7             1250                  134250       \n",
       "5 3          7               31                     200       \n",
       "6 1          8              100                    2000       \n",
       "  Total_des_dommages\n",
       "1 500000            \n",
       "2 100000            \n",
       "3   7310            \n",
       "4   6000            \n",
       "5   3150            \n",
       "6  25000            "
      ]
     },
     "metadata": {},
     "output_type": "display_data"
    }
   ],
   "source": [
    "install.packages(\"readxl\")\n",
    "install.packages(\"tseries\")\n",
    "library(readxl)\n",
    "library(tseries)\n",
    "df <- read_excel(\"data/exercice2.xlsx\", sheet = \"Feuil1\")\n",
    "head(df)"
   ]
  },
  {
   "cell_type": "markdown",
   "metadata": {},
   "source": [
    "### Modélisation avec la variable <code>Contiente</code>:"
   ]
  },
  {
   "cell_type": "code",
   "execution_count": 10,
   "metadata": {
    "vscode": {
     "languageId": "r"
    }
   },
   "outputs": [
    {
     "data": {
      "text/plain": [
       "\n",
       "Call:\n",
       "lm(formula = Continente ~ Dis_Mag_Value + nombre_total_de_deces + \n",
       "    Total_Affecte + Total_des_dommages, data = df)\n",
       "\n",
       "Residuals:\n",
       "     Min       1Q   Median       3Q      Max \n",
       "-1.65610 -0.95289  0.04509  0.69077  3.04716 \n",
       "\n",
       "Coefficients:\n",
       "                        Estimate Std. Error t value Pr(>|t|)    \n",
       "(Intercept)            4.405e+00  6.763e-01   6.513 2.74e-09 ***\n",
       "Dis_Mag_Value         -3.503e-01  1.010e-01  -3.467 0.000769 ***\n",
       "nombre_total_de_deces -2.956e-06  4.356e-06  -0.679 0.498939    \n",
       "Total_Affecte          1.494e-07  1.643e-07   0.909 0.365510    \n",
       "Total_des_dommages     1.395e-09  4.887e-08   0.029 0.977283    \n",
       "---\n",
       "Signif. codes:  0 '***' 0.001 '**' 0.01 '*' 0.05 '.' 0.1 ' ' 1\n",
       "\n",
       "Residual standard error: 1.033 on 103 degrees of freedom\n",
       "Multiple R-squared:  0.1161,\tAdjusted R-squared:  0.08178 \n",
       "F-statistic: 3.383 on 4 and 103 DF,  p-value: 0.01212\n"
      ]
     },
     "metadata": {},
     "output_type": "display_data"
    }
   ],
   "source": [
    "# Ajuster le modèle de régression linéaire\n",
    "modele_a1 <- lm(Continente ~ Dis_Mag_Value + nombre_total_de_deces + Total_Affecte + Total_des_dommages, data=df)\n",
    "\n",
    "# Résumé du modèle\n",
    "summary(modele_a1)"
   ]
  },
  {
   "cell_type": "markdown",
   "metadata": {},
   "source": [
    "- <code>Dis_Mag_Value</code> a un impact négatif significatif sur Continente **(p-valeur < 0,001)**.\n",
    "- (Intercept) est également significatif **(p-valeur < 0,001)**.\n",
    "- <code>nombre_total_de_deces</code>, <code>Total_Affecte</code>, et <code>Total_des_dommages</code> ne sont pas significatifs **(p-valeurs > 0,05)**."
   ]
  },
  {
   "cell_type": "code",
   "execution_count": 11,
   "metadata": {
    "vscode": {
     "languageId": "r"
    }
   },
   "outputs": [
    {
     "name": "stdout",
     "output_type": "stream",
     "text": [
      "R-squared: 0.1161106 \n",
      "Adjusted R-squared: 0.08178476 \n"
     ]
    },
    {
     "data": {
      "text/html": [
       "<style>\n",
       ".dl-inline {width: auto; margin:0; padding: 0}\n",
       ".dl-inline>dt, .dl-inline>dd {float: none; width: auto; display: inline-block}\n",
       ".dl-inline>dt::after {content: \":\\0020\"; padding-right: .5ex}\n",
       ".dl-inline>dt:not(:first-of-type) {padding-left: .5ex}\n",
       "</style><dl class=dl-inline><dt>(Intercept)</dt><dd>4.40486457250201</dd><dt>Dis_Mag_Value</dt><dd>-0.35029546407272</dd><dt>nombre_total_de_deces</dt><dd>-2.95593563990367e-06</dd><dt>Total_Affecte</dt><dd>1.49353644424893e-07</dd><dt>Total_des_dommages</dt><dd>1.39507053852618e-09</dd></dl>\n"
      ],
      "text/latex": [
       "\\begin{description*}\n",
       "\\item[(Intercept)] 4.40486457250201\n",
       "\\item[Dis\\textbackslash{}\\_Mag\\textbackslash{}\\_Value] -0.35029546407272\n",
       "\\item[nombre\\textbackslash{}\\_total\\textbackslash{}\\_de\\textbackslash{}\\_deces] -2.95593563990367e-06\n",
       "\\item[Total\\textbackslash{}\\_Affecte] 1.49353644424893e-07\n",
       "\\item[Total\\textbackslash{}\\_des\\textbackslash{}\\_dommages] 1.39507053852618e-09\n",
       "\\end{description*}\n"
      ],
      "text/markdown": [
       "(Intercept)\n",
       ":   4.40486457250201Dis_Mag_Value\n",
       ":   -0.35029546407272nombre_total_de_deces\n",
       ":   -2.95593563990367e-06Total_Affecte\n",
       ":   1.49353644424893e-07Total_des_dommages\n",
       ":   1.39507053852618e-09\n",
       "\n"
      ],
      "text/plain": [
       "          (Intercept)         Dis_Mag_Value nombre_total_de_deces \n",
       "         4.404865e+00         -3.502955e-01         -2.955936e-06 \n",
       "        Total_Affecte    Total_des_dommages \n",
       "         1.493536e-07          1.395071e-09 "
      ]
     },
     "metadata": {},
     "output_type": "display_data"
    },
    {
     "data": {
      "image/png": "[encoded data removed]",
      "text/plain": [
       "Plot with title \"\""
      ]
     },
     "metadata": {
      "image/png": {
       "height": 420,
       "width": 420
      }
     },
     "output_type": "display_data"
    }
   ],
   "source": [
    "# Afficher les diagnostics du modèle\n",
    "par(mfrow=c(2,2))\n",
    "plot(modele_a1)\n",
    "\n",
    "# Afficher R² et ajusté R²\n",
    "cat(\"R-squared:\", summary(modele_a1)$r.squared, \"\\n\")\n",
    "cat(\"Adjusted R-squared:\", summary(modele_a1)$adj.r.squared, \"\\n\")\n",
    "\n",
    "# Afficher les coefficients du modèle\n",
    "coefficients(modele_a1)"
   ]
  },
  {
   "cell_type": "markdown",
   "metadata": {},
   "source": [
    "##### Diagnostic du modèle:\n",
    "\n",
    "1. **Residuals vs Fitted:** Le graphique montre les résidus par rapport aux valeurs ajustées pour vérifier la linéarité, l'égalité des variances des erreurs, et les valeurs aberrantes. Aucun motif clair dans les résidus, ce qui est bon signe.\n",
    "\n",
    "2. **Q-Q Plot:** Les quantiles des résidus suivent approximativement une ligne droite, indiquant que les résidus suivent une distribution normale.\n",
    "\n",
    "3. **Scale-Location:** Ce graphique montre la racine carrée des résidus standardisés par rapport aux valeurs ajustées pour vérifier l'homoscedasticité. La ligne horizontale suggère que l'erreur résiduelle est constante à travers les valeurs ajustées.\n",
    "\n",
    "4. **Residuals vs Leverage:** Ce graphique identifie les points de données influents. Aucun point particulièrement influent observé qui aurait un effet disproportionné sur le modèle.\n",
    "\n",
    "##### Qualité du modèle:\n",
    "\n",
    "Le R² multiple de **0,1161** suggère que le modèle explique environ **11,61%** de la variance de la variable <code>Continente</code>.\n",
    "\n",
    "Le R² ajusté de **0,08178** indique une correction pour le nombre de prédicteurs dans le modèle.\n",
    "\n",
    "La statistique F de **3,383** avec une p-valeur de **0,01212** signifie que le modèle est globalement significatif.\n",
    "\n",
    ">Le modèle indique que <code>Dis_Mag_Value</code> a un impact significatif et négatif sur la variable <code>contiente</code>, tandis que <code>nombre_total_de_deces</code>, <code>Total_Affecte</code> et <code>Total_des_dommages</code> ne semblent pas avoir un impact significatif. La qualité globale du modèle est faible, expliquant environ **11%** de la variance de la variable dépendante. Les diagnostics visuels confirment que les hypothèses de régression sont globalement respectées."
   ]
  },
  {
   "cell_type": "markdown",
   "metadata": {},
   "source": [
    "### Modélisation avec la variable <code>Dis_Mag_Value</code>:"
   ]
  },
  {
   "cell_type": "code",
   "execution_count": 18,
   "metadata": {
    "vscode": {
     "languageId": "r"
    }
   },
   "outputs": [
    {
     "data": {
      "text/plain": [
       "\n",
       "Call:\n",
       "lm(formula = Dis_Mag_Value ~ nombre_total_de_deces + Total_Affecte + \n",
       "    Total_des_dommages, data = df)\n",
       "\n",
       "Residuals:\n",
       "    Min      1Q  Median      3Q     Max \n",
       "-5.6123 -0.6106  0.3546  0.3909  1.4397 \n",
       "\n",
       "Coefficients:\n",
       "                        Estimate Std. Error t value Pr(>|t|)    \n",
       "(Intercept)            6.610e+00  1.034e-01  63.940   <2e-16 ***\n",
       "nombre_total_de_deces  6.400e-06  4.181e-06   1.531   0.1288    \n",
       "Total_Affecte          3.935e-07  1.547e-07   2.543   0.0125 *  \n",
       "Total_des_dommages    -5.823e-08  4.709e-08  -1.237   0.2190    \n",
       "---\n",
       "Signif. codes:  0 '***' 0.001 '**' 0.01 '*' 0.05 '.' 0.1 ' ' 1\n",
       "\n",
       "Residual standard error: 1.002 on 104 degrees of freedom\n",
       "Multiple R-squared:  0.097,\tAdjusted R-squared:  0.07095 \n",
       "F-statistic: 3.724 on 3 and 104 DF,  p-value: 0.0137\n"
      ]
     },
     "metadata": {},
     "output_type": "display_data"
    }
   ],
   "source": [
    "modele_a2 <- lm(Dis_Mag_Value ~ nombre_total_de_deces + Total_Affecte + Total_des_dommages, data=df)\n",
    "\n",
    "summary(modele_a2)"
   ]
  },
  {
   "cell_type": "markdown",
   "metadata": {},
   "source": [
    "- (Intercept) a un effet positif significatif **(p-valeur < 0,001)**.\n",
    "- <code>Total_Affecte</code> a un effet positif significatif **(p-valeur = 0,0125)**.\n",
    "- <code>nombre_total_de_deces</code> et <code>Total_des_dommages</code> ne sont pas significatifs **(p-valeurs > 0,05)**."
   ]
  },
  {
   "cell_type": "code",
   "execution_count": 19,
   "metadata": {
    "vscode": {
     "languageId": "r"
    }
   },
   "outputs": [
    {
     "name": "stdout",
     "output_type": "stream",
     "text": [
      "R-squared: 0.09700005 \n",
      "Adjusted R-squared: 0.07095198 \n"
     ]
    },
    {
     "data": {
      "text/html": [
       "<style>\n",
       ".dl-inline {width: auto; margin:0; padding: 0}\n",
       ".dl-inline>dt, .dl-inline>dd {float: none; width: auto; display: inline-block}\n",
       ".dl-inline>dt::after {content: \":\\0020\"; padding-right: .5ex}\n",
       ".dl-inline>dt:not(:first-of-type) {padding-left: .5ex}\n",
       "</style><dl class=dl-inline><dt>(Intercept)</dt><dd>6.60951312552024</dd><dt>nombre_total_de_deces</dt><dd>6.40047818878544e-06</dd><dt>Total_Affecte</dt><dd>3.93521923215577e-07</dd><dt>Total_des_dommages</dt><dd>-5.82348528537366e-08</dd></dl>\n"
      ],
      "text/latex": [
       "\\begin{description*}\n",
       "\\item[(Intercept)] 6.60951312552024\n",
       "\\item[nombre\\textbackslash{}\\_total\\textbackslash{}\\_de\\textbackslash{}\\_deces] 6.40047818878544e-06\n",
       "\\item[Total\\textbackslash{}\\_Affecte] 3.93521923215577e-07\n",
       "\\item[Total\\textbackslash{}\\_des\\textbackslash{}\\_dommages] -5.82348528537366e-08\n",
       "\\end{description*}\n"
      ],
      "text/markdown": [
       "(Intercept)\n",
       ":   6.60951312552024nombre_total_de_deces\n",
       ":   6.40047818878544e-06Total_Affecte\n",
       ":   3.93521923215577e-07Total_des_dommages\n",
       ":   -5.82348528537366e-08\n",
       "\n"
      ],
      "text/plain": [
       "          (Intercept) nombre_total_de_deces         Total_Affecte \n",
       "         6.609513e+00          6.400478e-06          3.935219e-07 \n",
       "   Total_des_dommages \n",
       "        -5.823485e-08 "
      ]
     },
     "metadata": {},
     "output_type": "display_data"
    },
    {
     "data": {
      "image/png": "[encoded data removed]",
      "text/plain": [
       "Plot with title \"\""
      ]
     },
     "metadata": {
      "image/png": {
       "height": 420,
       "width": 420
      }
     },
     "output_type": "display_data"
    }
   ],
   "source": [
    "par(mfrow=c(2,2))\n",
    "plot(modele_a2)\n",
    "\n",
    "cat(\"R-squared:\", summary(modele_a2)$r.squared, \"\\n\")\n",
    "cat(\"Adjusted R-squared:\", summary(modele_a2)$adj.r.squared, \"\\n\")\n",
    "\n",
    "coefficients(modele_a2)"
   ]
  },
  {
   "cell_type": "markdown",
   "metadata": {},
   "source": [
    "##### Diagnostics visuels:\n",
    "\n",
    "1. **Residuals vs Fitted:** Ce graphique montre les résidus par rapport aux valeurs ajustées pour vérifier la linéarité, l'hétéroscédasticité et les valeurs aberrantes. Aucun motif clair dans les résidus, ce qui est un bon signe.\n",
    "\n",
    "2. **Q-Q Plot:** Les quantiles des résidus suivent approximativement une ligne droite, indiquant que les résidus suivent une distribution normale.\n",
    "\n",
    "3. **Scale-Location:** Ce graphique montre la racine carrée des résidus standardisés par rapport aux valeurs ajustées pour vérifier l'homoscedasticité. La ligne horizontale suggère que l'erreur résiduelle est constante à travers les valeurs ajustées.\n",
    "\n",
    "4. **Residuals vs Leverage:** Ce graphique identifie les points de données influents. Aucun point particulièrement influent observé qui aurait un effet disproportionné sur le modèle.\n",
    "\n",
    "##### Qualité du modèle:\n",
    "\n",
    "- Le R² multiple de 0,097 suggère que le modèle explique environ 9,7% de la variance de la variable <code>Dis_Mag_Value</code>.\n",
    "\n",
    "- Le R² ajusté de **0,07095** indique une correction pour le nombre de prédicteurs dans le modèle.\n",
    "\n",
    "- La statistique F de **3,724** avec une p-valeur de **0,0137** signifie que le modèle est globalement significatif.\n",
    "\n",
    ">Le modèle indique que <code>Total_Affecte</code> a un impact positif significatif sur la variable <code>Dis_Mag_value</code>, tandis que <code>nombre_total_de_deces</code> et <code>Total_des_dommages</code> ne semblent pas avoir un impact significatif. La qualité globale du modèle est faible, expliquant environ **9,70%** de la variance de la variable dépendante. Les diagnostics visuels confirment que les hypothèses de régression sont globalement respectées."
   ]
  },
  {
   "cell_type": "markdown",
   "metadata": {},
   "source": [
    "### Étude de la stationarité:\n",
    "Pour étudier la stationarité des variables, on va utiliser le test de Dickey-Fuller augmenté (ADF):"
   ]
  },
  {
   "cell_type": "code",
   "execution_count": 21,
   "metadata": {
    "vscode": {
     "languageId": "r"
    }
   },
   "outputs": [
    {
     "name": "stderr",
     "output_type": "stream",
     "text": [
      "Warning message in adf.test(df$Dis_Mag_Value):\n",
      "\"p-value smaller than printed p-value\"\n"
     ]
    },
    {
     "data": {
      "text/plain": [
       "\n",
       "\tAugmented Dickey-Fuller Test\n",
       "\n",
       "data:  df$Dis_Mag_Value\n",
       "Dickey-Fuller = -4.2359, Lag order = 4, p-value = 0.01\n",
       "alternative hypothesis: stationary\n"
      ]
     },
     "metadata": {},
     "output_type": "display_data"
    },
    {
     "name": "stderr",
     "output_type": "stream",
     "text": [
      "Warning message in adf.test(df$nombre_total_de_deces):\n",
      "\"p-value smaller than printed p-value\"\n"
     ]
    },
    {
     "data": {
      "text/plain": [
       "\n",
       "\tAugmented Dickey-Fuller Test\n",
       "\n",
       "data:  df$nombre_total_de_deces\n",
       "Dickey-Fuller = -4.8164, Lag order = 4, p-value = 0.01\n",
       "alternative hypothesis: stationary\n"
      ]
     },
     "metadata": {},
     "output_type": "display_data"
    },
    {
     "name": "stderr",
     "output_type": "stream",
     "text": [
      "Warning message in adf.test(df$Total_Affecte):\n",
      "\"p-value smaller than printed p-value\"\n"
     ]
    },
    {
     "data": {
      "text/plain": [
       "\n",
       "\tAugmented Dickey-Fuller Test\n",
       "\n",
       "data:  df$Total_Affecte\n",
       "Dickey-Fuller = -4.0487, Lag order = 4, p-value = 0.01\n",
       "alternative hypothesis: stationary\n"
      ]
     },
     "metadata": {},
     "output_type": "display_data"
    },
    {
     "name": "stderr",
     "output_type": "stream",
     "text": [
      "Warning message in adf.test(df$Total_des_dommages):\n",
      "\"p-value smaller than printed p-value\"\n"
     ]
    },
    {
     "data": {
      "text/plain": [
       "\n",
       "\tAugmented Dickey-Fuller Test\n",
       "\n",
       "data:  df$Total_des_dommages\n",
       "Dickey-Fuller = -5.2938, Lag order = 4, p-value = 0.01\n",
       "alternative hypothesis: stationary\n"
      ]
     },
     "metadata": {},
     "output_type": "display_data"
    }
   ],
   "source": [
    "# Effectuer le test ADF pour chaque variable\n",
    "adf.test(df$Dis_Mag_Value)\n",
    "adf.test(df$nombre_total_de_deces)\n",
    "adf.test(df$Total_Affecte)\n",
    "adf.test(df$Total_des_dommages)"
   ]
  },
  {
   "cell_type": "markdown",
   "metadata": {},
   "source": [
    ">Les résultats des tests de Dickey-Fuller augmentés montrent que toutes les variables (<code>Dis_Mag_Value</code>, <code>nombre_total_de_deces</code>, <code>Total_Affecte</code>, et <code>Total_des_dommages</code>) sont **stationnaires**, car les p-valeurs sont inférieures à **0,05**. Cela signifie que ces séries temporelles n'ont pas de tendance, de saisonnalité, ou de composantes systématiques autres que l'auto-corrélation de l'ordre inférieur."
   ]
  },
  {
   "cell_type": "code",
   "execution_count": 22,
   "metadata": {
    "vscode": {
     "languageId": "r"
    }
   },
   "outputs": [
    {
     "data": {
      "text/plain": [
       "\n",
       "Call:\n",
       "lm(formula = Dis_Mag_Value ~ nombre_total_de_deces + Total_Affecte + \n",
       "    Total_des_dommages, data = df)\n",
       "\n",
       "Residuals:\n",
       "    Min      1Q  Median      3Q     Max \n",
       "-5.6123 -0.6106  0.3546  0.3909  1.4397 \n",
       "\n",
       "Coefficients:\n",
       "                        Estimate Std. Error t value Pr(>|t|)    \n",
       "(Intercept)            6.610e+00  1.034e-01  63.940   <2e-16 ***\n",
       "nombre_total_de_deces  6.400e-06  4.181e-06   1.531   0.1288    \n",
       "Total_Affecte          3.935e-07  1.547e-07   2.543   0.0125 *  \n",
       "Total_des_dommages    -5.823e-08  4.709e-08  -1.237   0.2190    \n",
       "---\n",
       "Signif. codes:  0 '***' 0.001 '**' 0.01 '*' 0.05 '.' 0.1 ' ' 1\n",
       "\n",
       "Residual standard error: 1.002 on 104 degrees of freedom\n",
       "Multiple R-squared:  0.097,\tAdjusted R-squared:  0.07095 \n",
       "F-statistic: 3.724 on 3 and 104 DF,  p-value: 0.0137\n"
      ]
     },
     "metadata": {},
     "output_type": "display_data"
    }
   ],
   "source": [
    "modele_b3 <- lm(Dis_Mag_Value ~ nombre_total_de_deces + Total_Affecte + Total_des_dommages, data=df)\n",
    "\n",
    "summary(modele_b3)"
   ]
  },
  {
   "cell_type": "code",
   "execution_count": 23,
   "metadata": {
    "vscode": {
     "languageId": "r"
    }
   },
   "outputs": [
    {
     "name": "stdout",
     "output_type": "stream",
     "text": [
      "R-squared: 0.09700005 \n",
      "Adjusted R-squared: 0.07095198 \n"
     ]
    },
    {
     "data": {
      "text/html": [
       "<style>\n",
       ".dl-inline {width: auto; margin:0; padding: 0}\n",
       ".dl-inline>dt, .dl-inline>dd {float: none; width: auto; display: inline-block}\n",
       ".dl-inline>dt::after {content: \":\\0020\"; padding-right: .5ex}\n",
       ".dl-inline>dt:not(:first-of-type) {padding-left: .5ex}\n",
       "</style><dl class=dl-inline><dt>(Intercept)</dt><dd>6.60951312552024</dd><dt>nombre_total_de_deces</dt><dd>6.40047818878544e-06</dd><dt>Total_Affecte</dt><dd>3.93521923215577e-07</dd><dt>Total_des_dommages</dt><dd>-5.82348528537366e-08</dd></dl>\n"
      ],
      "text/latex": [
       "\\begin{description*}\n",
       "\\item[(Intercept)] 6.60951312552024\n",
       "\\item[nombre\\textbackslash{}\\_total\\textbackslash{}\\_de\\textbackslash{}\\_deces] 6.40047818878544e-06\n",
       "\\item[Total\\textbackslash{}\\_Affecte] 3.93521923215577e-07\n",
       "\\item[Total\\textbackslash{}\\_des\\textbackslash{}\\_dommages] -5.82348528537366e-08\n",
       "\\end{description*}\n"
      ],
      "text/markdown": [
       "(Intercept)\n",
       ":   6.60951312552024nombre_total_de_deces\n",
       ":   6.40047818878544e-06Total_Affecte\n",
       ":   3.93521923215577e-07Total_des_dommages\n",
       ":   -5.82348528537366e-08\n",
       "\n"
      ],
      "text/plain": [
       "          (Intercept) nombre_total_de_deces         Total_Affecte \n",
       "         6.609513e+00          6.400478e-06          3.935219e-07 \n",
       "   Total_des_dommages \n",
       "        -5.823485e-08 "
      ]
     },
     "metadata": {},
     "output_type": "display_data"
    },
    {
     "data": {
      "image/png": "[encoded data removed]",
      "text/plain": [
       "Plot with title \"\""
      ]
     },
     "metadata": {
      "image/png": {
       "height": 420,
       "width": 420
      }
     },
     "output_type": "display_data"
    }
   ],
   "source": [
    "par(mfrow=c(2,2))\n",
    "plot(modele_b3)\n",
    "\n",
    "cat(\"R-squared:\", summary(modele_b3)$r.squared, \"\\n\")\n",
    "cat(\"Adjusted R-squared:\", summary(modele_b3)$adj.r.squared, \"\\n\")\n",
    "\n",
    "coefficients(modele_b3)"
   ]
  },
  {
   "cell_type": "markdown",
   "metadata": {},
   "source": [
    "> nous avons confirmé que les variables <code>Dis_Mag_Value</code>, <code>nombre_total_de_décès</code>, <code>Total_Affecté</code> et <code>Total_des_dommages</code> étaient stationnaires. En conséquence, nous avons utilisé le même modèle de régression que pour les tâches a2 et b2. Les résultats de ce modèle ont montré que <code>Total_Affecté</code> avait un impact positif et significatif sur <code>Dis_Mag_Value</code> **(p-valeur = 0,0125)**, tandis que <code>nombre_total_de_décès</code> et <code>Total_des_dommages</code> n'étaient pas des prédicteurs significatifs. Le modèle a expliqué environ **9,7 %** de la variance de <code>Dis_Mag_Value</code> (R² = 0,097) avec un R² ajusté de **0,07095**."
   ]
  }
 ],
 "metadata": {
  "kernelspec": {
   "display_name": "R",
   "language": "R",
   "name": "ir"
  },
  "language_info": {
   "codemirror_mode": "r",
   "file_extension": ".r",
   "mimetype": "text/x-r-source",
   "name": "R",
   "pygments_lexer": "r",
   "version": "4.3.2"
  }
 },
 "nbformat": 4,
 "nbformat_minor": 2
}
