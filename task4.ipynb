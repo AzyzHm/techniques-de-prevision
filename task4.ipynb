{
 "cells": [
  {
   "cell_type": "markdown",
   "metadata": {},
   "source": [
    "### Données:\n",
    "Les étudiants vont explorer un jeu de données sur les indicateurs économiques de plusieurs pays,comme le **PIB**,**le taux d'inflation**,**le taux de chomage**,et **les dépenses publiques**. Ils devront construire un modéle de regression multiple pour expliquer une variable cible (par exemple le **PIB**) en fonction de mesures variables puis effectuer plusieurs tests statistiques pour évaluer la qualité de modéle et détecter d'éventuelles anomalités.\n",
    "\n",
    "### Questions:\n",
    "1/ Construire  un modéle de reg multiple pour prédire la variable cible (par exemple PIB),en fonctions des autres variables.\n",
    "#### Utiliser:\n",
    "- test de normalité des erreurs avec le test Student.\n",
    "- test global de significativité avec le test de Ficher.\n",
    "- Test linéarite avec le test de Raibow\n",
    "- Test d'auto-corrélation des résidus le test de Lijung-Box\n",
    "- Test de Durbin-waston pour l'auto-correlation.\n",
    "- Test d'hétéroscédastivité avec les tests de while et de breush-Pagam\n",
    "\n",
    "> Interpréter les résultats de chaque test statistique\n",
    "\n",
    "> Proposer des améliorations\n",
    "\n",
    "> Conclure"
   ]
  },
  {
   "cell_type": "code",
   "execution_count": 1,
   "metadata": {
    "vscode": {
     "languageId": "r"
    }
   },
   "outputs": [
    {
     "name": "stdout",
     "output_type": "stream",
     "text": [
      "package 'lmtest' successfully unpacked and MD5 sums checked\n"
     ]
    },
    {
     "name": "stderr",
     "output_type": "stream",
     "text": [
      "Warning message:\n",
      "\"cannot remove prior installation of package 'lmtest'\"\n",
      "Warning message in file.copy(savedcopy, lib, recursive = TRUE):\n",
      "\"problem copying D:\\Files\\R-4.3.2\\library\\00LOCK\\lmtest\\libs\\x64\\lmtest.dll to D:\\Files\\R-4.3.2\\library\\lmtest\\libs\\x64\\lmtest.dll: Permission denied\"\n",
      "Warning message:\n",
      "\"restored 'lmtest'\"\n"
     ]
    },
    {
     "name": "stdout",
     "output_type": "stream",
     "text": [
      "\n",
      "The downloaded binary packages are in\n",
      "\tC:\\Users\\medth\\AppData\\Local\\Temp\\Rtmpw1Gvqa\\downloaded_packages\n"
     ]
    },
    {
     "name": "stderr",
     "output_type": "stream",
     "text": [
      "also installing the dependencies 'cowplot', 'Deriv', 'modelr', 'microbenchmark', 'broom', 'numDeriv', 'doBy', 'SparseM', 'MatrixModels', 'minqa', 'nloptr', 'RcppEigen', 'carData', 'abind', 'Formula', 'pbkrtest', 'quantreg', 'lme4'\n",
      "\n",
      "\n"
     ]
    },
    {
     "name": "stdout",
     "output_type": "stream",
     "text": [
      "package 'cowplot' successfully unpacked and MD5 sums checked\n",
      "package 'Deriv' successfully unpacked and MD5 sums checked\n",
      "package 'modelr' successfully unpacked and MD5 sums checked\n",
      "package 'microbenchmark' successfully unpacked and MD5 sums checked\n",
      "package 'broom' successfully unpacked and MD5 sums checked\n",
      "package 'numDeriv' successfully unpacked and MD5 sums checked\n",
      "package 'doBy' successfully unpacked and MD5 sums checked\n",
      "package 'SparseM' successfully unpacked and MD5 sums checked\n",
      "package 'MatrixModels' successfully unpacked and MD5 sums checked\n",
      "package 'minqa' successfully unpacked and MD5 sums checked\n",
      "package 'nloptr' successfully unpacked and MD5 sums checked\n",
      "package 'RcppEigen' successfully unpacked and MD5 sums checked\n",
      "package 'carData' successfully unpacked and MD5 sums checked\n",
      "package 'abind' successfully unpacked and MD5 sums checked\n",
      "package 'Formula' successfully unpacked and MD5 sums checked\n",
      "package 'pbkrtest' successfully unpacked and MD5 sums checked\n",
      "package 'quantreg' successfully unpacked and MD5 sums checked\n",
      "package 'lme4' successfully unpacked and MD5 sums checked\n",
      "package 'car' successfully unpacked and MD5 sums checked\n",
      "\n",
      "The downloaded binary packages are in\n",
      "\tC:\\Users\\medth\\AppData\\Local\\Temp\\Rtmpw1Gvqa\\downloaded_packages\n"
     ]
    },
    {
     "name": "stderr",
     "output_type": "stream",
     "text": [
      "also installing the dependencies 'mvtnorm', 'locfit', 'ash', 'FNN', 'kernlab', 'mclust', 'multicool', 'pracma', 'pcaPP', 'hdrcde', 'ks'\n",
      "\n",
      "\n"
     ]
    },
    {
     "name": "stdout",
     "output_type": "stream",
     "text": [
      "package 'mvtnorm' successfully unpacked and MD5 sums checked\n",
      "package 'locfit' successfully unpacked and MD5 sums checked\n",
      "package 'ash' successfully unpacked and MD5 sums checked\n",
      "package 'FNN' successfully unpacked and MD5 sums checked\n",
      "package 'kernlab' successfully unpacked and MD5 sums checked\n",
      "package 'mclust' successfully unpacked and MD5 sums checked\n",
      "package 'multicool' successfully unpacked and MD5 sums checked\n",
      "package 'pracma' successfully unpacked and MD5 sums checked\n",
      "package 'pcaPP' successfully unpacked and MD5 sums checked\n",
      "package 'hdrcde' successfully unpacked and MD5 sums checked\n",
      "package 'ks' successfully unpacked and MD5 sums checked\n",
      "package 'rainbow' successfully unpacked and MD5 sums checked\n",
      "\n",
      "The downloaded binary packages are in\n",
      "\tC:\\Users\\medth\\AppData\\Local\\Temp\\Rtmpw1Gvqa\\downloaded_packages\n"
     ]
    },
    {
     "name": "stderr",
     "output_type": "stream",
     "text": [
      "also installing the dependencies 'xts', 'TTR', 'quadprog', 'quantmod'\n",
      "\n",
      "\n"
     ]
    },
    {
     "name": "stdout",
     "output_type": "stream",
     "text": [
      "package 'xts' successfully unpacked and MD5 sums checked\n",
      "package 'TTR' successfully unpacked and MD5 sums checked\n",
      "package 'quadprog' successfully unpacked and MD5 sums checked\n",
      "package 'quantmod' successfully unpacked and MD5 sums checked\n",
      "package 'tseries' successfully unpacked and MD5 sums checked\n",
      "\n",
      "The downloaded binary packages are in\n",
      "\tC:\\Users\\medth\\AppData\\Local\\Temp\\Rtmpw1Gvqa\\downloaded_packages\n"
     ]
    },
    {
     "name": "stderr",
     "output_type": "stream",
     "text": [
      "Warning message:\n",
      "\"package 'lmtest' was built under R version 4.3.3\"\n",
      "Loading required package: zoo\n",
      "\n",
      "Warning message:\n",
      "\"package 'zoo' was built under R version 4.3.3\"\n",
      "\n",
      "Attaching package: 'zoo'\n",
      "\n",
      "\n",
      "The following objects are masked from 'package:base':\n",
      "\n",
      "    as.Date, as.Date.numeric\n",
      "\n",
      "\n",
      "Warning message:\n",
      "\"package 'car' was built under R version 4.3.3\"\n",
      "Loading required package: carData\n",
      "\n",
      "Warning message:\n",
      "\"package 'carData' was built under R version 4.3.3\"\n",
      "Warning message:\n",
      "\"package 'rainbow' was built under R version 4.3.3\"\n",
      "Loading required package: MASS\n",
      "\n",
      "Loading required package: pcaPP\n",
      "\n",
      "Warning message:\n",
      "\"package 'pcaPP' was built under R version 4.3.3\"\n",
      "Warning message:\n",
      "\"package 'tseries' was built under R version 4.3.3\"\n",
      "Registered S3 method overwritten by 'quantmod':\n",
      "  method            from\n",
      "  as.zoo.data.frame zoo \n",
      "\n"
     ]
    }
   ],
   "source": [
    "# Load necessary libraries\n",
    "install.packages(\"lmtest\")\n",
    "install.packages(\"car\")\n",
    "install.packages(\"rainbow\")\n",
    "install.packages(\"tseries\")\n",
    "library(lmtest)\n",
    "library(car)\n",
    "library(rainbow)\n",
    "library(tseries)\n",
    "\n",
    "# Load the built-in dataset\n",
    "data <- mtcars"
   ]
  },
  {
   "cell_type": "code",
   "execution_count": 2,
   "metadata": {
    "vscode": {
     "languageId": "r"
    }
   },
   "outputs": [
    {
     "data": {
      "text/plain": [
       "\n",
       "Call:\n",
       "lm(formula = mpg ~ disp + hp + drat + wt, data = data)\n",
       "\n",
       "Residuals:\n",
       "    Min      1Q  Median      3Q     Max \n",
       "-3.5077 -1.9052 -0.5057  0.9821  5.6883 \n",
       "\n",
       "Coefficients:\n",
       "             Estimate Std. Error t value Pr(>|t|)    \n",
       "(Intercept) 29.148738   6.293588   4.631  8.2e-05 ***\n",
       "disp         0.003815   0.010805   0.353  0.72675    \n",
       "hp          -0.034784   0.011597  -2.999  0.00576 ** \n",
       "drat         1.768049   1.319779   1.340  0.19153    \n",
       "wt          -3.479668   1.078371  -3.227  0.00327 ** \n",
       "---\n",
       "Signif. codes:  0 '***' 0.001 '**' 0.01 '*' 0.05 '.' 0.1 ' ' 1\n",
       "\n",
       "Residual standard error: 2.602 on 27 degrees of freedom\n",
       "Multiple R-squared:  0.8376,\tAdjusted R-squared:  0.8136 \n",
       "F-statistic: 34.82 on 4 and 27 DF,  p-value: 2.704e-10\n"
      ]
     },
     "metadata": {},
     "output_type": "display_data"
    }
   ],
   "source": [
    "# Build the regression model\n",
    "modele <- lm(mpg ~ disp + hp + drat + wt, data = data)\n",
    "\n",
    "# Summary of the model\n",
    "summary(modele)"
   ]
  },
  {
   "cell_type": "code",
   "execution_count": 3,
   "metadata": {
    "vscode": {
     "languageId": "r"
    }
   },
   "outputs": [
    {
     "data": {
      "text/plain": [
       "\n",
       "\tShapiro-Wilk normality test\n",
       "\n",
       "data:  residuals(modele)\n",
       "W = 0.91661, p-value = 0.01684\n"
      ]
     },
     "metadata": {},
     "output_type": "display_data"
    }
   ],
   "source": [
    "# Test de normalité des résidus avec le test de Shapiro-Wilk (proche de Student)\n",
    "shapiro.test(residuals(modele))"
   ]
  },
  {
   "cell_type": "markdown",
   "metadata": {},
   "source": [
    "#### Interprétation:\n",
    "- Le p-value est inférieur à 0.05, indiquant que les résidus ne suivent pas une distribution normale. Cela peut suggérer des anomalies dans les résidus qui pourraient affecter l'interprétation du modèle."
   ]
  },
  {
   "cell_type": "code",
   "execution_count": 4,
   "metadata": {
    "vscode": {
     "languageId": "r"
    }
   },
   "outputs": [
    {
     "data": {
      "text/html": [
       "<style>\n",
       ".dl-inline {width: auto; margin:0; padding: 0}\n",
       ".dl-inline>dt, .dl-inline>dd {float: none; width: auto; display: inline-block}\n",
       ".dl-inline>dt::after {content: \":\\0020\"; padding-right: .5ex}\n",
       ".dl-inline>dt:not(:first-of-type) {padding-left: .5ex}\n",
       "</style><dl class=dl-inline><dt>value</dt><dd>34.8214271638176</dd><dt>numdf</dt><dd>4</dd><dt>dendf</dt><dd>27</dd></dl>\n"
      ],
      "text/latex": [
       "\\begin{description*}\n",
       "\\item[value] 34.8214271638176\n",
       "\\item[numdf] 4\n",
       "\\item[dendf] 27\n",
       "\\end{description*}\n"
      ],
      "text/markdown": [
       "value\n",
       ":   34.8214271638176numdf\n",
       ":   4dendf\n",
       ":   27\n",
       "\n"
      ],
      "text/plain": [
       "   value    numdf    dendf \n",
       "34.82143  4.00000 27.00000 "
      ]
     },
     "metadata": {},
     "output_type": "display_data"
    }
   ],
   "source": [
    "# Le test F est inclus dans le résumé du modèle\n",
    "summary(modele)$fstatistic"
   ]
  },
  {
   "cell_type": "markdown",
   "metadata": {},
   "source": [
    "#### Interprétation: \n",
    "- Le p-value est très petit (inférieur à 0.05), indiquant que le modèle global est significatif. Cela signifie que les prédicteurs sélectionnés expliquent une part significative de la variance du PIB."
   ]
  },
  {
   "cell_type": "code",
   "execution_count": 6,
   "metadata": {
    "vscode": {
     "languageId": "r"
    }
   },
   "outputs": [
    {
     "data": {
      "text/plain": [
       "\n",
       "\tRESET test\n",
       "\n",
       "data:  modele\n",
       "RESET = 3.3645, df1 = 4, df2 = 23, p-value = 0.02624\n"
      ]
     },
     "metadata": {},
     "output_type": "display_data"
    }
   ],
   "source": [
    "# Ramsey RESET test for linearity\n",
    "resettest(modele, power = 2, type = \"regressor\")"
   ]
  },
  {
   "cell_type": "markdown",
   "metadata": {},
   "source": [
    "#### Interprétation: \n",
    "- Le p-value est supérieur à 0.05, ce qui suggère qu'il n'y a pas de non-linéarité significative dans le modèle. Le modèle semble donc approprié en termes de linéarité."
   ]
  },
  {
   "cell_type": "code",
   "execution_count": 7,
   "metadata": {
    "vscode": {
     "languageId": "r"
    }
   },
   "outputs": [
    {
     "data": {
      "text/plain": [
       "\n",
       "\tBox-Ljung test\n",
       "\n",
       "data:  residuals(modele)\n",
       "X-squared = 0.35704, df = 1, p-value = 0.5502\n"
      ]
     },
     "metadata": {},
     "output_type": "display_data"
    }
   ],
   "source": [
    "# Test d'auto-corrélation des résidus\n",
    "Box.test(residuals(modele), type = \"Ljung-Box\")"
   ]
  },
  {
   "cell_type": "markdown",
   "metadata": {},
   "source": [
    "#### Interprétation: \n",
    "- Le p-value est supérieur à 0.05, indiquant qu'il n'y a pas de preuve significative d'auto-corrélation des résidus. Les résidus semblent indépendants."
   ]
  },
  {
   "cell_type": "code",
   "execution_count": 8,
   "metadata": {
    "vscode": {
     "languageId": "r"
    }
   },
   "outputs": [
    {
     "data": {
      "text/plain": [
       "\n",
       "\tDurbin-Watson test\n",
       "\n",
       "data:  modele\n",
       "DW = 1.7359, p-value = 0.1445\n",
       "alternative hypothesis: true autocorrelation is greater than 0\n"
      ]
     },
     "metadata": {},
     "output_type": "display_data"
    }
   ],
   "source": [
    "# Test d'auto-corrélation avec le test de Durbin-Watson\n",
    "dwtest(modele)"
   ]
  },
  {
   "cell_type": "markdown",
   "metadata": {},
   "source": [
    "#### Interprétation: \n",
    "- Le p-value est supérieur à 0.05, suggérant qu'il n'y a pas d'auto-corrélation significative des résidus. Cela indique que les erreurs sont indépendantes."
   ]
  },
  {
   "cell_type": "code",
   "execution_count": 9,
   "metadata": {
    "vscode": {
     "languageId": "r"
    }
   },
   "outputs": [
    {
     "data": {
      "text/plain": [
       "\n",
       "\tstudentized Breusch-Pagan test\n",
       "\n",
       "data:  modele\n",
       "BP = 1.4406, df = 4, p-value = 0.8371\n"
      ]
     },
     "metadata": {},
     "output_type": "display_data"
    },
    {
     "data": {
      "text/plain": [
       "Non-constant Variance Score Test \n",
       "Variance formula: ~ fitted.values \n",
       "Chisquare = 1.429672, Df = 1, p = 0.23182"
      ]
     },
     "metadata": {},
     "output_type": "display_data"
    }
   ],
   "source": [
    "# Test d'hétéroscédasticité de White\n",
    "bptest(modele)\n",
    "\n",
    "# Test d'hétéroscédasticité de Breusch-Pagan\n",
    "ncvTest(modele)"
   ]
  },
  {
   "cell_type": "markdown",
   "metadata": {},
   "source": [
    "#### Interprétation: \n",
    "- Pour les deux tests, les p-values sont supérieures à 0.05, indiquant qu'il n'y a pas d'hétéroscédasticité significative dans le modèle. Les variances des résidus semblent constantes."
   ]
  },
  {
   "cell_type": "markdown",
   "metadata": {},
   "source": [
    "### Propositions d'améliorations\n",
    "#### Transformations de variables:\n",
    "\n",
    "**Logarithme:** Nous pourrions appliquer une transformation logarithmique aux variables comme `disp`, `hp`, et `wt` pour rendre les résidus plus normaux.\n",
    "\n",
    "#### Ajouter des termes polynomiaux:\n",
    "\n",
    "Nous pouvons ajouter des termes quadratiques ou d'interaction (ex : `disp^2` ou `disp*hp`) pour modéliser les relations non-linéaires.\n",
    "\n",
    "#### Utilisation de modèles robustes:\n",
    "\n",
    "Nous devrions essayer des méthodes de régularisation comme Ridge ou Lasso pour améliorer la stabilité des coefficients.\n",
    "\n",
    "#### Validation croisée:\n",
    "\n",
    "Nous utiliserions la validation croisée pour vérifier la performance du modèle et éviter le surapprentissage."
   ]
  },
  {
   "cell_type": "markdown",
   "metadata": {},
   "source": [
    "### Conclusion:\n",
    "- notre modèle de régression multiple montre que des variables comme l'inflation, le taux de chômage, et les dépenses publiques aident à expliquer le PIB. Les tests montrent que le modèle est globalement bon, mais les résidus ne suivent pas parfaitement une distribution normale, ce qui signifie qu'on peut améliorer le modèle. Pour l'améliorer, on pourrait essayer des transformations des variables ou ajouter des termes quadratiques. Ces petits ajustements peuvent nous aider à obtenir des prédictions plus précises."
   ]
  }
 ],
 "metadata": {
  "kernelspec": {
   "display_name": "R",
   "language": "R",
   "name": "ir"
  },
  "language_info": {
   "codemirror_mode": "r",
   "file_extension": ".r",
   "mimetype": "text/x-r-source",
   "name": "R",
   "pygments_lexer": "r",
   "version": "4.3.2"
  }
 },
 "nbformat": 4,
 "nbformat_minor": 2
}
